{
 "cells": [
  {
   "cell_type": "markdown",
   "metadata": {},
   "source": [
    "# The goal of this project is to parse data and predict car prices.\n"
   ]
  },
  {
   "cell_type": "code",
   "execution_count": null,
   "metadata": {},
   "outputs": [],
   "source": [
    "import math\n",
    "import requests, json\n",
    "#from bs4 import BeautifulSoup   \n",
    "import numpy as np \n",
    "import pandas as pd\n",
    "from sklearn import preprocessing\n",
    "from sklearn.preprocessing import StandardScaler, LabelEncoder\n",
    "import re\n",
    "import matplotlib.pyplot as plt\n",
    "import seaborn as sns\n",
    "from sklearn import preprocessing\n",
    "from sklearn.preprocessing import OneHotEncoder\n",
    "from pandas.api.types import CategoricalDtype\n",
    "#from sklearn.metrics import mean_absolute_percentage_error\n",
    "#from sklearn.model_selection import train_test_split\n",
    "from sklearn.metrics import auc, roc_auc_score, roc_curve\n",
    "from sklearn.model_selection import train_test_split, KFold\n",
    "from sklearn.linear_model import LinearRegression\n",
    "from sklearn.ensemble import RandomForestRegressor\n",
    "from pprint import pprint\n",
    "from sklearn import datasets, linear_model\n",
    "from sklearn.tree import DecisionTreeRegressor\n",
    "from sklearn.ensemble import GradientBoostingRegressor\n",
    "from catboost import Pool, CatBoostRegressor\n",
    "from tqdm import tqdm\n",
    "from sklearn.base import clone\n",
    "from sklearn.neighbors._regression import KNeighborsRegressor\n",
    "from sklearn.svm._classes import SVR\n",
    "from sklearn.metrics import mean_absolute_error\n",
    "from sklearn.feature_selection import SelectKBest, chi2, f_classif, mutual_info_classif\n",
    "from random import randrange\n",
    "from sklearn.model_selection import GridSearchCV\n"
   ]
  },
  {
   "cell_type": "markdown",
   "metadata": {
    "pycharm": {
     "name": "#%% md\n"
    }
   },
   "source": [
    "for reproducible results"
   ]
  },
  {
   "cell_type": "code",
   "execution_count": 64,
   "metadata": {},
   "outputs": [],
   "source": [
    "RANDOM_SEED = 42\n"
   ]
  },
  {
   "cell_type": "markdown",
   "metadata": {
    "pycharm": {
     "name": "#%% md\n"
    }
   },
   "source": [
    "provided data (w/o price)"
   ]
  },
  {
   "cell_type": "code",
   "execution_count": 65,
   "metadata": {
    "scrolled": true
   },
   "outputs": [
    {
     "name": "stderr",
     "output_type": "stream",
     "text": [
      "c:\\users\\trigu\\appdata\\local\\programs\\python\\python39\\lib\\site-packages\\IPython\\core\\interactiveshell.py:3146: DtypeWarning: Columns (11,12,16,17,19,20,32,34,35,36,37,38) have mixed types.Specify dtype option on import or set low_memory=False.\n",
      "  has_raised = await self.run_ast_nodes(code_ast.body, cell_name,\n"
     ]
    }
   ],
   "source": [
    "test_cars = pd.read_csv('test_cars.csv')\n",
    "test_cars['sample'] = 1"
   ]
  },
  {
   "cell_type": "markdown",
   "metadata": {
    "pycharm": {
     "name": "#%% md\n"
    }
   },
   "source": [
    "drop columns we cannot download"
   ]
  },
  {
   "cell_type": "code",
   "execution_count": 66,
   "metadata": {
    "pycharm": {
     "name": "#%%\n"
    }
   },
   "outputs": [
    {
     "data": {
      "text/plain": [
       "25"
      ]
     },
     "execution_count": 66,
     "metadata": {},
     "output_type": "execute_result"
    }
   ],
   "source": [
    "test_cars=test_cars.drop(['car_url', 'sell_id', 'image', 'model_info',\n",
    "                          'parsing_unixtime', 'priceCurrency', 'super_gen', 'vendor', 'Unnamed: 32', 'Unnamed: 33', 'Unnamed: 34', 'Unnamed: 35', 'Unnamed: 36', 'Unnamed: 37', 'Unnamed: 38'], axis=1)\n",
    "len(test_cars.columns)"
   ]
  },
  {
   "cell_type": "code",
   "execution_count": 67,
   "metadata": {
    "pycharm": {
     "name": "#%%\n"
    }
   },
   "outputs": [
    {
     "data": {
      "text/plain": [
       "Index(['bodyType', 'brand', 'color', 'complectation_dict', 'description',\n",
       "       'engineDisplacement', 'enginePower', 'equipment_dict', 'fuelType',\n",
       "       'mileage', 'modelDate', 'model_name', 'name', 'numberOfDoors',\n",
       "       'productionDate', 'vehicleConfiguration', 'vehicleTransmission',\n",
       "       'Владельцы', 'Владение', 'ПТС', 'Привод', 'Руль', 'Состояние',\n",
       "       'Таможня', 'sample'],\n",
       "      dtype='object')"
      ]
     },
     "execution_count": 67,
     "metadata": {},
     "output_type": "execute_result"
    }
   ],
   "source": [
    "test_cars.columns"
   ]
  },
  {
   "cell_type": "markdown",
   "metadata": {
    "pycharm": {
     "name": "#%% md\n"
    }
   },
   "source": [
    "pre-downloaded latest data with price"
   ]
  },
  {
   "cell_type": "code",
   "execution_count": null,
   "metadata": {},
   "outputs": [],
   "source": [
    "\"\"\"\n",
    "auto_ru = {}\n",
    "# сделаем тестовый вызов запроса для BMW модели M6 и выведем его на экран, чтобы по нему можно было сделать функцию для создания 23 необходимых столбцов\n",
    "# но сначала установим главные параметры запроса\n",
    "mark = 'SKODA'  # марка\n",
    "model = 'OCTAVIA'  # модель\n",
    "geo_radius = 200  # радиус вокруг москвы = 200 км\n",
    "geo_id = [213]  # Москва\n",
    "top_days = \"1\"  # кол-во дней от текущей даты назад за которые запрашиваем объявления \n",
    "\n",
    "req_body = {\n",
    "                'catalog_filter' : [{\"mark\": mark, \"model\": model}],\n",
    "                'section': \"used\",\n",
    "                'category': \"cars\",\n",
    "                'sort': \"fresh_relevance_1-desc\",\n",
    "                \"top_days\": \"900\",\n",
    "                \"geo_radius\":geo_radius,\n",
    "                \"geo_id\":geo_id,\n",
    "                'page': 1\n",
    "            }\n",
    "\n",
    "response = requests.post(url, json=req_body, headers = HEADERS)\n",
    "data = response.json()\n",
    "for elem in data['offers']:\n",
    "    ad = {}\n",
    "    print(ad)\n",
    "    #auto_ru[0] = ad\n",
    "    break\n",
    "    \n",
    "iter_of_ads, iter_of_marks, old_iter_of_ads, sum_ads, sum_ads_from_dict = 0,0,0,0,0\n",
    "space = ' '\n",
    "max_page = 11\n",
    "start_time_global = time.ctime()\n",
    "for mark in marks:\n",
    "    print(mark)\n",
    "    start_time = time.ctime()\n",
    "    ms = df_marks_and_models[mark].replace(\"'\", '\"').replace('\" \"', '\", \"').replace('\"\\n \"', '\", \"')\n",
    "    # print(ms)\n",
    "    list_of_models = json.loads(ms)\n",
    "    for model in list_of_models:\n",
    "        print(model)\n",
    "        for num_page in range(1, max_page):\n",
    "            request = {\n",
    "              \"catalog_filter\": [\n",
    "                {\n",
    "                  \"mark\": mark,\n",
    "                  \"model\": model\n",
    "                }\n",
    "              ],\n",
    "              \"section\": \"used\",\n",
    "              \"category\": \"cars\",\n",
    "              \"output_type\": \"table\",\n",
    "              \"geo_radius\": 200,\n",
    "              \"geo_id\": [\n",
    "                213\n",
    "              ]\n",
    "            }\n",
    "            try:\n",
    "                response = requests.post(url, json=request, headers = HEADERS)\n",
    "                data = response.json()\n",
    "                if data['offers'] == []:\n",
    "                    break\n",
    "                else:\n",
    "                    print('.', end='')\n",
    "                    for elem in data['offers']:\n",
    "                        # print(elem)\n",
    "                        def from_elem_to_dict(d_elem, d_dict):\n",
    "                            try: d_dict['bodyType'] = d_elem['vehicle_info']['configuration']['human_name']\n",
    "                            except: d_dict['bodyType'] = None\n",
    "\n",
    "                            try: d_dict['brand'] = d_elem['vehicle_info']['mark_info']['code']\n",
    "                            except: d_dict['brand'] = None\n",
    "\n",
    "                            try: d_dict['color'] = d_elem['color_hex']\n",
    "                            except: d_dict['color'] = None\n",
    "\n",
    "                            try: d_dict['fuelType'] = d_elem['lk_summary'].split()[-1]\n",
    "                            except: d_dict['fuelType'] = None\n",
    "\n",
    "                            try: d_dict['modelDate'] = d_elem['vehicle_info']['super_gen']['year_from']\n",
    "                            except: d_dict['modelDate'] = None\n",
    "\n",
    "                            try: d_dict['name'] =  d_elem['vehicle_info']['tech_param']['human_name']\n",
    "                            except: d_dict['name'] = None\n",
    "\n",
    "                            try: d_dict['numberOfDoors'] = d_elem['vehicle_info']['configuration']['doors_count']\n",
    "                            except: d_dict['numberOfDoors'] = None\n",
    "\n",
    "                            try: d_dict['productionDate'] = d_elem['documents']['year']\n",
    "                            except: d_dict['productionDate'] = None\n",
    "\n",
    "                            try: d_dict['vehicleTransmission'] = d_elem['vehicle_info']['tech_param']['transmission']\n",
    "                            except: d_dict['vehicleTransmission'] = None\n",
    "\n",
    "                            try: d_dict['engineDisplacement'] = d_elem['vehicle_info']['tech_param']['human_name'].split()[0]\n",
    "                            except: d_dict['engineDisplacement'] = None\n",
    "\n",
    "                            try: d_dict['vehicleConfiguration'] = elem['vehicle_info']['configuration']['body_type']+' '+d_dict['vehicleTransmission']+' '+d_dict['engineDisplacement']\n",
    "                            except: d_dict['vehicleConfiguration'] = None\n",
    "\n",
    "                            try: d_dict['enginePower'] = d_elem['vehicle_info']['tech_param']['power']\n",
    "                            except: d_dict['enginePower'] = None\n",
    "\n",
    "                            try: d_dict['description'] = d_elem['description']\n",
    "                            except: d_dict['description'] = None\n",
    "\n",
    "                            try: d_dict['mileage'] = d_elem['state']['mileage']\n",
    "                            except: d_dict['mileage'] = None\n",
    "\n",
    "                            try: d_dict['Комплектация'] = d_elem['vehicle_info']['complectation']\n",
    "                            except: d_dict['Комплектация'] = None\n",
    "\n",
    "                            try: d_dict['Привод'] = d_elem['lk_summary'].split(', ')[-2]\n",
    "                            except: d_dict['Привод'] = None\n",
    "\n",
    "                            try: d_dict['Руль'] = d_elem['vehicle_info']['steering_wheel']\n",
    "                            except: d_dict['Руль'] = None\n",
    "\n",
    "                            try: d_dict['Владельцы'] = d_elem['documents']['owners_number']\n",
    "                            except: d_dict['Владельцы'] = None\n",
    "\n",
    "                            try: d_dict['ПТС'] = d_elem['documents']['pts']\n",
    "                            except: d_dict['ПТС'] = None\n",
    "\n",
    "                            try: d_dict['Таможня'] = d_elem['documents']['custom_cleared']\n",
    "                            except: d_dict['Таможня'] = None\n",
    "\n",
    "                            try: d_dict['Владение'] =  d_elem['documents']['purchase_date']\n",
    "                            except: d_dict['Владение'] = None\n",
    "\n",
    "                            try: d_dict['price'] = d_elem['price_info']['RUR']\n",
    "                            except: d_dict['price'] = None\n",
    "\n",
    "                            try: d_dict['Состояние'] = d_elem['state_not_beaten']\n",
    "                            except: d_dict['Состояние'] = None\n",
    "\n",
    "                            # дата размещения объявления решил добавить \n",
    "                            try: d_dict['start_date'] =  d_elem['additional_info']['hot_info']['start_time']\n",
    "                            except: d_dict['start_date'] = None\n",
    "\n",
    "                            # статус объявления \n",
    "                            try: d_dict['hidden'] =  d_elemelem['additional_info']['hidden']\n",
    "                            except: d_dict['hidden'] = None\n",
    "\n",
    "                            d_dict['equipment_dict'] = d_elem['vehicle_info']['equipment']\n",
    "                            # модель \n",
    "                            d_dict['model_name'] =  model\n",
    "\n",
    "                            return d_dict\n",
    "                        '''\n",
    "                        ad = {\n",
    "                            'bodyType': elem['vehicle_info']['configuration']['body_type'],\n",
    "                            'brand': mark, \n",
    "                            #'car_url',\n",
    "                            'color': color(),\n",
    "                            #'complectation_dict': '',\n",
    "                            'description': '', \n",
    "                            'engineDisplacement': '',\n",
    "                            'enginePower': '', \n",
    "                            #'equipment_dict': '',\n",
    "                            'fuelType': '', \n",
    "                            #'image': '', \n",
    "                            'mileage': '', \n",
    "                            'modelDate': '',\n",
    "                            #'model_info': '',\n",
    "                            'model_name': '',\n",
    "                            'name': '', \n",
    "                            'numberOfDoors': '',\n",
    "                            #'parsing_unixtime': '',\n",
    "                            #'priceCurrency': '',\n",
    "                            'productionDate': '', \n",
    "                            #'sell_id': '', \n",
    "                            #'super_gen': '',\n",
    "                            'vehicleConfiguration': '',\n",
    "                            'vehicleTransmission': '', \n",
    "                            #'vendor': '',\n",
    "                            'Владельцы': '',\n",
    "                            'Владение': '', \n",
    "                            'ПТС': '',\n",
    "                            'Привод': '', \n",
    "                            'Руль': '', \n",
    "                            'Состояние': '',\n",
    "                            'Таможня': ''}\n",
    "                        '''\n",
    "                        auto_ru[iter_of_ads] = from_elem_to_dict(elem, {})\n",
    "                        iter_of_ads += 1\n",
    "            except: \n",
    "                break\n",
    "                #time.sleep(3)\n",
    "print (f'Всего спарсили {iter_of_ads} строк, начало {start_time_global} конец {time.ctime()}')\n",
    "\"\"\""
   ]
  },
  {
   "cell_type": "code",
   "execution_count": 68,
   "metadata": {},
   "outputs": [],
   "source": [
    "data_par = pd.read_csv('all_auto_ru_07_12_2020-11.csv')"
   ]
  },
  {
   "cell_type": "markdown",
   "metadata": {},
   "source": [
    "Delete repeatable rows"
   ]
  },
  {
   "cell_type": "code",
   "execution_count": 69,
   "metadata": {
    "pycharm": {
     "name": "#%%\n"
    }
   },
   "outputs": [
    {
     "data": {
      "text/plain": [
       "26"
      ]
     },
     "execution_count": 69,
     "metadata": {},
     "output_type": "execute_result"
    }
   ],
   "source": [
    "\n",
    "data_par.drop_duplicates(inplace = True)\n",
    "data_par['sample']=0\n",
    "\n",
    "data_par=data_par.drop(['start_date', 'hidden'], axis=1)\n",
    "len(data_par.columns)"
   ]
  },
  {
   "cell_type": "code",
   "execution_count": 70,
   "metadata": {
    "pycharm": {
     "name": "#%%\n"
    }
   },
   "outputs": [
    {
     "data": {
      "text/plain": [
       "Index(['bodyType', 'brand', 'color', 'fuelType', 'modelDate', 'name',\n",
       "       'numberOfDoors', 'productionDate', 'vehicleTransmission',\n",
       "       'engineDisplacement', 'vehicleConfiguration', 'enginePower',\n",
       "       'description', 'mileage', 'complectation_dict', 'Привод', 'Руль',\n",
       "       'Владельцы', 'ПТС', 'Таможня', 'Владение', 'price', 'Состояние',\n",
       "       'equipment_dict', 'model_name', 'sample'],\n",
       "      dtype='object')"
      ]
     },
     "execution_count": 70,
     "metadata": {},
     "output_type": "execute_result"
    }
   ],
   "source": [
    "data_par.columns"
   ]
  },
  {
   "cell_type": "code",
   "execution_count": 71,
   "metadata": {
    "pycharm": {
     "name": "#%%\n"
    }
   },
   "outputs": [
    {
     "data": {
      "text/plain": [
       "bodyType                    0\n",
       "brand                       0\n",
       "color                       0\n",
       "fuelType                    0\n",
       "modelDate                   0\n",
       "name                        1\n",
       "numberOfDoors               0\n",
       "productionDate              0\n",
       "vehicleTransmission         1\n",
       "engineDisplacement          1\n",
       "vehicleConfiguration        1\n",
       "enginePower                 1\n",
       "description               763\n",
       "mileage                     0\n",
       "complectation_dict          0\n",
       "Привод                      1\n",
       "Руль                        0\n",
       "Владельцы                   3\n",
       "ПТС                         3\n",
       "Таможня                     0\n",
       "Владение                14279\n",
       "price                       1\n",
       "Состояние               20635\n",
       "equipment_dict              0\n",
       "model_name                  0\n",
       "sample                      0\n",
       "dtype: int64"
      ]
     },
     "execution_count": 71,
     "metadata": {},
     "output_type": "execute_result"
    }
   ],
   "source": [
    "data_par.isnull().sum()"
   ]
  },
  {
   "cell_type": "markdown",
   "metadata": {},
   "source": [
    "Remove lines with incorrect data and gaps"
   ]
  },
  {
   "cell_type": "code",
   "execution_count": 72,
   "metadata": {
    "pycharm": {
     "name": "#%%\n"
    }
   },
   "outputs": [],
   "source": [
    "data_par = data_par[data_par['name'].notna()]\n",
    "data_par = data_par[data_par['Владельцы'].notna()]\n",
    "data_par = data_par[data_par['ПТС'].notna()]\n",
    "data_par = data_par[data_par['price'].notna()]\n",
    "data_par = data_par[data_par['enginePower'] > 33]   # drop a few strange vehicles\n"
   ]
  },
  {
   "cell_type": "code",
   "execution_count": 73,
   "metadata": {
    "pycharm": {
     "name": "#%%\n"
    }
   },
   "outputs": [
    {
     "data": {
      "text/plain": [
       "bodyType                    0\n",
       "brand                       0\n",
       "color                       0\n",
       "fuelType                    0\n",
       "modelDate                   0\n",
       "name                        0\n",
       "numberOfDoors               0\n",
       "productionDate              0\n",
       "vehicleTransmission         0\n",
       "engineDisplacement          0\n",
       "vehicleConfiguration        0\n",
       "enginePower                 0\n",
       "description               761\n",
       "mileage                     0\n",
       "complectation_dict          0\n",
       "Привод                      0\n",
       "Руль                        0\n",
       "Владельцы                   0\n",
       "ПТС                         0\n",
       "Таможня                     0\n",
       "Владение                14220\n",
       "price                       0\n",
       "Состояние               20566\n",
       "equipment_dict              0\n",
       "model_name                  0\n",
       "sample                      0\n",
       "dtype: int64"
      ]
     },
     "execution_count": 73,
     "metadata": {},
     "output_type": "execute_result"
    }
   ],
   "source": [
    "data_par.isnull().sum()"
   ]
  },
  {
   "cell_type": "code",
   "execution_count": 74,
   "metadata": {
    "pycharm": {
     "name": "#%%\n"
    }
   },
   "outputs": [
    {
     "data": {
      "text/plain": [
       "\"\\ne = data_par['enginePower'].value_counts()\\nfor k, v in dict(e).items():\\n    print(k, v)\\n\""
      ]
     },
     "execution_count": 74,
     "metadata": {},
     "output_type": "execute_result"
    }
   ],
   "source": [
    "\"\"\"\n",
    "e = data_par['enginePower'].value_counts()\n",
    "for k, v in dict(e).items():\n",
    "    print(k, v)\n",
    "\"\"\""
   ]
  },
  {
   "cell_type": "markdown",
   "metadata": {},
   "source": [
    "Merge both Datasets"
   ]
  },
  {
   "cell_type": "code",
   "execution_count": 75,
   "metadata": {
    "pycharm": {
     "name": "#%%\n"
    }
   },
   "outputs": [],
   "source": [
    "data = test_cars.append(data_par, sort=False).reset_index(drop=True)\n",
    "data = data.drop(['Состояние'], axis=1)\n",
    "data = data.drop(['name'], axis=1) # DSG 1.8 AMT (152 л.с.)"
   ]
  },
  {
   "cell_type": "markdown",
   "metadata": {},
   "source": [
    "rename the columns"
   ]
  },
  {
   "cell_type": "code",
   "execution_count": 76,
   "metadata": {
    "pycharm": {
     "name": "#%%\n"
    }
   },
   "outputs": [
    {
     "data": {
      "text/html": [
       "<div>\n",
       "<style scoped>\n",
       "    .dataframe tbody tr th:only-of-type {\n",
       "        vertical-align: middle;\n",
       "    }\n",
       "\n",
       "    .dataframe tbody tr th {\n",
       "        vertical-align: top;\n",
       "    }\n",
       "\n",
       "    .dataframe thead th {\n",
       "        text-align: right;\n",
       "    }\n",
       "</style>\n",
       "<table border=\"1\" class=\"dataframe\">\n",
       "  <thead>\n",
       "    <tr style=\"text-align: right;\">\n",
       "      <th></th>\n",
       "      <th>bodyType</th>\n",
       "      <th>brand</th>\n",
       "      <th>color</th>\n",
       "      <th>complectation_dict</th>\n",
       "      <th>description</th>\n",
       "      <th>engineDisplacement</th>\n",
       "      <th>enginePower</th>\n",
       "      <th>equipment_dict</th>\n",
       "      <th>fuelType</th>\n",
       "      <th>mileage</th>\n",
       "      <th>...</th>\n",
       "      <th>vehicleConfiguration</th>\n",
       "      <th>vehicleTransmission</th>\n",
       "      <th>owners</th>\n",
       "      <th>Possession</th>\n",
       "      <th>PTS</th>\n",
       "      <th>drive_unit</th>\n",
       "      <th>rudder</th>\n",
       "      <th>choky</th>\n",
       "      <th>sample</th>\n",
       "      <th>price</th>\n",
       "    </tr>\n",
       "  </thead>\n",
       "  <tbody>\n",
       "    <tr>\n",
       "      <th>0</th>\n",
       "      <td>лифтбек</td>\n",
       "      <td>SKODA</td>\n",
       "      <td>синий</td>\n",
       "      <td>NaN</td>\n",
       "      <td>Все автомобили, представленные в продаже, прох...</td>\n",
       "      <td>1.2 LTR</td>\n",
       "      <td>105 N12</td>\n",
       "      <td>{\"engine-proof\":true,\"tinted-glass\":true,\"airb...</td>\n",
       "      <td>бензин</td>\n",
       "      <td>74000</td>\n",
       "      <td>...</td>\n",
       "      <td>LIFTBACK ROBOT 1.2</td>\n",
       "      <td>роботизированная</td>\n",
       "      <td>3 или более</td>\n",
       "      <td>NaN</td>\n",
       "      <td>Оригинал</td>\n",
       "      <td>передний</td>\n",
       "      <td>Левый</td>\n",
       "      <td>Растаможен</td>\n",
       "      <td>1</td>\n",
       "      <td>NaN</td>\n",
       "    </tr>\n",
       "    <tr>\n",
       "      <th>1</th>\n",
       "      <td>лифтбек</td>\n",
       "      <td>SKODA</td>\n",
       "      <td>чёрный</td>\n",
       "      <td>NaN</td>\n",
       "      <td>ЛОТ: 01217195\\nАвтопрага Север\\nДанный автомоб...</td>\n",
       "      <td>1.6 LTR</td>\n",
       "      <td>110 N12</td>\n",
       "      <td>{\"cruise-control\":true,\"asr\":true,\"esp\":true,\"...</td>\n",
       "      <td>бензин</td>\n",
       "      <td>60563</td>\n",
       "      <td>...</td>\n",
       "      <td>LIFTBACK MECHANICAL 1.6</td>\n",
       "      <td>механическая</td>\n",
       "      <td>1 владелец</td>\n",
       "      <td>NaN</td>\n",
       "      <td>Оригинал</td>\n",
       "      <td>передний</td>\n",
       "      <td>Левый</td>\n",
       "      <td>Растаможен</td>\n",
       "      <td>1</td>\n",
       "      <td>NaN</td>\n",
       "    </tr>\n",
       "    <tr>\n",
       "      <th>2</th>\n",
       "      <td>лифтбек</td>\n",
       "      <td>SKODA</td>\n",
       "      <td>серый</td>\n",
       "      <td>{\"id\":\"20026336\",\"name\":\"Ambition\",\"available_...</td>\n",
       "      <td>Все автомобили, представленные в продаже, прох...</td>\n",
       "      <td>1.8 LTR</td>\n",
       "      <td>152 N12</td>\n",
       "      <td>{\"cruise-control\":true,\"tinted-glass\":true,\"es...</td>\n",
       "      <td>бензин</td>\n",
       "      <td>88000</td>\n",
       "      <td>...</td>\n",
       "      <td>LIFTBACK ROBOT 1.8</td>\n",
       "      <td>роботизированная</td>\n",
       "      <td>1 владелец</td>\n",
       "      <td>NaN</td>\n",
       "      <td>Оригинал</td>\n",
       "      <td>передний</td>\n",
       "      <td>Левый</td>\n",
       "      <td>Растаможен</td>\n",
       "      <td>1</td>\n",
       "      <td>NaN</td>\n",
       "    </tr>\n",
       "  </tbody>\n",
       "</table>\n",
       "<p>3 rows × 24 columns</p>\n",
       "</div>"
      ],
      "text/plain": [
       "  bodyType  brand   color                                 complectation_dict  \\\n",
       "0  лифтбек  SKODA   синий                                                NaN   \n",
       "1  лифтбек  SKODA  чёрный                                                NaN   \n",
       "2  лифтбек  SKODA   серый  {\"id\":\"20026336\",\"name\":\"Ambition\",\"available_...   \n",
       "\n",
       "                                         description engineDisplacement  \\\n",
       "0  Все автомобили, представленные в продаже, прох...            1.2 LTR   \n",
       "1  ЛОТ: 01217195\\nАвтопрага Север\\nДанный автомоб...            1.6 LTR   \n",
       "2  Все автомобили, представленные в продаже, прох...            1.8 LTR   \n",
       "\n",
       "  enginePower                                     equipment_dict fuelType  \\\n",
       "0     105 N12  {\"engine-proof\":true,\"tinted-glass\":true,\"airb...   бензин   \n",
       "1     110 N12  {\"cruise-control\":true,\"asr\":true,\"esp\":true,\"...   бензин   \n",
       "2     152 N12  {\"cruise-control\":true,\"tinted-glass\":true,\"es...   бензин   \n",
       "\n",
       "  mileage  ...     vehicleConfiguration vehicleTransmission       owners  \\\n",
       "0   74000  ...       LIFTBACK ROBOT 1.2    роботизированная  3 или более   \n",
       "1   60563  ...  LIFTBACK MECHANICAL 1.6        механическая   1 владелец   \n",
       "2   88000  ...       LIFTBACK ROBOT 1.8    роботизированная   1 владелец   \n",
       "\n",
       "  Possession       PTS drive_unit rudder       choky sample price  \n",
       "0        NaN  Оригинал   передний  Левый  Растаможен      1   NaN  \n",
       "1        NaN  Оригинал   передний  Левый  Растаможен      1   NaN  \n",
       "2        NaN  Оригинал   передний  Левый  Растаможен      1   NaN  \n",
       "\n",
       "[3 rows x 24 columns]"
      ]
     },
     "execution_count": 76,
     "metadata": {},
     "output_type": "execute_result"
    }
   ],
   "source": [
    "data.columns =  ['bodyType', 'brand', 'color', 'complectation_dict', 'description',\n",
    "       'engineDisplacement', 'enginePower', 'equipment_dict', 'fuelType',\n",
    "       'mileage', 'modelDate', 'model_name', 'numberOfDoors',\n",
    "       'productionDate', 'vehicleConfiguration', 'vehicleTransmission',\n",
    "       'owners', 'Possession', 'PTS', 'drive_unit', 'rudder',\n",
    "       'choky', 'sample', 'price']\n",
    "data.head(3)"
   ]
  },
  {
   "cell_type": "markdown",
   "metadata": {},
   "source": [
    "Fill some of Nans with popular values, in the cases where there too much Nuns fill gaps with \"unknown\""
   ]
  },
  {
   "cell_type": "code",
   "execution_count": 77,
   "metadata": {},
   "outputs": [],
   "source": [
    "nul_col=['fuelType', 'PTS']\n",
    "for col in data[nul_col]:\n",
    "    ch=data[col].value_counts().index[0]\n",
    "    data[col]=data[col].fillna(ch)\n",
    "unkn_col=['description', 'Possession']\n",
    "for col in data[unkn_col]:\n",
    "    data[col]=data[col].fillna('unknown')\n",
    "    "
   ]
  },
  {
   "cell_type": "code",
   "execution_count": 78,
   "metadata": {
    "scrolled": true
   },
   "outputs": [
    {
     "data": {
      "text/plain": [
       "bodyType                    0\n",
       "brand                       0\n",
       "color                       0\n",
       "complectation_dict      28268\n",
       "description                 0\n",
       "engineDisplacement          0\n",
       "enginePower                 0\n",
       "equipment_dict           9992\n",
       "fuelType                    0\n",
       "mileage                     0\n",
       "modelDate                   0\n",
       "model_name                  0\n",
       "numberOfDoors               0\n",
       "productionDate              0\n",
       "vehicleConfiguration        0\n",
       "vehicleTransmission         0\n",
       "owners                      0\n",
       "Possession                  0\n",
       "PTS                         0\n",
       "drive_unit                  0\n",
       "rudder                      0\n",
       "choky                       0\n",
       "sample                      0\n",
       "price                   34686\n",
       "dtype: int64"
      ]
     },
     "execution_count": 78,
     "metadata": {},
     "output_type": "execute_result"
    }
   ],
   "source": [
    "data.isnull().sum()"
   ]
  },
  {
   "cell_type": "markdown",
   "metadata": {},
   "source": [
    "delete rows containing unique values in columns that cannot be unique"
   ]
  },
  {
   "cell_type": "code",
   "execution_count": 79,
   "metadata": {
    "scrolled": false
   },
   "outputs": [
    {
     "data": {
      "text/plain": [
       "\"\\ncolumns_to_clean=['bodyType', 'brand',  'engineDisplacement',\\n       'enginePower',  'fuelType', 'modelDate',\\n       'model_name',  'numberOfDoors', 'productionDate',\\n       'vehicleConfiguration', 'vehicleTransmission', 'owners', 'Possession',\\n       'PTS', 'drive_unit', 'rudder',  'choky' ]\\nfor col in columns_to_clean:\\n    \\n    #data_sub=data[data['sample']==1]\\n    data = data[data[col].isin(data[col].value_counts()[data[col].value_counts()>5].index)]\\n\\ndata.head(3)\\n\""
      ]
     },
     "execution_count": 79,
     "metadata": {},
     "output_type": "execute_result"
    }
   ],
   "source": [
    "'''\n",
    "columns_to_clean=['bodyType', 'brand',  'engineDisplacement',\n",
    "       'enginePower',  'fuelType', 'modelDate',\n",
    "       'model_name',  'numberOfDoors', 'productionDate',\n",
    "       'vehicleConfiguration', 'vehicleTransmission', 'owners', 'Possession',\n",
    "       'PTS', 'drive_unit', 'rudder',  'choky' ]\n",
    "for col in columns_to_clean:\n",
    "    \n",
    "    #data_sub=data[data['sample']==1]\n",
    "    data = data[data[col].isin(data[col].value_counts()[data[col].value_counts()>5].index)]\n",
    "\n",
    "data.head(3)\n",
    "'''"
   ]
  },
  {
   "cell_type": "code",
   "execution_count": 80,
   "metadata": {},
   "outputs": [
    {
     "data": {
      "text/plain": [
       "\"\\ncolumns_to_clean_sample=['bodyType', 'brand',  'engineDisplacement',\\n       'enginePower',  'fuelType', 'modelDate',\\n       'model_name',  'numberOfDoors', 'productionDate',\\n       'vehicleConfiguration', 'vehicleTransmission', 'Владельцы', 'Владение', 'ПТС',\\n       'Привод', 'Руль', 'Состояние', 'Таможня' ]\\n\""
      ]
     },
     "execution_count": 80,
     "metadata": {},
     "output_type": "execute_result"
    }
   ],
   "source": [
    "'''\n",
    "columns_to_clean_sample=['bodyType', 'brand',  'engineDisplacement',\n",
    "       'enginePower',  'fuelType', 'modelDate',\n",
    "       'model_name',  'numberOfDoors', 'productionDate',\n",
    "       'vehicleConfiguration', 'vehicleTransmission', 'Владельцы', 'Владение', 'ПТС',\n",
    "       'Привод', 'Руль', 'Состояние', 'Таможня' ]\n",
    "'''       "
   ]
  },
  {
   "cell_type": "code",
   "execution_count": 81,
   "metadata": {},
   "outputs": [
    {
     "data": {
      "text/plain": [
       "'\\nfor col in columns_to_clean_sample:\\n    sample_submission = sample_submission[sample_submission[col].isin(sample_submission[col].value_counts()[sample_submission[col].value_counts()>5].index)]\\nsample_submission.shape  \\n'"
      ]
     },
     "execution_count": 81,
     "metadata": {},
     "output_type": "execute_result"
    }
   ],
   "source": [
    "'''\n",
    "for col in columns_to_clean_sample:\n",
    "    sample_submission = sample_submission[sample_submission[col].isin(sample_submission[col].value_counts()[sample_submission[col].value_counts()>5].index)]\n",
    "sample_submission.shape  \n",
    "'''"
   ]
  },
  {
   "cell_type": "markdown",
   "metadata": {},
   "source": [
    "# Numerical features"
   ]
  },
  {
   "cell_type": "markdown",
   "metadata": {},
   "source": [
    "Columns \"enginePower\", 'engineDisplacement', 'owners' have dirty values, however the contain also some numbers. Lets take them"
   ]
  },
  {
   "cell_type": "code",
   "execution_count": 82,
   "metadata": {
    "pycharm": {
     "name": "#%%\n"
    }
   },
   "outputs": [
    {
     "data": {
      "text/plain": [
       "249 N12    1708\n",
       "150 N12    1698\n",
       "150.0      1112\n",
       "110 N12    1039\n",
       "170 N12     976\n",
       "           ... \n",
       "564.0         1\n",
       "329.0         1\n",
       "562.0         1\n",
       "552.0         1\n",
       "2 ключа       1\n",
       "Name: enginePower, Length: 725, dtype: int64"
      ]
     },
     "execution_count": 82,
     "metadata": {},
     "output_type": "execute_result"
    }
   ],
   "source": [
    "data[\"enginePower\"].value_counts()"
   ]
  },
  {
   "cell_type": "code",
   "execution_count": 83,
   "metadata": {
    "scrolled": true
   },
   "outputs": [],
   "source": [
    "def take_head(s):\n",
    "    return str(s).split(\" \")[0]\n",
    "\n",
    "data[\"enginePower\"]=data[\"enginePower\"].map(lambda s: take_head(s))\n",
    "data['engineDisplacement'] = data['engineDisplacement'].map(lambda s: take_head(s))\n",
    "data['owners'] = data['owners'].map(lambda s: take_head(s))\n",
    "#data['owners'].apply(splitting)"
   ]
  },
  {
   "cell_type": "markdown",
   "metadata": {},
   "source": [
    "Some columns look numeric, but their value has type \"str\""
   ]
  },
  {
   "cell_type": "code",
   "execution_count": 84,
   "metadata": {},
   "outputs": [],
   "source": [
    "def convert_to_int(col):\n",
    "    def reg_clien(stringa):\n",
    "        stringa=str(stringa).strip()\n",
    "        try:\n",
    "            res=re.findall('\\d+\\.?\\d+', string=str(stringa))[0]\n",
    "        except: \n",
    "            res = '0'\n",
    "        return res\n",
    "    \n",
    "    data[col] = data[col].fillna('0')\n",
    "    data[col] = data[col].map(lambda a: reg_clien(a))\n",
    "    data[col] = data[col].astype(np.float64)\n",
    "    #data[col].astype(np.int32, inplace=True)\n",
    "        \n",
    "\n",
    "\n",
    "for col in ['mileage', \"productionDate\", \"enginePower\", 'engineDisplacement', 'modelDate', 'owners' ]:\n",
    "    convert_to_int(col)\n",
    "\n",
    "\n"
   ]
  },
  {
   "cell_type": "code",
   "execution_count": 85,
   "metadata": {
    "pycharm": {
     "name": "#%%\n"
    }
   },
   "outputs": [
    {
     "data": {
      "text/plain": [
       "5                         17631\n",
       "4                         13339\n",
       "5                         12609\n",
       "4                          7666\n",
       "2                          1242\n",
       "2                          1172\n",
       "3                           958\n",
       "3                           618\n",
       "0                             9\n",
       "2.0 CVT (144 л.с.)            1\n",
       "1.6 AT (98 л.с.)              1\n",
       "1.8 AT (152 л.с.)             1\n",
       "бензин                        1\n",
       "0                             1\n",
       "320i 2.0 AT (156 л.с.)        1\n",
       "523i 2.5 AT (170 л.с.)        1\n",
       "18i 2.0 AT (150 л.с.)         1\n",
       "Name: numberOfDoors, dtype: int64"
      ]
     },
     "execution_count": 85,
     "metadata": {},
     "output_type": "execute_result"
    }
   ],
   "source": [
    "data['numberOfDoors'].value_counts()"
   ]
  },
  {
   "cell_type": "code",
   "execution_count": 86,
   "metadata": {},
   "outputs": [],
   "source": [
    "def doors(row):\n",
    "    try:\n",
    "        return int(row['numberOfDoors'].strip())\n",
    "    except:\n",
    "        return 5\n",
    "data['numberOfDoors']=data.apply(lambda row:  doors(row), axis=1 )"
   ]
  },
  {
   "cell_type": "markdown",
   "metadata": {},
   "source": [
    "check that these columns  are really numeric"
   ]
  },
  {
   "cell_type": "code",
   "execution_count": 87,
   "metadata": {},
   "outputs": [
    {
     "name": "stdout",
     "output_type": "stream",
     "text": [
      "float64\n",
      "float64\n",
      "float64\n",
      "float64\n",
      "float64\n",
      "float64\n",
      "int64\n"
     ]
    }
   ],
   "source": [
    "for col in ['mileage', \"productionDate\", \"enginePower\", 'engineDisplacement', 'modelDate', 'owners', 'numberOfDoors' ]:\n",
    "    print(data[col].dtypes)"
   ]
  },
  {
   "cell_type": "code",
   "execution_count": 88,
   "metadata": {},
   "outputs": [
    {
     "name": "stderr",
     "output_type": "stream",
     "text": [
      "c:\\users\\trigu\\appdata\\local\\programs\\python\\python39\\lib\\site-packages\\seaborn\\distributions.py:2557: FutureWarning: `distplot` is a deprecated function and will be removed in a future version. Please adapt your code to use either `displot` (a figure-level function with similar flexibility) or `histplot` (an axes-level function for histograms).\n",
      "  warnings.warn(msg, FutureWarning)\n"
     ]
    },
    {
     "data": {
      "image/png": "[encoded data removed]",
      "text/plain": [
       "<Figure size 432x288 with 1 Axes>"
      ]
     },
     "metadata": {
      "needs_background": "light"
     },
     "output_type": "display_data"
    }
   ],
   "source": [
    "plt.figure()\n",
    "sns.distplot(data['mileage'])\n",
    "plt.title(col)\n",
    "plt.show()\n",
    "    "
   ]
  },
  {
   "cell_type": "code",
   "execution_count": 89,
   "metadata": {},
   "outputs": [],
   "source": [
    "X_num = data[['mileage', \"productionDate\", \"enginePower\", 'engineDisplacement', 'modelDate', 'owners', 'numberOfDoors']][data['sample']==0]\n",
    "X_num_sub = data[['mileage', \"productionDate\", \"enginePower\", 'engineDisplacement', 'modelDate', 'owners', 'numberOfDoors']][data['sample']==1]"
   ]
  },
  {
   "cell_type": "markdown",
   "metadata": {},
   "source": [
    "# Binary features"
   ]
  },
  {
   "cell_type": "markdown",
   "metadata": {},
   "source": [
    "Columns 'drive_unit','rudder','choky', 'PTS' have binar values, but they need to be cleaned"
   ]
  },
  {
   "cell_type": "code",
   "execution_count": 90,
   "metadata": {},
   "outputs": [
    {
     "data": {
      "text/plain": [
       "Оригинал              30098\n",
       "ORIGINAL              18018\n",
       "Дубликат               4585\n",
       "DUPLICATE              2548\n",
       "1085512260                1\n",
       "9 лет и 10 месяцев        1\n",
       "3 года и 6 месяцев        1\n",
       "Name: PTS, dtype: int64"
      ]
     },
     "execution_count": 90,
     "metadata": {},
     "output_type": "execute_result"
    }
   ],
   "source": [
    "data['PTS'].value_counts()"
   ]
  },
  {
   "cell_type": "code",
   "execution_count": 91,
   "metadata": {},
   "outputs": [
    {
     "data": {
      "text/plain": [
       "ORIGINAL              48116\n",
       "DUPLICATE              7133\n",
       "1085512260                1\n",
       "9 лет и 10 месяцев        1\n",
       "3 года и 6 месяцев        1\n",
       "Name: PTS, dtype: int64"
      ]
     },
     "execution_count": 91,
     "metadata": {},
     "output_type": "execute_result"
    }
   ],
   "source": [
    "data['PTS'] = data['PTS'].str.replace('Оригинал', 'ORIGINAL')\n",
    "data['PTS'] = data['PTS'].str.replace('Дубликат', 'DUPLICATE')\n",
    "data['PTS'].value_counts()"
   ]
  },
  {
   "cell_type": "code",
   "execution_count": 92,
   "metadata": {},
   "outputs": [
    {
     "data": {
      "text/plain": [
       "LEFT                             52760\n",
       "RIGHT                             2485\n",
       "задний                               3\n",
       "передний                             3\n",
       "ALLROAD_5_DOORS AUTOMATIC 4.6        1\n",
       "Name: rudder, dtype: int64"
      ]
     },
     "execution_count": 92,
     "metadata": {},
     "output_type": "execute_result"
    }
   ],
   "source": [
    "data['rudder'] = data['rudder'].str.replace('Левый', 'LEFT')\n",
    "data['rudder'] = data['rudder'].str.replace('Правый', 'RIGHT')\n",
    "data['rudder'].value_counts()"
   ]
  },
  {
   "cell_type": "code",
   "execution_count": 93,
   "metadata": {},
   "outputs": [],
   "source": [
    "data['choky']=data['choky'].astype('str')"
   ]
  },
  {
   "cell_type": "code",
   "execution_count": 94,
   "metadata": {
    "scrolled": true
   },
   "outputs": [],
   "source": [
    "X_bin = data[['drive_unit','rudder','PTS','choky']]\n",
    "#bin_cols = ['drive_unit','rudder','PTS','choky']\n"
   ]
  },
  {
   "cell_type": "markdown",
   "metadata": {},
   "source": [
    "Apply LabelEncoder for our binar features"
   ]
  },
  {
   "cell_type": "code",
   "execution_count": 95,
   "metadata": {},
   "outputs": [
    {
     "name": "stderr",
     "output_type": "stream",
     "text": [
      "<ipython-input-95-13b434733599>:4: SettingWithCopyWarning: \n",
      "A value is trying to be set on a copy of a slice from a DataFrame.\n",
      "Try using .loc[row_indexer,col_indexer] = value instead\n",
      "\n",
      "See the caveats in the documentation: https://pandas.pydata.org/pandas-docs/stable/user_guide/indexing.html#returning-a-view-versus-a-copy\n",
      "  X_bin[column] = label_encoder.fit_transform(X_bin[column])\n"
     ]
    },
    {
     "data": {
      "text/html": [
       "<div>\n",
       "<style scoped>\n",
       "    .dataframe tbody tr th:only-of-type {\n",
       "        vertical-align: middle;\n",
       "    }\n",
       "\n",
       "    .dataframe tbody tr th {\n",
       "        vertical-align: top;\n",
       "    }\n",
       "\n",
       "    .dataframe thead th {\n",
       "        text-align: right;\n",
       "    }\n",
       "</style>\n",
       "<table border=\"1\" class=\"dataframe\">\n",
       "  <thead>\n",
       "    <tr style=\"text-align: right;\">\n",
       "      <th></th>\n",
       "      <th>drive_unit</th>\n",
       "      <th>rudder</th>\n",
       "      <th>PTS</th>\n",
       "      <th>choky</th>\n",
       "    </tr>\n",
       "  </thead>\n",
       "  <tbody>\n",
       "    <tr>\n",
       "      <th>0</th>\n",
       "      <td>4</td>\n",
       "      <td>1</td>\n",
       "      <td>4</td>\n",
       "      <td>3</td>\n",
       "    </tr>\n",
       "    <tr>\n",
       "      <th>1</th>\n",
       "      <td>4</td>\n",
       "      <td>1</td>\n",
       "      <td>4</td>\n",
       "      <td>3</td>\n",
       "    </tr>\n",
       "    <tr>\n",
       "      <th>2</th>\n",
       "      <td>4</td>\n",
       "      <td>1</td>\n",
       "      <td>4</td>\n",
       "      <td>3</td>\n",
       "    </tr>\n",
       "  </tbody>\n",
       "</table>\n",
       "</div>"
      ],
      "text/plain": [
       "   drive_unit  rudder  PTS  choky\n",
       "0           4       1    4      3\n",
       "1           4       1    4      3\n",
       "2           4       1    4      3"
      ]
     },
     "execution_count": 95,
     "metadata": {},
     "output_type": "execute_result"
    }
   ],
   "source": [
    "label_encoder = LabelEncoder()\n",
    "\n",
    "for column in X_bin.columns:\n",
    "    X_bin[column] = label_encoder.fit_transform(X_bin[column])\n",
    "X_bin.head(3)"
   ]
  },
  {
   "cell_type": "markdown",
   "metadata": {},
   "source": [
    "# Categorical features"
   ]
  },
  {
   "cell_type": "code",
   "execution_count": 96,
   "metadata": {
    "pycharm": {
     "name": "#%%\n"
    }
   },
   "outputs": [],
   "source": [
    "data[\"bodyType\"]=data[\"bodyType\"].map(lambda s: s.lower().strip())"
   ]
  },
  {
   "cell_type": "code",
   "execution_count": 97,
   "metadata": {},
   "outputs": [
    {
     "data": {
      "text/plain": [
       "\"\\nfor col in ['bodyType', 'brand', 'color',   'fuelType',\\n       'model_name',   'vehicleTransmission']:\\n    col_to_show=data[col].value_counts()\\n    col_to_show.plot(kind='bar', title=col)\\n    #sns.countplot(x=data[column], data=data[bin_cols])\\n    plt.show()\\n\""
      ]
     },
     "execution_count": 97,
     "metadata": {},
     "output_type": "execute_result"
    }
   ],
   "source": [
    "\"\"\"\n",
    "for col in ['bodyType', 'brand', 'color',   'fuelType',\n",
    "       'model_name',   'vehicleTransmission']:\n",
    "    col_to_show=data[col].value_counts()\n",
    "    col_to_show.plot(kind='bar', title=col)\n",
    "    #sns.countplot(x=data[column], data=data[bin_cols])\n",
    "    plt.show()\n",
    "\"\"\""
   ]
  },
  {
   "cell_type": "code",
   "execution_count": 98,
   "metadata": {
    "scrolled": false
   },
   "outputs": [
    {
     "data": {
      "text/plain": [
       "\"\\nfor col in ['bodyType', 'brand', 'color',   'fuelType', \\n       'model_name',   'vehicleTransmission']:\\n    print('________________________')\\n    print(col)\\n    print('________________________')\\n    print(data[col].value_counts())\\n\""
      ]
     },
     "execution_count": 98,
     "metadata": {},
     "output_type": "execute_result"
    }
   ],
   "source": [
    "\"\"\"\n",
    "for col in ['bodyType', 'brand', 'color',   'fuelType', \n",
    "       'model_name',   'vehicleTransmission']:\n",
    "    print('________________________')\n",
    "    print(col)\n",
    "    print('________________________')\n",
    "    print(data[col].value_counts())\n",
    "\"\"\""
   ]
  },
  {
   "cell_type": "markdown",
   "metadata": {},
   "source": [
    "Apply OneHotEncoder for categorical features"
   ]
  },
  {
   "cell_type": "markdown",
   "metadata": {},
   "source": [
    "First of all, reduce the number of car brands to popular, all others receive a \"0\"-value for OneHotEncoder"
   ]
  },
  {
   "cell_type": "code",
   "execution_count": 99,
   "metadata": {
    "pycharm": {
     "name": "#%%\n"
    }
   },
   "outputs": [
    {
     "data": {
      "text/plain": [
       "{'ACURA',\n",
       " 'ALFA_ROMEO',\n",
       " 'AUDI',\n",
       " 'BENTLEY',\n",
       " 'BMW',\n",
       " 'CADILLAC',\n",
       " 'CHERY',\n",
       " 'CHEVROLET',\n",
       " 'CHRYSLER',\n",
       " 'CITROEN',\n",
       " 'DAEWOO',\n",
       " 'DATSUN',\n",
       " 'DODGE',\n",
       " 'FIAT',\n",
       " 'FORD',\n",
       " 'GAZ',\n",
       " 'GEELY',\n",
       " 'GREAT_WALL',\n",
       " 'HAVAL',\n",
       " 'HONDA',\n",
       " 'HUMMER',\n",
       " 'HYUNDAI',\n",
       " 'IG',\n",
       " 'INFINITI',\n",
       " 'JAGUAR',\n",
       " 'JEEP',\n",
       " 'KIA',\n",
       " 'LAND_ROVER',\n",
       " 'LEXUS',\n",
       " 'LIFAN',\n",
       " 'LINCOLN',\n",
       " 'LUAZ',\n",
       " 'MASERATI',\n",
       " 'MAZDA',\n",
       " 'MERCEDES',\n",
       " 'MINI',\n",
       " 'MITSUBISHI',\n",
       " 'MOSCVICH',\n",
       " 'NISSAN',\n",
       " 'OPEL',\n",
       " 'PEUGEOT',\n",
       " 'PORSCHE',\n",
       " 'RAVON',\n",
       " 'RENAULT',\n",
       " 'ROLLS_ROYCE',\n",
       " 'ROVER',\n",
       " 'SAAB',\n",
       " 'SEAT',\n",
       " 'SKODA',\n",
       " 'SMART',\n",
       " 'SSANG_YONG',\n",
       " 'SUBARU',\n",
       " 'SUZUKI',\n",
       " 'TAGAZ',\n",
       " 'TOYOTA',\n",
       " 'UAZ',\n",
       " 'VAZ',\n",
       " 'VOLKSWAGEN',\n",
       " 'VOLVO',\n",
       " 'VORTEX',\n",
       " 'ZAZ'}"
      ]
     },
     "execution_count": 99,
     "metadata": {},
     "output_type": "execute_result"
    }
   ],
   "source": [
    "d = data['brand'].value_counts()\n",
    "brand_pop = data['brand'].value_counts()[d > 34].keys()\n",
    "set(brand_pop)"
   ]
  },
  {
   "cell_type": "code",
   "execution_count": 100,
   "metadata": {
    "pycharm": {
     "name": "#%%\n"
    }
   },
   "outputs": [],
   "source": [
    "def popular_brands(e):\n",
    "    if e in brand_pop:\n",
    "        res = e\n",
    "    else:\n",
    "        res = 'other'\n",
    "    return res\n",
    "\n",
    "data['brand_pop'] = data['brand'].apply(lambda x: popular_brands(x))\n"
   ]
  },
  {
   "cell_type": "code",
   "execution_count": 101,
   "metadata": {
    "pycharm": {
     "name": "#%%\n"
    }
   },
   "outputs": [
    {
     "data": {
      "text/plain": [
       "array([[0., 0., 0., ..., 0., 0., 0.],\n",
       "       [0., 0., 0., ..., 0., 0., 0.],\n",
       "       [0., 0., 0., ..., 0., 0., 0.],\n",
       "       ...,\n",
       "       [0., 0., 0., ..., 0., 0., 0.],\n",
       "       [0., 0., 0., ..., 0., 0., 0.],\n",
       "       [0., 0., 0., ..., 0., 0., 0.]])"
      ]
     },
     "execution_count": 101,
     "metadata": {},
     "output_type": "execute_result"
    }
   ],
   "source": [
    "X_cat_1 = OneHotEncoder(sparse = False).fit_transform(data[['fuelType', 'vehicleTransmission', 'brand_pop']])\n",
    "X_cat_1"
   ]
  },
  {
   "cell_type": "markdown",
   "metadata": {},
   "source": [
    "Replace the values of 'bodyType', 'color', 'model_name', 'brand' with their value_counts"
   ]
  },
  {
   "cell_type": "code",
   "execution_count": 102,
   "metadata": {},
   "outputs": [
    {
     "name": "stderr",
     "output_type": "stream",
     "text": [
      "<ipython-input-102-bc66ec460ebf>:9: SettingWithCopyWarning: \n",
      "A value is trying to be set on a copy of a slice from a DataFrame.\n",
      "Try using .loc[row_indexer,col_indexer] = value instead\n",
      "\n",
      "See the caveats in the documentation: https://pandas.pydata.org/pandas-docs/stable/user_guide/indexing.html#returning-a-view-versus-a-copy\n",
      "  X_cat[c]=data.apply(lambda row: encoder_cat(row, c, vc), axis=1)\n"
     ]
    }
   ],
   "source": [
    "def clean_cat(data, cats):\n",
    "    def encoder_cat(row, cat, vc):\n",
    "        br = row[cat]\n",
    "        return vc[br]\n",
    "\n",
    "    X_cat = data[cats]\n",
    "    for c in cats:\n",
    "        vc = data[c].value_counts()\n",
    "        X_cat[c]=data.apply(lambda row: encoder_cat(row, c, vc), axis=1)\n",
    "\n",
    "    return X_cat\n",
    "\n",
    "X_cat_2 = clean_cat(data, ['bodyType', 'color', 'model_name', 'brand'])"
   ]
  },
  {
   "cell_type": "markdown",
   "metadata": {},
   "source": [
    "\n",
    "Convert long string values from 'equipment_dict' to lists"
   ]
  },
  {
   "cell_type": "raw",
   "metadata": {
    "pycharm": {
     "name": "#%%\n"
    }
   },
   "source": [
    "len(data['brand'].value_counts().unique())"
   ]
  },
  {
   "cell_type": "code",
   "execution_count": 119,
   "metadata": {
    "pycharm": {
     "name": "#%%\n"
    }
   },
   "outputs": [],
   "source": [
    "def eq_fix(row, col):\n",
    "    try:\n",
    "        res= list(json.loads(row[col]).keys())\n",
    "    except:\n",
    "        res=[]\n",
    "\n",
    "    return res\n",
    "data['equipment_dict'] = data.apply(lambda row: eq_fix(row, 'equipment_dict'), axis=1)"
   ]
  },
  {
   "cell_type": "markdown",
   "metadata": {},
   "source": [
    "Load 'complectation_dict' as Json and take 'available_options' from it"
   ]
  },
  {
   "cell_type": "code",
   "execution_count": 120,
   "metadata": {},
   "outputs": [],
   "source": [
    "def comp_fix(row, col):\n",
    "    try:\n",
    "        res= json.loads(row[col].replace(\"'\", '\"'))['available_options']\n",
    "    except:\n",
    "        res=[]\n",
    "\n",
    "    return res\n",
    "\n",
    "data['complectation_dict'] = data.apply(lambda row: comp_fix(row, 'complectation_dict'), axis=1)"
   ]
  },
  {
   "cell_type": "code",
   "execution_count": null,
   "metadata": {},
   "outputs": [],
   "source": []
  },
  {
   "cell_type": "code",
   "execution_count": 121,
   "metadata": {},
   "outputs": [
    {
     "name": "stderr",
     "output_type": "stream",
     "text": [
      "<ipython-input-121-d3b875809e5c>:16: DeprecationWarning: The default dtype for empty Series will be 'object' instead of 'float64' in a future version. Specify a dtype explicitly to silence this warning.\n",
      "  equipment=pd.Series(equip)\n"
     ]
    },
    {
     "data": {
      "text/plain": [
       "0"
      ]
     },
     "execution_count": 121,
     "metadata": {},
     "output_type": "execute_result"
    }
   ],
   "source": [
    "\n",
    "equip=[]\n",
    "for car in data[data['sample'] == 0]['equipment_dict']:\n",
    "    try:\n",
    "        for eq in car:\n",
    "            equip.append(eq)\n",
    "    except:\n",
    "        continue\n",
    "\n",
    "for car in data[data['sample'] == 0]['complectation_dict']:\n",
    "    try:\n",
    "        for eq in car:\n",
    "            equip.append(eq)\n",
    "    except:\n",
    "        continue\n",
    "\n",
    "equipment=pd.Series(equip)\n",
    "equipment=equipment.value_counts()\n",
    "len(equipment)"
   ]
  },
  {
   "cell_type": "code",
   "execution_count": 122,
   "metadata": {
    "pycharm": {
     "name": "#%%\n"
    }
   },
   "outputs": [],
   "source": [
    "# equipment=equipment[equipment.values > 20]\n",
    "# len(equipment)"
   ]
  },
  {
   "cell_type": "code",
   "execution_count": 123,
   "metadata": {
    "pycharm": {
     "name": "#%%\n"
    }
   },
   "outputs": [
    {
     "data": {
      "text/plain": [
       "Series([], dtype: int64)"
      ]
     },
     "execution_count": 123,
     "metadata": {},
     "output_type": "execute_result"
    }
   ],
   "source": [
    "equipment"
   ]
  },
  {
   "cell_type": "code",
   "execution_count": 124,
   "metadata": {
    "scrolled": true
   },
   "outputs": [],
   "source": [
    "X_cat_3 = pd.DataFrame(data['sample'])\n",
    "for col in equipment.index:\n",
    "    def eq_col(row):\n",
    "        return int((col in row['equipment_dict']) or (col in row['complectation_dict']) )\n",
    "    \n",
    "    X_cat_3[col]=data.apply(lambda row: eq_col(row), axis=1)\n",
    "X_cat_3_sub=pd.DataFrame(X_cat_3)\n",
    "X_cat_3 = X_cat_3[X_cat_3['sample']==0]\n",
    "X_cat_3_sub = X_cat_3_sub[X_cat_3_sub['sample']==1]"
   ]
  },
  {
   "cell_type": "markdown",
   "metadata": {
    "pycharm": {
     "name": "#%% md\n"
    }
   },
   "source": [
    "Merge all features"
   ]
  },
  {
   "cell_type": "code",
   "execution_count": 125,
   "metadata": {},
   "outputs": [
    {
     "data": {
      "text/plain": [
       "(34686, 102)"
      ]
     },
     "execution_count": 125,
     "metadata": {},
     "output_type": "execute_result"
    }
   ],
   "source": [
    "X = np.hstack([X_num, X_bin[data['sample'] == 0], X_cat_1[data['sample'] == 0], X_cat_2[data['sample']==0], X_cat_3])\n",
    "\n",
    "X_sub = np.hstack([X_num_sub, X_bin[data['sample'] == 1], X_cat_1[data['sample'] == 1], X_cat_2[data['sample']==1], X_cat_3_sub])\n",
    "X_sub.shape"
   ]
  },
  {
   "cell_type": "markdown",
   "metadata": {
    "pycharm": {
     "name": "#%% md\n"
    }
   },
   "source": [
    "Apply StandardScaler to features\n"
   ]
  },
  {
   "cell_type": "code",
   "execution_count": 126,
   "metadata": {
    "pycharm": {
     "name": "#%%\n"
    }
   },
   "outputs": [],
   "source": [
    "X = StandardScaler().fit_transform(X)\n",
    "X_sub = StandardScaler().fit_transform(X_sub)\n"
   ]
  },
  {
   "cell_type": "code",
   "execution_count": 127,
   "metadata": {
    "scrolled": true
   },
   "outputs": [
    {
     "data": {
      "text/plain": [
       "34686    199000.0\n",
       "34687    550000.0\n",
       "34688    250000.0\n",
       "34689    400000.0\n",
       "34690    400000.0\n",
       "           ...   \n",
       "55247    740000.0\n",
       "55248    690000.0\n",
       "55249    650000.0\n",
       "55250    780000.0\n",
       "55251     45000.0\n",
       "Name: price, Length: 20566, dtype: float64"
      ]
     },
     "execution_count": 127,
     "metadata": {},
     "output_type": "execute_result"
    }
   ],
   "source": [
    "y = data['price'][data['sample']==0]\n",
    "y"
   ]
  },
  {
   "cell_type": "markdown",
   "metadata": {},
   "source": [
    "Split our data for training"
   ]
  },
  {
   "cell_type": "code",
   "execution_count": 128,
   "metadata": {},
   "outputs": [],
   "source": [
    "X_train, X_test, y_train, y_test = train_test_split(X, y, test_size=0.2, random_state=RANDOM_SEED)"
   ]
  },
  {
   "cell_type": "markdown",
   "metadata": {},
   "source": [
    "# Model selection"
   ]
  },
  {
   "cell_type": "markdown",
   "metadata": {},
   "source": [
    "If we have a very big dataset some models throw an error until we reduce data. This is a fanction for randoml spliting data with some factor"
   ]
  },
  {
   "cell_type": "code",
   "execution_count": 129,
   "metadata": {
    "pycharm": {
     "name": "#%%\n"
    }
   },
   "outputs": [],
   "source": [
    "def split_factor(factor, X_train, y_train, X_test, y_test):\n",
    "    _, X_train2, _, y_train2 = train_test_split(X_train, y_train, test_size=factor, random_state=RANDOM_SEED)\n",
    "    _, X_test2, _, y_test2 = train_test_split(X_test, y_test, test_size=factor, random_state=RANDOM_SEED)\n",
    "    return X_train2, y_train2, X_test2, y_test2\n",
    "\n",
    "X_train2, y_train2, X_test2, y_test2 = split_factor(0.99, X_train, y_train, X_test, y_test)"
   ]
  },
  {
   "cell_type": "markdown",
   "metadata": {
    "pycharm": {
     "is_executing": true,
     "name": "#%% md\n"
    }
   },
   "source": [
    "Estimate the influence of features on our target"
   ]
  },
  {
   "cell_type": "code",
   "execution_count": 130,
   "metadata": {
    "pycharm": {
     "name": "#%%\n"
    }
   },
   "outputs": [
    {
     "name": "stderr",
     "output_type": "stream",
     "text": [
      "c:\\users\\trigu\\appdata\\local\\programs\\python\\python39\\lib\\site-packages\\sklearn\\feature_selection\\_univariate_selection.py:114: UserWarning: Features [  6  10  11  12  13  14  20  21  22  24  27  28  29  31  32  33  34 101] are constant.\n",
      "  warnings.warn(\"Features %s are constant.\" % constant_features_idx,\n",
      "c:\\users\\trigu\\appdata\\local\\programs\\python\\python39\\lib\\site-packages\\sklearn\\feature_selection\\_univariate_selection.py:116: RuntimeWarning: invalid value encountered in true_divide\n",
      "  f = msb / msw\n"
     ]
    },
    {
     "data": {
      "text/plain": [
       "[101, 34, 33, 32, 31, 29, 28, 27, 24, 22, 21, 20, 14, 13, 12, 11, 10, 6]"
      ]
     },
     "execution_count": 130,
     "metadata": {},
     "output_type": "execute_result"
    }
   ],
   "source": [
    "def f_classif_fix(factor, X, y):\n",
    "    _, X_small, _, y_small = train_test_split(X, y, test_size=factor, random_state=RANDOM_SEED)\n",
    "    imp_num = pd.Series(f_classif(X_small, y_small)[0])\n",
    "    res = list()\n",
    "    for idx, e in enumerate(np.array(imp_num)):\n",
    "        if math.isnan(e):\n",
    "            res.append(idx)\n",
    "    res.reverse()\n",
    "    return res\n",
    "\n",
    "nan_idx = f_classif_fix(0.2, X, y)\n",
    "nan_idx"
   ]
  },
  {
   "cell_type": "markdown",
   "metadata": {},
   "source": [
    "Delete features that don't have any influence on the target"
   ]
  },
  {
   "cell_type": "code",
   "execution_count": 131,
   "metadata": {
    "pycharm": {
     "name": "#%%\n"
    }
   },
   "outputs": [],
   "source": [
    "for idx in nan_idx:\n",
    "    def delete(x):\n",
    "        np.delete(x, idx, 1)\n",
    "    delete(X_test2)\n",
    "    delete(X_test)\n",
    "    delete(X_train2)\n",
    "    delete(X_train)\n",
    "    delete(X_sub)"
   ]
  },
  {
   "cell_type": "markdown",
   "metadata": {},
   "source": [
    "Function for training, testing and estimating models"
   ]
  },
  {
   "cell_type": "code",
   "execution_count": 132,
   "metadata": {
    "pycharm": {
     "name": "#%%\n"
    }
   },
   "outputs": [],
   "source": [
    "def trait_regressor(factor, X_train, y_train, X_test, y_test, model):\n",
    "    X_train_small, y_train_small, X_test_small, y_test_small = split_factor(factor, X_train, y_train, X_test, y_test)\n",
    "    model.fit(X_train_small, y_train_small)\n",
    "    y_pred = model.predict(X_test_small)\n",
    "    print('MAPE:', np.mean(np.abs((y_test_small - y_pred) / y_test_small)) * 100)\n",
    "    return model"
   ]
  },
  {
   "cell_type": "markdown",
   "metadata": {
    "pycharm": {
     "name": "#%% md\n"
    }
   },
   "source": [
    "Linear regression often throw an error \"LinAlgError: SVD did not converge in Linear Least Squares\" until we reduce the data"
   ]
  },
  {
   "cell_type": "code",
   "execution_count": 133,
   "metadata": {},
   "outputs": [
    {
     "name": "stdout",
     "output_type": "stream",
     "text": [
      "MAPE: 190.4614646039292\n"
     ]
    }
   ],
   "source": [
    "xfactor = 0.99\n",
    "\n",
    "# 173\n",
    "lr_model = trait_regressor(0.002, X_train, y_train, X_test, y_test,\n",
    "                              LinearRegression()\n",
    "                           )"
   ]
  },
  {
   "cell_type": "markdown",
   "metadata": {},
   "source": [
    "Random forest with default parameters"
   ]
  },
  {
   "cell_type": "code",
   "execution_count": 134,
   "metadata": {},
   "outputs": [
    {
     "name": "stdout",
     "output_type": "stream",
     "text": [
      "MAPE: 26.590364991807547\n",
      "{'bootstrap': True,\n",
      " 'ccp_alpha': 0.0,\n",
      " 'criterion': 'mse',\n",
      " 'max_depth': None,\n",
      " 'max_features': 'auto',\n",
      " 'max_leaf_nodes': None,\n",
      " 'max_samples': None,\n",
      " 'min_impurity_decrease': 0.0,\n",
      " 'min_impurity_split': None,\n",
      " 'min_samples_leaf': 1,\n",
      " 'min_samples_split': 2,\n",
      " 'min_weight_fraction_leaf': 0.0,\n",
      " 'n_estimators': 100,\n",
      " 'n_jobs': None,\n",
      " 'oob_score': False,\n",
      " 'random_state': 42,\n",
      " 'verbose': 0,\n",
      " 'warm_start': False}\n"
     ]
    }
   ],
   "source": [
    "# 26.58\n",
    "rf_1 = trait_regressor(xfactor, X_train, y_train, X_test, y_test,\n",
    "                            RandomForestRegressor(random_state = RANDOM_SEED)\n",
    "                       )\n",
    "# Look at parameters used by our current forest\n",
    "# print('Параметры по умолчанию:\\n')\n",
    "pprint(rf_1.get_params())"
   ]
  },
  {
   "cell_type": "markdown",
   "metadata": {},
   "source": [
    "The parameters from GridSearchCV did not improve MAPE from default."
   ]
  },
  {
   "cell_type": "code",
   "execution_count": 135,
   "metadata": {},
   "outputs": [
    {
     "data": {
      "text/plain": [
       "\"\\n# MAPE: 27.06830268352361\\n# {'n_estimators': 50}\\nparam_grid = {\\n    'n_estimators': [50, 100, 200, 500, 1000]\\n}\\nrf_best = trait_regressor(xfactor, X_train, y_train, X_test, y_test,\\n                       GridSearchCV(estimator = RandomForestRegressor(), param_grid = param_grid, n_jobs = 6)\\n                       )\\nprint(rf_best.best_params_)\\n\""
      ]
     },
     "execution_count": 135,
     "metadata": {},
     "output_type": "execute_result"
    }
   ],
   "source": [
    "\"\"\"\n",
    "# MAPE: 27.06830268352361\n",
    "# {'n_estimators': 50}\n",
    "param_grid = {\n",
    "    'n_estimators': [50, 100, 200, 500, 1000]\n",
    "}\n",
    "rf_best = trait_regressor(xfactor, X_train, y_train, X_test, y_test,\n",
    "                       GridSearchCV(estimator = RandomForestRegressor(), param_grid = param_grid, n_jobs = 6)\n",
    "                       )\n",
    "print(rf_best.best_params_)\n",
    "\"\"\""
   ]
  },
  {
   "cell_type": "markdown",
   "metadata": {},
   "source": [
    "Desision Tree"
   ]
  },
  {
   "cell_type": "code",
   "execution_count": 136,
   "metadata": {
    "pycharm": {
     "name": "#%%\n"
    }
   },
   "outputs": [
    {
     "name": "stdout",
     "output_type": "stream",
     "text": [
      "MAPE: 34.851099727738635\n"
     ]
    }
   ],
   "source": [
    "# 34\n",
    "ftree_def = trait_regressor(xfactor, X_train, y_train, X_test, y_test,\n",
    "                            DecisionTreeRegressor(random_state = RANDOM_SEED)\n",
    "                            )"
   ]
  },
  {
   "cell_type": "markdown",
   "metadata": {},
   "source": [
    "Gradient boosting with default parameters"
   ]
  },
  {
   "cell_type": "code",
   "execution_count": 137,
   "metadata": {
    "pycharm": {
     "name": "#%%\n"
    }
   },
   "outputs": [
    {
     "name": "stdout",
     "output_type": "stream",
     "text": [
      "MAPE: 49.8388763809681\n"
     ]
    }
   ],
   "source": [
    "# 50\n",
    "gb_def = trait_regressor(xfactor, X_train, y_train, X_test, y_test,\n",
    "                         GradientBoostingRegressor(random_state = RANDOM_SEED)\n",
    "                         )"
   ]
  },
  {
   "cell_type": "code",
   "execution_count": 138,
   "metadata": {
    "pycharm": {
     "is_executing": true
    }
   },
   "outputs": [
    {
     "name": "stdout",
     "output_type": "stream",
     "text": [
      "MAPE: 27.12250223239557\n"
     ]
    }
   ],
   "source": [
    "# 27.41\n",
    "gb = trait_regressor(xfactor, X_train, y_train, X_test, y_test,\n",
    "               GradientBoostingRegressor(\n",
    "                    random_state = RANDOM_SEED,\n",
    "                    max_depth = 6,\n",
    "                    n_estimators = 500\n",
    "                )\n",
    "               )"
   ]
  },
  {
   "cell_type": "markdown",
   "metadata": {},
   "source": [
    "The parameters GridSearchCV improved MAPE for GradientBoosting"
   ]
  },
  {
   "cell_type": "code",
   "execution_count": 139,
   "metadata": {
    "pycharm": {
     "is_executing": true,
     "name": "#%%\n"
    }
   },
   "outputs": [
    {
     "name": "stdout",
     "output_type": "stream",
     "text": [
      "MAPE: 27.243911804030656\n",
      "{'max_depth': 6, 'n_estimators': 500}\n"
     ]
    }
   ],
   "source": [
    "# MAPE: 27.412957282389705\n",
    "# {'max_depth': 6, 'n_estimators': 500}\n",
    "param_grid = {\n",
    "    'n_estimators': [200, 500],\n",
    "    # 'max_features': ['auto', 'sqrt', 'log2'],\n",
    "    'max_depth' : [3, 4, 6]\n",
    "}\n",
    "gb_2 = trait_regressor(xfactor, X_train, y_train, X_test, y_test,\n",
    "                       GridSearchCV(estimator = GradientBoostingRegressor(), param_grid = param_grid, n_jobs = 6)\n",
    "                       )\n",
    "print(gb_2.best_params_)"
   ]
  },
  {
   "cell_type": "markdown",
   "metadata": {},
   "source": [
    "SVR"
   ]
  },
  {
   "cell_type": "code",
   "execution_count": 140,
   "metadata": {
    "pycharm": {
     "name": "#%%\n"
    }
   },
   "outputs": [
    {
     "name": "stdout",
     "output_type": "stream",
     "text": [
      "MAPE: 137.82333112065464\n"
     ]
    }
   ],
   "source": [
    "# 137\n",
    "svr = trait_regressor(xfactor, X_train, y_train, X_test, y_test,\n",
    "               SVR()\n",
    "                )"
   ]
  },
  {
   "cell_type": "markdown",
   "metadata": {},
   "source": [
    "KNeighborsRegressor"
   ]
  },
  {
   "cell_type": "code",
   "execution_count": 141,
   "metadata": {
    "pycharm": {
     "name": "#%%\n"
    }
   },
   "outputs": [
    {
     "name": "stdout",
     "output_type": "stream",
     "text": [
      "MAPE: 39.522795935132116\n"
     ]
    }
   ],
   "source": [
    "# 39\n",
    "knn = trait_regressor(xfactor, X_train, y_train, X_test, y_test,\n",
    "               KNeighborsRegressor()\n",
    "               )"
   ]
  },
  {
   "cell_type": "markdown",
   "metadata": {},
   "source": [
    "Catboost "
   ]
  },
  {
   "cell_type": "code",
   "execution_count": 142,
   "metadata": {
    "pycharm": {
     "name": "#%%\n"
    }
   },
   "outputs": [
    {
     "name": "stdout",
     "output_type": "stream",
     "text": [
      "0:\tlearn: 2896862.3055737\ttotal: 159ms\tremaining: 2m 39s\n",
      "100:\tlearn: 1083216.7096492\ttotal: 1.38s\tremaining: 12.3s\n",
      "200:\tlearn: 646752.7568895\ttotal: 2.38s\tremaining: 9.45s\n",
      "300:\tlearn: 493350.0825883\ttotal: 3.36s\tremaining: 7.81s\n",
      "400:\tlearn: 424496.7070039\ttotal: 4.37s\tremaining: 6.52s\n",
      "500:\tlearn: 381034.0509416\ttotal: 5.41s\tremaining: 5.39s\n",
      "600:\tlearn: 351424.3617730\ttotal: 6.44s\tremaining: 4.28s\n",
      "700:\tlearn: 326421.4351326\ttotal: 7.44s\tremaining: 3.17s\n",
      "800:\tlearn: 307532.9452215\ttotal: 8.47s\tremaining: 2.1s\n",
      "900:\tlearn: 291368.9129577\ttotal: 9.51s\tremaining: 1.04s\n",
      "999:\tlearn: 277073.4785739\ttotal: 10.5s\tremaining: 0us\n",
      "MAPE: 31.12378660908975\n"
     ]
    }
   ],
   "source": [
    "# 31\n",
    "cbr = trait_regressor(xfactor, X_train, y_train, X_test, y_test,\n",
    "               CatBoostRegressor(\n",
    "                        random_seed = RANDOM_SEED,\n",
    "                        learning_rate = 0.05,\n",
    "                        depth=9,\n",
    "                        metric_period=100\n",
    "                   # iterations = 1000,\n",
    "    #                      custom_metric=['R2', 'MAE']\n",
    "                        )\n",
    "               )"
   ]
  },
  {
   "cell_type": "markdown",
   "metadata": {},
   "source": [
    "#  Stacking"
   ]
  },
  {
   "cell_type": "code",
   "execution_count": 143,
   "metadata": {},
   "outputs": [],
   "source": [
    "def compute_meta_feature(model, X_train, X_test, y_train, cv):\n",
    "    X_meta_train = np.zeros(len(y_train), dtype=np.float32)\n",
    "    X_train = np.array(X_train)\n",
    "    y_train = np.array(y_train)\n",
    "    splits = cv.split(X_train)\n",
    "    for train_fold_index, predict_fold_index in splits:\n",
    "       # print(\"X_train.shape:\", X_train.shape)\n",
    "       # print(\"len(train_fold_index):\",len(train_fold_index))\n",
    "       # print(\"len(predict_fold_index):\",len(predict_fold_index))\n",
    "       # print(\"X_train.shape:\", X_train.shape)\n",
    "        #print('X_train[train_fold_index]', X_train[train_fold_index])\n",
    "        #print('X_train[predict_fold_index]', X_train[predict_fold_index])\n",
    "        \n",
    "       # print(\"X_train:\",X_train)\n",
    "       # print(\"train_fold_index:\",train_fold_index)\n",
    "       # print(\"predict_fold_index:\",predict_fold_index)\n",
    "        \n",
    "#X_fold_train = X_train[train_fold_index] #здесь происходит ошибка\n",
    "        X_fold_train = X_train[train_fold_index]\n",
    "        X_fold_predict = X_train[predict_fold_index]\n",
    "        y_fold_train = y_train[train_fold_index]\n",
    "        \n",
    "        folded_model = clone(model)\n",
    "        folded_model.fit(X_fold_train, y_fold_train)\n",
    "\n",
    "        X_meta_train[predict_fold_index] = folded_model.predict(X_fold_predict)\n",
    "        # print('X_meta_train', X_meta_train)\n",
    "    \n",
    "    meta_model = clone(model)\n",
    "    meta_model.fit(X_train, y_train)\n",
    "    \n",
    "    X_meta_test = meta_model.predict(X_test)\n",
    "    \n",
    "    return X_meta_train, X_meta_test"
   ]
  },
  {
   "cell_type": "code",
   "execution_count": 144,
   "metadata": {},
   "outputs": [],
   "source": [
    "def generate_meta_features(models, X_train, X_test, y_train, cv):\n",
    "   \n",
    "    features = [\n",
    "        compute_meta_feature(model, X_train, X_test, y_train, cv)\n",
    "        for model in tqdm(models)\n",
    "    ]\n",
    "\n",
    "    stacked_features_train = np.column_stack([\n",
    "        features_train for features_train, features_test in features\n",
    "    ])\n",
    "\n",
    "    stacked_features_test = np.column_stack([\n",
    "        features_test for features_train, features_test in features\n",
    "    ])\n",
    "    \n",
    "    return stacked_features_train, stacked_features_test"
   ]
  },
  {
   "cell_type": "code",
   "execution_count": 145,
   "metadata": {},
   "outputs": [],
   "source": [
    "cv = KFold(n_splits = 10, shuffle=True, random_state=RANDOM_SEED)"
   ]
  },
  {
   "cell_type": "code",
   "execution_count": 146,
   "metadata": {
    "pycharm": {
     "is_executing": true
    },
    "scrolled": true
   },
   "outputs": [
    {
     "name": "stderr",
     "output_type": "stream",
     "text": [
      "100%|███████████████████████████████████████████████████████████████████████████████████| 3/3 [12:00<00:00, 240.12s/it]\n"
     ]
    }
   ],
   "source": [
    "stacked_features_train, stacked_features_test = generate_meta_features([\n",
    "    RandomForestRegressor(random_state = RANDOM_SEED),\n",
    "    DecisionTreeRegressor(random_state = RANDOM_SEED),\n",
    "    GradientBoostingRegressor(\n",
    "                    random_state = RANDOM_SEED,\n",
    "                    max_depth = 6,\n",
    "                    n_estimators = 500\n",
    "                )\n",
    "], X_train2, X_test2, y_train2, cv)"
   ]
  },
  {
   "cell_type": "code",
   "execution_count": 147,
   "metadata": {},
   "outputs": [
    {
     "data": {
      "text/plain": [
       "<AxesSubplot:>"
      ]
     },
     "execution_count": 147,
     "metadata": {},
     "output_type": "execute_result"
    },
    {
     "data": {
      "image/png": "[encoded data removed]",
      "text/plain": [
       "<Figure size 432x288 with 1 Axes>"
      ]
     },
     "metadata": {
      "needs_background": "light"
     },
     "output_type": "display_data"
    }
   ],
   "source": [
    "st_stacked_features_train = stacked_features_train\n",
    "# st_stacked_features_train = StandardScaler().fit_transform(stacked_features_train)\n",
    "# pd.DataFrame(st_stacked_features_train).plot()\n",
    "pd.DataFrame(st_stacked_features_train).plot()"
   ]
  },
  {
   "cell_type": "code",
   "execution_count": 148,
   "metadata": {
    "pycharm": {
     "name": "#%%\n"
    }
   },
   "outputs": [
    {
     "name": "stdout",
     "output_type": "stream",
     "text": [
      "MAPE: 29.964085681181064\n"
     ]
    }
   ],
   "source": [
    "meta_GR = Regressor(random_state = RANDOM_SEED) # 44\n",
    "# meta_GR = GradientBoostingRegressor(random_state = RANDOM_SEED, max_depth = 11, n_estimators = 1000)\n",
    "meta_GR.fit(st_stacked_features_train, y_train2)\n",
    "y_pred_meta_GR = meta_GR.predict(stacked_features_test)\n",
    "print('MAPE:', np.mean(np.abs((y_test2 - y_pred_meta_GR) / y_test2)) * 100)"
   ]
  },
  {
   "cell_type": "code",
   "execution_count": 161,
   "metadata": {},
   "outputs": [
    {
     "name": "stdout",
     "output_type": "stream",
     "text": [
      "MAPE: 29.36429367799651\n"
     ]
    }
   ],
   "source": [
    "meta_LR = LinearRegression() # 44\n",
    "# meta_GR = GradientBoostingRegressor(random_state = RANDOM_SEED, max_depth = 11, n_estimators = 1000)\n",
    "meta_LR.fit(st_stacked_features_train, y_train2)\n",
    "y_pred_meta_LR = meta_LR.predict(stacked_features_test)\n",
    "print('MAPE:', np.mean(np.abs((y_test2 - y_pred_meta_LR) / y_test2)) * 100)"
   ]
  },
  {
   "cell_type": "markdown",
   "metadata": {
    "pycharm": {
     "name": "#%% md\n"
    }
   },
   "source": [
    "Another version of Stacking functions with a more usable interface"
   ]
  },
  {
   "cell_type": "code",
   "execution_count": 149,
   "metadata": {
    "pycharm": {
     "name": "#%%\n"
    }
   },
   "outputs": [],
   "source": [
    "# get a list of base models\n",
    "def get_models():\n",
    "\tmodels = list()\n",
    "\tmodels.append(('rf', RandomForestRegressor(random_state = RANDOM_SEED)))\n",
    "\tmodels.append(('dt', DecisionTreeRegressor(random_state = RANDOM_SEED)))\n",
    "\tmodels.append(('gb', GradientBoostingRegressor(\n",
    "                    random_state = RANDOM_SEED,\n",
    "                    max_depth = 6,\n",
    "                    n_estimators = 500\n",
    "                )))\n",
    "\tmodels.append(('svm', SVR()))\n",
    "\treturn models"
   ]
  },
  {
   "cell_type": "code",
   "execution_count": 150,
   "metadata": {
    "pycharm": {
     "name": "#%%\n"
    }
   },
   "outputs": [],
   "source": [
    "# fit the blending ensemble\n",
    "def fit_ensemble(models, X_train, X_val, y_train, y_val):\n",
    "\t# fit all models on the training set and predict on hold out set\n",
    "\tmeta_X = list()\n",
    "\tfor name, model in models:\n",
    "\t\t# fit in training set\n",
    "\t\tmodel.fit(X_train, y_train)\n",
    "\t\t# predict on hold out set\n",
    "\t\tyhat = model.predict(X_val)\n",
    "\t\t# reshape predictions into a matrix with one column\n",
    "\t\tyhat = yhat.reshape(len(yhat), 1)\n",
    "\t\t# store predictions as input for blending\n",
    "\t\tmeta_X.append(yhat)\n",
    "\t# create 2d array from predictions, each set is an input feature\n",
    "\tmeta_X = np.hstack(meta_X)\n",
    "\t# define blending model\n",
    "\tblender = RandomForestRegressor(random_state = RANDOM_SEED)\n",
    "\t# fit on predictions from base models\n",
    "\tblender.fit(meta_X, y_val)\n",
    "\treturn blender"
   ]
  },
  {
   "cell_type": "code",
   "execution_count": 151,
   "metadata": {
    "pycharm": {
     "name": "#%%\n"
    }
   },
   "outputs": [],
   "source": [
    "# make a prediction with the blending ensemble\n",
    "def predict_ensemble(models, blender, X_test):\n",
    "\t# make predictions with base models\n",
    "\tmeta_X = list()\n",
    "\tfor name, model in models:\n",
    "\t\t# predict with base model\n",
    "\t\tyhat = model.predict(X_test)\n",
    "\t\t# reshape predictions into a matrix with one column\n",
    "\t\tyhat = yhat.reshape(len(yhat), 1)\n",
    "\t\t# store prediction\n",
    "\t\tmeta_X.append(yhat)\n",
    "\t# create 2d array from predictions, each set is an input feature\n",
    "\tmeta_X = np.hstack(meta_X)\n",
    "\t# predict\n",
    "\treturn blender.predict(meta_X)"
   ]
  },
  {
   "cell_type": "code",
   "execution_count": 152,
   "metadata": {
    "pycharm": {
     "name": "#%%\n"
    }
   },
   "outputs": [
    {
     "name": "stdout",
     "output_type": "stream",
     "text": [
      "Train: (5456, 102), Val: (2688, 102), Test: (8144, 102)\n"
     ]
    }
   ],
   "source": [
    "# split dataset into train and test sets\n",
    "X_train_full, X_test, y_train_full, y_test = train_test_split(X_train2, y_train2, test_size=0.5, random_state=1)\n",
    "# split training set into train and validation sets\n",
    "X_train, X_val, y_train, y_val = train_test_split(X_train_full, y_train_full, test_size=0.33, random_state=1)\n",
    "# summarize data split\n",
    "print('Train: %s, Val: %s, Test: %s' % (X_train.shape, X_val.shape, X_test.shape))\n",
    "# create the base models\n",
    "models = get_models()\n",
    "# train the blending ensemble\n",
    "blender = fit_ensemble(models, X_train, X_val, y_train, y_val)\n",
    "# make predictions on test set\n",
    "yhat = predict_ensemble(models, blender, X_test)"
   ]
  },
  {
   "cell_type": "code",
   "execution_count": 153,
   "metadata": {
    "pycharm": {
     "name": "#%%\n"
    }
   },
   "outputs": [
    {
     "name": "stdout",
     "output_type": "stream",
     "text": [
      "Blending MAE: 337597.937\n"
     ]
    }
   ],
   "source": [
    "# evaluate predictions\n",
    "score = mean_absolute_error(y_test, yhat)\n",
    "print('Blending MAE: %.3f' % score)"
   ]
  },
  {
   "cell_type": "code",
   "execution_count": 154,
   "metadata": {
    "pycharm": {
     "name": "#%%\n"
    }
   },
   "outputs": [
    {
     "name": "stdout",
     "output_type": "stream",
     "text": [
      "MAPE: 42.28900014681399\n"
     ]
    }
   ],
   "source": [
    "# 43\n",
    "print('MAPE:', np.mean(np.abs((y_test - yhat) / y_test)) * 100)\n"
   ]
  },
  {
   "cell_type": "markdown",
   "metadata": {},
   "source": [
    "The best MAPE gave Random Forest with default parameters"
   ]
  },
  {
   "cell_type": "code",
   "execution_count": null,
   "metadata": {},
   "outputs": [],
   "source": []
  },
  {
   "cell_type": "markdown",
   "metadata": {},
   "source": [
    "# Submission"
   ]
  },
  {
   "cell_type": "code",
   "execution_count": 155,
   "metadata": {},
   "outputs": [
    {
     "data": {
      "text/plain": [
       "array([ 494581.1       ,  557300.82333333,  599746.12      , ...,\n",
       "        585969.94      , 2245667.71      , 1568690.46      ])"
      ]
     },
     "execution_count": 155,
     "metadata": {},
     "output_type": "execute_result"
    }
   ],
   "source": [
    "predict_submission = rf_1.predict(X_sub)\n",
    "predict_submission"
   ]
  },
  {
   "cell_type": "code",
   "execution_count": 156,
   "metadata": {},
   "outputs": [
    {
     "data": {
      "text/plain": [
       "array([ 494581.1       ,  557300.82333333,  599746.12      , ...,\n",
       "        585969.94      , 2245667.71      , 1568690.46      ])"
      ]
     },
     "execution_count": 156,
     "metadata": {},
     "output_type": "execute_result"
    }
   ],
   "source": [
    "predict_submission"
   ]
  },
  {
   "cell_type": "code",
   "execution_count": 157,
   "metadata": {},
   "outputs": [
    {
     "data": {
      "text/plain": [
       "(34686, 2)"
      ]
     },
     "execution_count": 157,
     "metadata": {},
     "output_type": "execute_result"
    }
   ],
   "source": [
    "sample_submission=pd.read_csv('submission00.csv')\n",
    "sample_submission.shape"
   ]
  },
  {
   "cell_type": "code",
   "execution_count": 158,
   "metadata": {
    "pycharm": {
     "name": "#%%\n"
    }
   },
   "outputs": [
    {
     "data": {
      "text/html": [
       "<div>\n",
       "<style scoped>\n",
       "    .dataframe tbody tr th:only-of-type {\n",
       "        vertical-align: middle;\n",
       "    }\n",
       "\n",
       "    .dataframe tbody tr th {\n",
       "        vertical-align: top;\n",
       "    }\n",
       "\n",
       "    .dataframe thead th {\n",
       "        text-align: right;\n",
       "    }\n",
       "</style>\n",
       "<table border=\"1\" class=\"dataframe\">\n",
       "  <thead>\n",
       "    <tr style=\"text-align: right;\">\n",
       "      <th></th>\n",
       "      <th>sell_id</th>\n",
       "      <th>price</th>\n",
       "    </tr>\n",
       "  </thead>\n",
       "  <tbody>\n",
       "    <tr>\n",
       "      <th>0</th>\n",
       "      <td>1100575026</td>\n",
       "      <td>4.945811e+05</td>\n",
       "    </tr>\n",
       "    <tr>\n",
       "      <th>1</th>\n",
       "      <td>1100549428</td>\n",
       "      <td>5.573008e+05</td>\n",
       "    </tr>\n",
       "    <tr>\n",
       "      <th>2</th>\n",
       "      <td>1100658222</td>\n",
       "      <td>5.997461e+05</td>\n",
       "    </tr>\n",
       "    <tr>\n",
       "      <th>3</th>\n",
       "      <td>1100937408</td>\n",
       "      <td>4.836911e+05</td>\n",
       "    </tr>\n",
       "    <tr>\n",
       "      <th>4</th>\n",
       "      <td>1101037972</td>\n",
       "      <td>5.838650e+05</td>\n",
       "    </tr>\n",
       "    <tr>\n",
       "      <th>5</th>\n",
       "      <td>1100912634</td>\n",
       "      <td>5.467280e+06</td>\n",
       "    </tr>\n",
       "    <tr>\n",
       "      <th>6</th>\n",
       "      <td>1101228730</td>\n",
       "      <td>3.997457e+05</td>\n",
       "    </tr>\n",
       "    <tr>\n",
       "      <th>7</th>\n",
       "      <td>1100165896</td>\n",
       "      <td>6.288000e+05</td>\n",
       "    </tr>\n",
       "    <tr>\n",
       "      <th>8</th>\n",
       "      <td>1100768262</td>\n",
       "      <td>8.607244e+06</td>\n",
       "    </tr>\n",
       "    <tr>\n",
       "      <th>9</th>\n",
       "      <td>1101218501</td>\n",
       "      <td>6.783500e+05</td>\n",
       "    </tr>\n",
       "  </tbody>\n",
       "</table>\n",
       "</div>"
      ],
      "text/plain": [
       "      sell_id         price\n",
       "0  1100575026  4.945811e+05\n",
       "1  1100549428  5.573008e+05\n",
       "2  1100658222  5.997461e+05\n",
       "3  1100937408  4.836911e+05\n",
       "4  1101037972  5.838650e+05\n",
       "5  1100912634  5.467280e+06\n",
       "6  1101228730  3.997457e+05\n",
       "7  1100165896  6.288000e+05\n",
       "8  1100768262  8.607244e+06\n",
       "9  1101218501  6.783500e+05"
      ]
     },
     "execution_count": 158,
     "metadata": {},
     "output_type": "execute_result"
    }
   ],
   "source": [
    "sample_submission['price'] = predict_submission\n",
    "# sample_submission['price'] = sample_submission['price'] * 0.75\n",
    "sample_submission.to_csv(f'submission.csv', index=False)\n",
    "sample_submission.head(10)\n"
   ]
  }
 ],
 "metadata": {
  "kernelspec": {
   "display_name": "Python 3",
   "language": "python",
   "name": "python3"
  },
  "language_info": {
   "codemirror_mode": {
    "name": "ipython",
    "version": 3
   },
   "file_extension": ".py",
   "mimetype": "text/x-python",
   "name": "python",
   "nbconvert_exporter": "python",
   "pygments_lexer": "ipython3",
   "version": "3.9.1"
  }
 },
 "nbformat": 4,
 "nbformat_minor": 2
}
