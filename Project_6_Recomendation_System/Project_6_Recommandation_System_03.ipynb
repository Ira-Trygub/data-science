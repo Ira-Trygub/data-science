{
 "cells": [
  {
   "cell_type": "markdown",
   "id": "bbbeccde",
   "metadata": {},
   "source": [
    "# Recommendation Challenge"
   ]
  },
  {
   "cell_type": "code",
   "execution_count": null,
   "id": "8f24d3d2",
   "metadata": {},
   "outputs": [],
   "source": []
  },
  {
   "cell_type": "code",
   "execution_count": 2,
   "id": "0a23d8cd",
   "metadata": {},
   "outputs": [
    {
     "name": "stderr",
     "output_type": "stream",
     "text": [
      "C:\\Users\\trigu\\anaconda3\\lib\\site-packages\\lightfm\\_lightfm_fast.py:9: UserWarning: LightFM was compiled without OpenMP support. Only a single thread will be used.\n",
      "  warnings.warn(\n"
     ]
    }
   ],
   "source": [
    "import numpy as np # linear algebra\n",
    "import pandas as pd # data processing, CSV file I/O (e.g. pd.read_csv)\n",
    "\n",
    "import scipy.sparse as sparse\n",
    "\n",
    "from lightfm import LightFM\n",
    "from lightfm.cross_validation import random_train_test_split\n",
    "from lightfm.evaluation import auc_score, precision_at_k, recall_at_k\n",
    "import sklearn\n",
    "from sklearn.model_selection import train_test_split\n",
    "\n",
    "import scipy.sparse as sparse\n",
    "\n",
    "import matplotlib.pyplot as plt\n",
    "import seaborn as sns\n",
    "from sklearn.model_selection import GridSearchCV\n",
    "import json\n",
    "import category_encoders as ce\n",
    "from sklearn.preprocessing import MultiLabelBinarizer\n",
    "import re"
   ]
  },
  {
   "cell_type": "code",
   "execution_count": 3,
   "id": "327d6864",
   "metadata": {
    "scrolled": true
   },
   "outputs": [
    {
     "name": "stderr",
     "output_type": "stream",
     "text": [
      "C:\\Users\\trigu\\anaconda3\\lib\\site-packages\\IPython\\core\\interactiveshell.py:3165: DtypeWarning: Columns (8) have mixed types.Specify dtype option on import or set low_memory=False.\n",
      "  has_raised = await self.run_ast_nodes(code_ast.body, cell_name,\n",
      "C:\\Users\\trigu\\anaconda3\\lib\\site-packages\\IPython\\core\\interactiveshell.py:3165: DtypeWarning: Columns (5) have mixed types.Specify dtype option on import or set low_memory=False.\n",
      "  has_raised = await self.run_ast_nodes(code_ast.body, cell_name,\n"
     ]
    },
    {
     "data": {
      "text/html": [
       "<div>\n",
       "<style scoped>\n",
       "    .dataframe tbody tr th:only-of-type {\n",
       "        vertical-align: middle;\n",
       "    }\n",
       "\n",
       "    .dataframe tbody tr th {\n",
       "        vertical-align: top;\n",
       "    }\n",
       "\n",
       "    .dataframe thead th {\n",
       "        text-align: right;\n",
       "    }\n",
       "</style>\n",
       "<table border=\"1\" class=\"dataframe\">\n",
       "  <thead>\n",
       "    <tr style=\"text-align: right;\">\n",
       "      <th></th>\n",
       "      <th>overall</th>\n",
       "      <th>verified</th>\n",
       "      <th>reviewTime</th>\n",
       "      <th>asin</th>\n",
       "      <th>reviewerName</th>\n",
       "      <th>reviewText</th>\n",
       "      <th>summary</th>\n",
       "      <th>unixReviewTime</th>\n",
       "      <th>vote</th>\n",
       "      <th>style</th>\n",
       "      <th>image</th>\n",
       "      <th>userid</th>\n",
       "      <th>itemid</th>\n",
       "      <th>rating</th>\n",
       "    </tr>\n",
       "  </thead>\n",
       "  <tbody>\n",
       "    <tr>\n",
       "      <th>0</th>\n",
       "      <td>5.0</td>\n",
       "      <td>True</td>\n",
       "      <td>10 4, 2016</td>\n",
       "      <td>B01CPNIEQG</td>\n",
       "      <td>Heather</td>\n",
       "      <td>These are my FAVORITE spices in my collection....</td>\n",
       "      <td>Must Add to your Spice kitchen!</td>\n",
       "      <td>1475539200</td>\n",
       "      <td>NaN</td>\n",
       "      <td>NaN</td>\n",
       "      <td>NaN</td>\n",
       "      <td>102179</td>\n",
       "      <td>37138</td>\n",
       "      <td>1.0</td>\n",
       "    </tr>\n",
       "    <tr>\n",
       "      <th>1</th>\n",
       "      <td>5.0</td>\n",
       "      <td>True</td>\n",
       "      <td>03 1, 2016</td>\n",
       "      <td>B006F63M8U</td>\n",
       "      <td>Linda Odom</td>\n",
       "      <td>Add A package to my Coffee and it makes a good...</td>\n",
       "      <td>Milk Chocolate Swiis MIss Hot Cocoa Mix</td>\n",
       "      <td>1456790400</td>\n",
       "      <td>NaN</td>\n",
       "      <td>{'Size:': ' 60-0.73 oz Envelopes'}</td>\n",
       "      <td>NaN</td>\n",
       "      <td>3625</td>\n",
       "      <td>17322</td>\n",
       "      <td>1.0</td>\n",
       "    </tr>\n",
       "    <tr>\n",
       "      <th>2</th>\n",
       "      <td>5.0</td>\n",
       "      <td>True</td>\n",
       "      <td>06 26, 2016</td>\n",
       "      <td>B00112O8NG</td>\n",
       "      <td>DesertBlossom</td>\n",
       "      <td>I love the Torani syrups, but not the prices o...</td>\n",
       "      <td>Love these sugar free syrups, but didn't love ...</td>\n",
       "      <td>1466899200</td>\n",
       "      <td>28</td>\n",
       "      <td>NaN</td>\n",
       "      <td>NaN</td>\n",
       "      <td>39495</td>\n",
       "      <td>5600</td>\n",
       "      <td>1.0</td>\n",
       "    </tr>\n",
       "    <tr>\n",
       "      <th>3</th>\n",
       "      <td>5.0</td>\n",
       "      <td>True</td>\n",
       "      <td>09 5, 2013</td>\n",
       "      <td>B00MRAQUM8</td>\n",
       "      <td>Connie L. Reaves</td>\n",
       "      <td>Very fragrant. The price can't be beat. I do l...</td>\n",
       "      <td>Nice !</td>\n",
       "      <td>1378339200</td>\n",
       "      <td>NaN</td>\n",
       "      <td>NaN</td>\n",
       "      <td>NaN</td>\n",
       "      <td>72854</td>\n",
       "      <td>30249</td>\n",
       "      <td>1.0</td>\n",
       "    </tr>\n",
       "    <tr>\n",
       "      <th>4</th>\n",
       "      <td>5.0</td>\n",
       "      <td>True</td>\n",
       "      <td>09 14, 2016</td>\n",
       "      <td>B000R7RN0G</td>\n",
       "      <td>Mike P.</td>\n",
       "      <td>These are my favorite jalapeno chips so far. T...</td>\n",
       "      <td>These are my favorite jalapeno chips so far</td>\n",
       "      <td>1473811200</td>\n",
       "      <td>NaN</td>\n",
       "      <td>{'Flavor:': ' Jalapeo'}</td>\n",
       "      <td>NaN</td>\n",
       "      <td>74859</td>\n",
       "      <td>4349</td>\n",
       "      <td>1.0</td>\n",
       "    </tr>\n",
       "  </tbody>\n",
       "</table>\n",
       "</div>"
      ],
      "text/plain": [
       "   overall  verified   reviewTime        asin      reviewerName  \\\n",
       "0      5.0      True   10 4, 2016  B01CPNIEQG           Heather   \n",
       "1      5.0      True   03 1, 2016  B006F63M8U        Linda Odom   \n",
       "2      5.0      True  06 26, 2016  B00112O8NG     DesertBlossom   \n",
       "3      5.0      True   09 5, 2013  B00MRAQUM8  Connie L. Reaves   \n",
       "4      5.0      True  09 14, 2016  B000R7RN0G           Mike P.   \n",
       "\n",
       "                                          reviewText  \\\n",
       "0  These are my FAVORITE spices in my collection....   \n",
       "1  Add A package to my Coffee and it makes a good...   \n",
       "2  I love the Torani syrups, but not the prices o...   \n",
       "3  Very fragrant. The price can't be beat. I do l...   \n",
       "4  These are my favorite jalapeno chips so far. T...   \n",
       "\n",
       "                                             summary  unixReviewTime vote  \\\n",
       "0                    Must Add to your Spice kitchen!      1475539200  NaN   \n",
       "1            Milk Chocolate Swiis MIss Hot Cocoa Mix      1456790400  NaN   \n",
       "2  Love these sugar free syrups, but didn't love ...      1466899200   28   \n",
       "3                                             Nice !      1378339200  NaN   \n",
       "4        These are my favorite jalapeno chips so far      1473811200  NaN   \n",
       "\n",
       "                                style image  userid  itemid  rating  \n",
       "0                                 NaN   NaN  102179   37138     1.0  \n",
       "1  {'Size:': ' 60-0.73 oz Envelopes'}   NaN    3625   17322     1.0  \n",
       "2                                 NaN   NaN   39495    5600     1.0  \n",
       "3                                 NaN   NaN   72854   30249     1.0  \n",
       "4             {'Flavor:': ' Jalapeo'}   NaN   74859    4349     1.0  "
      ]
     },
     "execution_count": 3,
     "metadata": {},
     "output_type": "execute_result"
    }
   ],
   "source": [
    "train = pd.read_csv('train.csv')\n",
    "test = pd.read_csv('test.csv')\n",
    "submission = pd.read_csv('sample_submission.csv')\n",
    "train.head()"
   ]
  },
  {
   "cell_type": "code",
   "execution_count": 4,
   "id": "d93520b2",
   "metadata": {},
   "outputs": [
    {
     "data": {
      "text/html": [
       "<div>\n",
       "<style scoped>\n",
       "    .dataframe tbody tr th:only-of-type {\n",
       "        vertical-align: middle;\n",
       "    }\n",
       "\n",
       "    .dataframe tbody tr th {\n",
       "        vertical-align: top;\n",
       "    }\n",
       "\n",
       "    .dataframe thead th {\n",
       "        text-align: right;\n",
       "    }\n",
       "</style>\n",
       "<table border=\"1\" class=\"dataframe\">\n",
       "  <thead>\n",
       "    <tr style=\"text-align: right;\">\n",
       "      <th></th>\n",
       "      <th>category</th>\n",
       "      <th>description</th>\n",
       "      <th>title</th>\n",
       "      <th>brand</th>\n",
       "      <th>rank</th>\n",
       "      <th>also_view</th>\n",
       "      <th>main_cat</th>\n",
       "      <th>price</th>\n",
       "      <th>asin</th>\n",
       "      <th>also_buy</th>\n",
       "      <th>image</th>\n",
       "      <th>date</th>\n",
       "      <th>feature</th>\n",
       "      <th>details</th>\n",
       "      <th>similar_item</th>\n",
       "      <th>tech1</th>\n",
       "      <th>fit</th>\n",
       "    </tr>\n",
       "  </thead>\n",
       "  <tbody>\n",
       "    <tr>\n",
       "      <th>0</th>\n",
       "      <td>[Grocery &amp; Gourmet Food, Dairy, Cheese &amp; Eggs,...</td>\n",
       "      <td>[BEEMSTER GOUDA CHEESE AGED 18/24 MONTHS, Stat...</td>\n",
       "      <td>Beemster Gouda - Aged 18/24 Months - App. 1.5 Lbs</td>\n",
       "      <td>Ariola Imports</td>\n",
       "      <td>165,181inGroceryGourmetFood(</td>\n",
       "      <td>[B0000D9MYM, B0000D9MYL, B00ADHIGBA, B00H9OX59...</td>\n",
       "      <td>Grocery</td>\n",
       "      <td>$41.91</td>\n",
       "      <td>0681727810</td>\n",
       "      <td>NaN</td>\n",
       "      <td>NaN</td>\n",
       "      <td>NaN</td>\n",
       "      <td>NaN</td>\n",
       "      <td>NaN</td>\n",
       "      <td>NaN</td>\n",
       "      <td>NaN</td>\n",
       "      <td>NaN</td>\n",
       "    </tr>\n",
       "    <tr>\n",
       "      <th>1</th>\n",
       "      <td>[Grocery &amp; Gourmet Food, Cooking &amp; Baking, Sug...</td>\n",
       "      <td>[Shipped from UK, please allow 10 to 21 busine...</td>\n",
       "      <td>Trim Healthy Mama Xylitol</td>\n",
       "      <td>NaN</td>\n",
       "      <td>315,867inGroceryGourmetFood(</td>\n",
       "      <td>NaN</td>\n",
       "      <td>Grocery</td>\n",
       "      <td>NaN</td>\n",
       "      <td>0853347867</td>\n",
       "      <td>[B01898YHXK, B01BCM6LAC, B00Q4OL47O, B00Q4OL5Q...</td>\n",
       "      <td>[https://images-na.ssl-images-amazon.com/image...</td>\n",
       "      <td>NaN</td>\n",
       "      <td>NaN</td>\n",
       "      <td>NaN</td>\n",
       "      <td>NaN</td>\n",
       "      <td>NaN</td>\n",
       "      <td>NaN</td>\n",
       "    </tr>\n",
       "    <tr>\n",
       "      <th>2</th>\n",
       "      <td>[Grocery &amp; Gourmet Food, Cooking &amp; Baking, Fro...</td>\n",
       "      <td>[Jazz up your cakes with a sparkling monogram ...</td>\n",
       "      <td>Letter C - Swarovski Crystal Monogram Wedding ...</td>\n",
       "      <td>Unik Occasions</td>\n",
       "      <td>&gt;#669,941 in Kitchen &amp; Dining (See Top 100 in ...</td>\n",
       "      <td>[B07DXN65TF]</td>\n",
       "      <td>Amazon Home</td>\n",
       "      <td>$29.95</td>\n",
       "      <td>1888861118</td>\n",
       "      <td>NaN</td>\n",
       "      <td>NaN</td>\n",
       "      <td>September 21, 2010</td>\n",
       "      <td>NaN</td>\n",
       "      <td>NaN</td>\n",
       "      <td>NaN</td>\n",
       "      <td>NaN</td>\n",
       "      <td>NaN</td>\n",
       "    </tr>\n",
       "    <tr>\n",
       "      <th>3</th>\n",
       "      <td>[Grocery &amp; Gourmet Food, Cooking &amp; Baking, Fro...</td>\n",
       "      <td>[Large Letter - Height 4.75\"]</td>\n",
       "      <td>Letter H - Swarovski Crystal Monogram Wedding ...</td>\n",
       "      <td>Other</td>\n",
       "      <td>&gt;#832,581 in Kitchen &amp; Dining (See Top 100 in ...</td>\n",
       "      <td>NaN</td>\n",
       "      <td>Amazon Home</td>\n",
       "      <td>$11.45</td>\n",
       "      <td>1888861517</td>\n",
       "      <td>NaN</td>\n",
       "      <td>NaN</td>\n",
       "      <td>September 11, 2011</td>\n",
       "      <td>[Large Letter - Height 4.75\"]</td>\n",
       "      <td>NaN</td>\n",
       "      <td>NaN</td>\n",
       "      <td>NaN</td>\n",
       "      <td>NaN</td>\n",
       "    </tr>\n",
       "    <tr>\n",
       "      <th>4</th>\n",
       "      <td>[Grocery &amp; Gourmet Food, Cooking &amp; Baking, Fro...</td>\n",
       "      <td>[4.75\"]</td>\n",
       "      <td>Letter S - Swarovski Crystal Monogram Wedding ...</td>\n",
       "      <td>Unik Occasions</td>\n",
       "      <td>&gt;#590,999 in Kitchen &amp; Dining (See Top 100 in ...</td>\n",
       "      <td>NaN</td>\n",
       "      <td>Amazon Home</td>\n",
       "      <td>$15.00</td>\n",
       "      <td>1888861614</td>\n",
       "      <td>NaN</td>\n",
       "      <td>NaN</td>\n",
       "      <td>September 11, 2011</td>\n",
       "      <td>[4.75\" height]</td>\n",
       "      <td>NaN</td>\n",
       "      <td>NaN</td>\n",
       "      <td>NaN</td>\n",
       "      <td>NaN</td>\n",
       "    </tr>\n",
       "  </tbody>\n",
       "</table>\n",
       "</div>"
      ],
      "text/plain": [
       "                                            category  \\\n",
       "0  [Grocery & Gourmet Food, Dairy, Cheese & Eggs,...   \n",
       "1  [Grocery & Gourmet Food, Cooking & Baking, Sug...   \n",
       "2  [Grocery & Gourmet Food, Cooking & Baking, Fro...   \n",
       "3  [Grocery & Gourmet Food, Cooking & Baking, Fro...   \n",
       "4  [Grocery & Gourmet Food, Cooking & Baking, Fro...   \n",
       "\n",
       "                                         description  \\\n",
       "0  [BEEMSTER GOUDA CHEESE AGED 18/24 MONTHS, Stat...   \n",
       "1  [Shipped from UK, please allow 10 to 21 busine...   \n",
       "2  [Jazz up your cakes with a sparkling monogram ...   \n",
       "3                      [Large Letter - Height 4.75\"]   \n",
       "4                                            [4.75\"]   \n",
       "\n",
       "                                               title           brand  \\\n",
       "0  Beemster Gouda - Aged 18/24 Months - App. 1.5 Lbs  Ariola Imports   \n",
       "1                          Trim Healthy Mama Xylitol             NaN   \n",
       "2  Letter C - Swarovski Crystal Monogram Wedding ...  Unik Occasions   \n",
       "3  Letter H - Swarovski Crystal Monogram Wedding ...           Other   \n",
       "4  Letter S - Swarovski Crystal Monogram Wedding ...  Unik Occasions   \n",
       "\n",
       "                                                rank  \\\n",
       "0                       165,181inGroceryGourmetFood(   \n",
       "1                       315,867inGroceryGourmetFood(   \n",
       "2  >#669,941 in Kitchen & Dining (See Top 100 in ...   \n",
       "3  >#832,581 in Kitchen & Dining (See Top 100 in ...   \n",
       "4  >#590,999 in Kitchen & Dining (See Top 100 in ...   \n",
       "\n",
       "                                           also_view     main_cat   price  \\\n",
       "0  [B0000D9MYM, B0000D9MYL, B00ADHIGBA, B00H9OX59...      Grocery  $41.91   \n",
       "1                                                NaN      Grocery     NaN   \n",
       "2                                       [B07DXN65TF]  Amazon Home  $29.95   \n",
       "3                                                NaN  Amazon Home  $11.45   \n",
       "4                                                NaN  Amazon Home  $15.00   \n",
       "\n",
       "         asin                                           also_buy  \\\n",
       "0  0681727810                                                NaN   \n",
       "1  0853347867  [B01898YHXK, B01BCM6LAC, B00Q4OL47O, B00Q4OL5Q...   \n",
       "2  1888861118                                                NaN   \n",
       "3  1888861517                                                NaN   \n",
       "4  1888861614                                                NaN   \n",
       "\n",
       "                                               image                date  \\\n",
       "0                                                NaN                 NaN   \n",
       "1  [https://images-na.ssl-images-amazon.com/image...                 NaN   \n",
       "2                                                NaN  September 21, 2010   \n",
       "3                                                NaN  September 11, 2011   \n",
       "4                                                NaN  September 11, 2011   \n",
       "\n",
       "                         feature details similar_item tech1  fit  \n",
       "0                            NaN     NaN          NaN   NaN  NaN  \n",
       "1                            NaN     NaN          NaN   NaN  NaN  \n",
       "2                            NaN     NaN          NaN   NaN  NaN  \n",
       "3  [Large Letter - Height 4.75\"]     NaN          NaN   NaN  NaN  \n",
       "4                 [4.75\" height]     NaN          NaN   NaN  NaN  "
      ]
     },
     "execution_count": 4,
     "metadata": {},
     "output_type": "execute_result"
    }
   ],
   "source": [
    "with open('meta_Grocery_and_Gourmet_Food.json') as json_file:      \n",
    "    meta = json_file.readlines()\n",
    "    # this line below may take at least 8-10 minutes of processing for 4-5 million rows. It converts all strings in list to actual json objects. \n",
    "    meta = list(map(json.loads, meta)) \n",
    "\n",
    "meta = pd.DataFrame(meta)\n",
    "meta.head()"
   ]
  },
  {
   "cell_type": "markdown",
   "id": "72ae12ba",
   "metadata": {},
   "source": [
    "### EDA"
   ]
  },
  {
   "cell_type": "code",
   "execution_count": 5,
   "id": "d7dedfd9",
   "metadata": {
    "scrolled": true
   },
   "outputs": [
    {
     "name": "stdout",
     "output_type": "stream",
     "text": [
      "<class 'pandas.core.frame.DataFrame'>\n",
      "RangeIndex: 857895 entries, 0 to 857894\n",
      "Data columns (total 14 columns):\n",
      " #   Column          Non-Null Count   Dtype  \n",
      "---  ------          --------------   -----  \n",
      " 0   overall         857895 non-null  float64\n",
      " 1   verified        857895 non-null  bool   \n",
      " 2   reviewTime      857895 non-null  object \n",
      " 3   asin            857895 non-null  object \n",
      " 4   reviewerName    857719 non-null  object \n",
      " 5   reviewText      857616 non-null  object \n",
      " 6   summary         857725 non-null  object \n",
      " 7   unixReviewTime  857895 non-null  int64  \n",
      " 8   vote            118740 non-null  object \n",
      " 9   style           444406 non-null  object \n",
      " 10  image           7142 non-null    object \n",
      " 11  userid          857895 non-null  int64  \n",
      " 12  itemid          857895 non-null  int64  \n",
      " 13  rating          857895 non-null  float64\n",
      "dtypes: bool(1), float64(2), int64(3), object(8)\n",
      "memory usage: 85.9+ MB\n"
     ]
    }
   ],
   "source": [
    "train.info()"
   ]
  },
  {
   "cell_type": "code",
   "execution_count": 6,
   "id": "8fc7f4f8",
   "metadata": {},
   "outputs": [
    {
     "name": "stdout",
     "output_type": "stream",
     "text": [
      "<class 'pandas.core.frame.DataFrame'>\n",
      "RangeIndex: 285965 entries, 0 to 285964\n",
      "Data columns (total 11 columns):\n",
      " #   Column          Non-Null Count   Dtype \n",
      "---  ------          --------------   ----- \n",
      " 0   verified        285965 non-null  bool  \n",
      " 1   reviewTime      285965 non-null  object\n",
      " 2   asin            285965 non-null  object\n",
      " 3   reviewerName    285918 non-null  object\n",
      " 4   unixReviewTime  285965 non-null  int64 \n",
      " 5   vote            39462 non-null   object\n",
      " 6   style           147680 non-null  object\n",
      " 7   image           2368 non-null    object\n",
      " 8   userid          285965 non-null  int64 \n",
      " 9   itemid          285965 non-null  int64 \n",
      " 10  Id              285965 non-null  int64 \n",
      "dtypes: bool(1), int64(4), object(6)\n",
      "memory usage: 22.1+ MB\n"
     ]
    }
   ],
   "source": [
    "test.info()"
   ]
  },
  {
   "cell_type": "markdown",
   "id": "0e59d68d",
   "metadata": {},
   "source": [
    "We will drop excess elements from Train dataFrame:"
   ]
  },
  {
   "cell_type": "code",
   "execution_count": 7,
   "id": "c3258887",
   "metadata": {},
   "outputs": [
    {
     "data": {
      "text/plain": [
       "['overall', 'reviewText', 'summary', 'rating']"
      ]
     },
     "execution_count": 7,
     "metadata": {},
     "output_type": "execute_result"
    }
   ],
   "source": [
    "to_drop = []\n",
    "for col in train.columns:\n",
    "    if  col not in test.columns:\n",
    "        to_drop.append(col)\n",
    "to_drop "
   ]
  },
  {
   "cell_type": "code",
   "execution_count": 8,
   "id": "4eaa272f",
   "metadata": {},
   "outputs": [
    {
     "data": {
      "text/html": [
       "<div>\n",
       "<style scoped>\n",
       "    .dataframe tbody tr th:only-of-type {\n",
       "        vertical-align: middle;\n",
       "    }\n",
       "\n",
       "    .dataframe tbody tr th {\n",
       "        vertical-align: top;\n",
       "    }\n",
       "\n",
       "    .dataframe thead th {\n",
       "        text-align: right;\n",
       "    }\n",
       "</style>\n",
       "<table border=\"1\" class=\"dataframe\">\n",
       "  <thead>\n",
       "    <tr style=\"text-align: right;\">\n",
       "      <th></th>\n",
       "      <th>verified</th>\n",
       "      <th>reviewTime</th>\n",
       "      <th>asin</th>\n",
       "      <th>reviewerName</th>\n",
       "      <th>unixReviewTime</th>\n",
       "      <th>vote</th>\n",
       "      <th>style</th>\n",
       "      <th>image</th>\n",
       "      <th>userid</th>\n",
       "      <th>itemid</th>\n",
       "      <th>rating</th>\n",
       "    </tr>\n",
       "  </thead>\n",
       "  <tbody>\n",
       "    <tr>\n",
       "      <th>0</th>\n",
       "      <td>True</td>\n",
       "      <td>10 4, 2016</td>\n",
       "      <td>B01CPNIEQG</td>\n",
       "      <td>Heather</td>\n",
       "      <td>1475539200</td>\n",
       "      <td>NaN</td>\n",
       "      <td>NaN</td>\n",
       "      <td>NaN</td>\n",
       "      <td>102179</td>\n",
       "      <td>37138</td>\n",
       "      <td>1.0</td>\n",
       "    </tr>\n",
       "    <tr>\n",
       "      <th>1</th>\n",
       "      <td>True</td>\n",
       "      <td>03 1, 2016</td>\n",
       "      <td>B006F63M8U</td>\n",
       "      <td>Linda Odom</td>\n",
       "      <td>1456790400</td>\n",
       "      <td>NaN</td>\n",
       "      <td>{'Size:': ' 60-0.73 oz Envelopes'}</td>\n",
       "      <td>NaN</td>\n",
       "      <td>3625</td>\n",
       "      <td>17322</td>\n",
       "      <td>1.0</td>\n",
       "    </tr>\n",
       "    <tr>\n",
       "      <th>2</th>\n",
       "      <td>True</td>\n",
       "      <td>06 26, 2016</td>\n",
       "      <td>B00112O8NG</td>\n",
       "      <td>DesertBlossom</td>\n",
       "      <td>1466899200</td>\n",
       "      <td>28</td>\n",
       "      <td>NaN</td>\n",
       "      <td>NaN</td>\n",
       "      <td>39495</td>\n",
       "      <td>5600</td>\n",
       "      <td>1.0</td>\n",
       "    </tr>\n",
       "  </tbody>\n",
       "</table>\n",
       "</div>"
      ],
      "text/plain": [
       "   verified   reviewTime        asin   reviewerName  unixReviewTime vote  \\\n",
       "0      True   10 4, 2016  B01CPNIEQG        Heather      1475539200  NaN   \n",
       "1      True   03 1, 2016  B006F63M8U     Linda Odom      1456790400  NaN   \n",
       "2      True  06 26, 2016  B00112O8NG  DesertBlossom      1466899200   28   \n",
       "\n",
       "                                style image  userid  itemid  rating  \n",
       "0                                 NaN   NaN  102179   37138     1.0  \n",
       "1  {'Size:': ' 60-0.73 oz Envelopes'}   NaN    3625   17322     1.0  \n",
       "2                                 NaN   NaN   39495    5600     1.0  "
      ]
     },
     "execution_count": 8,
     "metadata": {},
     "output_type": "execute_result"
    }
   ],
   "source": [
    "train = train.drop(['overall', 'reviewText', 'summary'], axis = 1)\n",
    "train.head(3)"
   ]
  },
  {
   "cell_type": "code",
   "execution_count": 9,
   "id": "ef9cdca0",
   "metadata": {
    "scrolled": true
   },
   "outputs": [
    {
     "name": "stdout",
     "output_type": "stream",
     "text": [
      "<class 'pandas.core.frame.DataFrame'>\n",
      "RangeIndex: 287209 entries, 0 to 287208\n",
      "Data columns (total 17 columns):\n",
      " #   Column        Non-Null Count   Dtype \n",
      "---  ------        --------------   ----- \n",
      " 0   category      287209 non-null  object\n",
      " 1   description   251802 non-null  object\n",
      " 2   title         287205 non-null  object\n",
      " 3   brand         275787 non-null  object\n",
      " 4   rank          275494 non-null  object\n",
      " 5   also_view     121012 non-null  object\n",
      " 6   main_cat      285716 non-null  object\n",
      " 7   price         132136 non-null  object\n",
      " 8   asin          287209 non-null  object\n",
      " 9   also_buy      83332 non-null   object\n",
      " 10  image         150214 non-null  object\n",
      " 11  date          9663 non-null    object\n",
      " 12  feature       16374 non-null   object\n",
      " 13  details       273323 non-null  object\n",
      " 14  similar_item  256 non-null     object\n",
      " 15  tech1         744 non-null     object\n",
      " 16  fit           4 non-null       object\n",
      "dtypes: object(17)\n",
      "memory usage: 37.3+ MB\n"
     ]
    }
   ],
   "source": [
    "meta.info()"
   ]
  },
  {
   "cell_type": "markdown",
   "id": "7ba10d60",
   "metadata": {},
   "source": [
    "Let's merge DataFrames by a common column 'asin'"
   ]
  },
  {
   "cell_type": "code",
   "execution_count": 10,
   "id": "d4c22ff4",
   "metadata": {},
   "outputs": [
    {
     "data": {
      "text/html": [
       "<div>\n",
       "<style scoped>\n",
       "    .dataframe tbody tr th:only-of-type {\n",
       "        vertical-align: middle;\n",
       "    }\n",
       "\n",
       "    .dataframe tbody tr th {\n",
       "        vertical-align: top;\n",
       "    }\n",
       "\n",
       "    .dataframe thead th {\n",
       "        text-align: right;\n",
       "    }\n",
       "</style>\n",
       "<table border=\"1\" class=\"dataframe\">\n",
       "  <thead>\n",
       "    <tr style=\"text-align: right;\">\n",
       "      <th></th>\n",
       "      <th>category</th>\n",
       "      <th>description</th>\n",
       "      <th>title</th>\n",
       "      <th>brand</th>\n",
       "      <th>rank</th>\n",
       "      <th>also_view</th>\n",
       "      <th>main_cat</th>\n",
       "      <th>price</th>\n",
       "      <th>asin</th>\n",
       "      <th>also_buy</th>\n",
       "      <th>...</th>\n",
       "      <th>verified</th>\n",
       "      <th>reviewTime</th>\n",
       "      <th>reviewerName</th>\n",
       "      <th>unixReviewTime</th>\n",
       "      <th>vote</th>\n",
       "      <th>style</th>\n",
       "      <th>image_y</th>\n",
       "      <th>userid</th>\n",
       "      <th>itemid</th>\n",
       "      <th>rating</th>\n",
       "    </tr>\n",
       "  </thead>\n",
       "  <tbody>\n",
       "    <tr>\n",
       "      <th>0</th>\n",
       "      <td>[Grocery &amp; Gourmet Food, Beverages, Coffee, Te...</td>\n",
       "      <td>[Lipton Yellow Label Tea use only the finest t...</td>\n",
       "      <td>Lipton Yellow Label Tea (loose tea) - 450g</td>\n",
       "      <td>Lipton</td>\n",
       "      <td>30,937inGroceryGourmetFood(</td>\n",
       "      <td>[B00CREXSHY, B001QTRGAQ, B000JSQK70, B002EYZM4...</td>\n",
       "      <td>Grocery</td>\n",
       "      <td>$12.46</td>\n",
       "      <td>4639725043</td>\n",
       "      <td>[B00886E4K0, B00CREXSHY, B001QTRGAQ, B002EYZM4...</td>\n",
       "      <td>...</td>\n",
       "      <td>True</td>\n",
       "      <td>02 11, 2016</td>\n",
       "      <td>ALFRED W</td>\n",
       "      <td>1455148800</td>\n",
       "      <td>NaN</td>\n",
       "      <td>NaN</td>\n",
       "      <td>NaN</td>\n",
       "      <td>20</td>\n",
       "      <td>1</td>\n",
       "      <td>1.0</td>\n",
       "    </tr>\n",
       "    <tr>\n",
       "      <th>1</th>\n",
       "      <td>[Grocery &amp; Gourmet Food, Beverages, Coffee, Te...</td>\n",
       "      <td>[Lipton Yellow Label Tea use only the finest t...</td>\n",
       "      <td>Lipton Yellow Label Tea (loose tea) - 450g</td>\n",
       "      <td>Lipton</td>\n",
       "      <td>30,937inGroceryGourmetFood(</td>\n",
       "      <td>[B00CREXSHY, B001QTRGAQ, B000JSQK70, B002EYZM4...</td>\n",
       "      <td>Grocery</td>\n",
       "      <td>$12.46</td>\n",
       "      <td>4639725043</td>\n",
       "      <td>[B00886E4K0, B00CREXSHY, B001QTRGAQ, B002EYZM4...</td>\n",
       "      <td>...</td>\n",
       "      <td>True</td>\n",
       "      <td>08 28, 2016</td>\n",
       "      <td>cowgirl</td>\n",
       "      <td>1472342400</td>\n",
       "      <td>NaN</td>\n",
       "      <td>NaN</td>\n",
       "      <td>NaN</td>\n",
       "      <td>17</td>\n",
       "      <td>1</td>\n",
       "      <td>1.0</td>\n",
       "    </tr>\n",
       "    <tr>\n",
       "      <th>2</th>\n",
       "      <td>[Grocery &amp; Gourmet Food, Beverages, Coffee, Te...</td>\n",
       "      <td>[Lipton Yellow Label Tea use only the finest t...</td>\n",
       "      <td>Lipton Yellow Label Tea (loose tea) - 450g</td>\n",
       "      <td>Lipton</td>\n",
       "      <td>30,937inGroceryGourmetFood(</td>\n",
       "      <td>[B00CREXSHY, B001QTRGAQ, B000JSQK70, B002EYZM4...</td>\n",
       "      <td>Grocery</td>\n",
       "      <td>$12.46</td>\n",
       "      <td>4639725043</td>\n",
       "      <td>[B00886E4K0, B00CREXSHY, B001QTRGAQ, B002EYZM4...</td>\n",
       "      <td>...</td>\n",
       "      <td>True</td>\n",
       "      <td>07 4, 2015</td>\n",
       "      <td>Mohammed Siddiqui</td>\n",
       "      <td>1435968000</td>\n",
       "      <td>NaN</td>\n",
       "      <td>NaN</td>\n",
       "      <td>NaN</td>\n",
       "      <td>24</td>\n",
       "      <td>1</td>\n",
       "      <td>1.0</td>\n",
       "    </tr>\n",
       "    <tr>\n",
       "      <th>3</th>\n",
       "      <td>[Grocery &amp; Gourmet Food, Beverages, Coffee, Te...</td>\n",
       "      <td>[Lipton Yellow Label Tea use only the finest t...</td>\n",
       "      <td>Lipton Yellow Label Tea (loose tea) - 450g</td>\n",
       "      <td>Lipton</td>\n",
       "      <td>30,937inGroceryGourmetFood(</td>\n",
       "      <td>[B00CREXSHY, B001QTRGAQ, B000JSQK70, B002EYZM4...</td>\n",
       "      <td>Grocery</td>\n",
       "      <td>$12.46</td>\n",
       "      <td>4639725043</td>\n",
       "      <td>[B00886E4K0, B00CREXSHY, B001QTRGAQ, B002EYZM4...</td>\n",
       "      <td>...</td>\n",
       "      <td>True</td>\n",
       "      <td>08 3, 2013</td>\n",
       "      <td>Karen Amrhein</td>\n",
       "      <td>1375488000</td>\n",
       "      <td>NaN</td>\n",
       "      <td>NaN</td>\n",
       "      <td>NaN</td>\n",
       "      <td>34</td>\n",
       "      <td>1</td>\n",
       "      <td>1.0</td>\n",
       "    </tr>\n",
       "    <tr>\n",
       "      <th>4</th>\n",
       "      <td>[Grocery &amp; Gourmet Food, Beverages, Coffee, Te...</td>\n",
       "      <td>[Lipton Yellow Label Tea use only the finest t...</td>\n",
       "      <td>Lipton Yellow Label Tea (loose tea) - 450g</td>\n",
       "      <td>Lipton</td>\n",
       "      <td>30,937inGroceryGourmetFood(</td>\n",
       "      <td>[B00CREXSHY, B001QTRGAQ, B000JSQK70, B002EYZM4...</td>\n",
       "      <td>Grocery</td>\n",
       "      <td>$12.46</td>\n",
       "      <td>4639725043</td>\n",
       "      <td>[B00886E4K0, B00CREXSHY, B001QTRGAQ, B002EYZM4...</td>\n",
       "      <td>...</td>\n",
       "      <td>True</td>\n",
       "      <td>04 14, 2014</td>\n",
       "      <td>J. Voelkle</td>\n",
       "      <td>1397433600</td>\n",
       "      <td>NaN</td>\n",
       "      <td>NaN</td>\n",
       "      <td>NaN</td>\n",
       "      <td>32</td>\n",
       "      <td>1</td>\n",
       "      <td>1.0</td>\n",
       "    </tr>\n",
       "  </tbody>\n",
       "</table>\n",
       "<p>5 rows × 27 columns</p>\n",
       "</div>"
      ],
      "text/plain": [
       "                                            category  \\\n",
       "0  [Grocery & Gourmet Food, Beverages, Coffee, Te...   \n",
       "1  [Grocery & Gourmet Food, Beverages, Coffee, Te...   \n",
       "2  [Grocery & Gourmet Food, Beverages, Coffee, Te...   \n",
       "3  [Grocery & Gourmet Food, Beverages, Coffee, Te...   \n",
       "4  [Grocery & Gourmet Food, Beverages, Coffee, Te...   \n",
       "\n",
       "                                         description  \\\n",
       "0  [Lipton Yellow Label Tea use only the finest t...   \n",
       "1  [Lipton Yellow Label Tea use only the finest t...   \n",
       "2  [Lipton Yellow Label Tea use only the finest t...   \n",
       "3  [Lipton Yellow Label Tea use only the finest t...   \n",
       "4  [Lipton Yellow Label Tea use only the finest t...   \n",
       "\n",
       "                                        title   brand  \\\n",
       "0  Lipton Yellow Label Tea (loose tea) - 450g  Lipton   \n",
       "1  Lipton Yellow Label Tea (loose tea) - 450g  Lipton   \n",
       "2  Lipton Yellow Label Tea (loose tea) - 450g  Lipton   \n",
       "3  Lipton Yellow Label Tea (loose tea) - 450g  Lipton   \n",
       "4  Lipton Yellow Label Tea (loose tea) - 450g  Lipton   \n",
       "\n",
       "                          rank  \\\n",
       "0  30,937inGroceryGourmetFood(   \n",
       "1  30,937inGroceryGourmetFood(   \n",
       "2  30,937inGroceryGourmetFood(   \n",
       "3  30,937inGroceryGourmetFood(   \n",
       "4  30,937inGroceryGourmetFood(   \n",
       "\n",
       "                                           also_view main_cat   price  \\\n",
       "0  [B00CREXSHY, B001QTRGAQ, B000JSQK70, B002EYZM4...  Grocery  $12.46   \n",
       "1  [B00CREXSHY, B001QTRGAQ, B000JSQK70, B002EYZM4...  Grocery  $12.46   \n",
       "2  [B00CREXSHY, B001QTRGAQ, B000JSQK70, B002EYZM4...  Grocery  $12.46   \n",
       "3  [B00CREXSHY, B001QTRGAQ, B000JSQK70, B002EYZM4...  Grocery  $12.46   \n",
       "4  [B00CREXSHY, B001QTRGAQ, B000JSQK70, B002EYZM4...  Grocery  $12.46   \n",
       "\n",
       "         asin                                           also_buy  ...  \\\n",
       "0  4639725043  [B00886E4K0, B00CREXSHY, B001QTRGAQ, B002EYZM4...  ...   \n",
       "1  4639725043  [B00886E4K0, B00CREXSHY, B001QTRGAQ, B002EYZM4...  ...   \n",
       "2  4639725043  [B00886E4K0, B00CREXSHY, B001QTRGAQ, B002EYZM4...  ...   \n",
       "3  4639725043  [B00886E4K0, B00CREXSHY, B001QTRGAQ, B002EYZM4...  ...   \n",
       "4  4639725043  [B00886E4K0, B00CREXSHY, B001QTRGAQ, B002EYZM4...  ...   \n",
       "\n",
       "  verified   reviewTime       reviewerName unixReviewTime vote style image_y  \\\n",
       "0     True  02 11, 2016           ALFRED W     1455148800  NaN   NaN     NaN   \n",
       "1     True  08 28, 2016            cowgirl     1472342400  NaN   NaN     NaN   \n",
       "2     True   07 4, 2015  Mohammed Siddiqui     1435968000  NaN   NaN     NaN   \n",
       "3     True   08 3, 2013      Karen Amrhein     1375488000  NaN   NaN     NaN   \n",
       "4     True  04 14, 2014         J. Voelkle     1397433600  NaN   NaN     NaN   \n",
       "\n",
       "   userid itemid rating  \n",
       "0      20      1    1.0  \n",
       "1      17      1    1.0  \n",
       "2      24      1    1.0  \n",
       "3      34      1    1.0  \n",
       "4      32      1    1.0  \n",
       "\n",
       "[5 rows x 27 columns]"
      ]
     },
     "execution_count": 10,
     "metadata": {},
     "output_type": "execute_result"
    }
   ],
   "source": [
    "data = pd.merge(meta,train, on='asin')\n",
    "test = pd.merge(meta,test, on='asin')\n",
    "data.head()"
   ]
  },
  {
   "cell_type": "code",
   "execution_count": 11,
   "id": "bee4abd8",
   "metadata": {},
   "outputs": [
    {
     "name": "stdout",
     "output_type": "stream",
     "text": [
      "<class 'pandas.core.frame.DataFrame'>\n",
      "Int64Index: 876561 entries, 0 to 876560\n",
      "Data columns (total 27 columns):\n",
      " #   Column          Non-Null Count   Dtype  \n",
      "---  ------          --------------   -----  \n",
      " 0   category        876561 non-null  object \n",
      " 1   description     803859 non-null  object \n",
      " 2   title           876561 non-null  object \n",
      " 3   brand           870281 non-null  object \n",
      " 4   rank            839158 non-null  object \n",
      " 5   also_view       487527 non-null  object \n",
      " 6   main_cat        875596 non-null  object \n",
      " 7   price           608169 non-null  object \n",
      " 8   asin            876561 non-null  object \n",
      " 9   also_buy        752810 non-null  object \n",
      " 10  image_x         781854 non-null  object \n",
      " 11  date            12909 non-null   object \n",
      " 12  feature         147926 non-null  object \n",
      " 13  details         861055 non-null  object \n",
      " 14  similar_item    1194 non-null    object \n",
      " 15  tech1           4609 non-null    object \n",
      " 16  fit             0 non-null       object \n",
      " 17  verified        876561 non-null  bool   \n",
      " 18  reviewTime      876561 non-null  object \n",
      " 19  reviewerName    876381 non-null  object \n",
      " 20  unixReviewTime  876561 non-null  int64  \n",
      " 21  vote            121610 non-null  object \n",
      " 22  style           455492 non-null  object \n",
      " 23  image_y         7254 non-null    object \n",
      " 24  userid          876561 non-null  int64  \n",
      " 25  itemid          876561 non-null  int64  \n",
      " 26  rating          876561 non-null  float64\n",
      "dtypes: bool(1), float64(1), int64(3), object(22)\n",
      "memory usage: 181.4+ MB\n"
     ]
    }
   ],
   "source": [
    "data.info()"
   ]
  },
  {
   "cell_type": "markdown",
   "id": "41e02136",
   "metadata": {},
   "source": [
    "###  Column Information"
   ]
  },
  {
   "cell_type": "markdown",
   "id": "e7e15caf",
   "metadata": {},
   "source": [
    "overall - the rating given by the user \n",
    "verified - whether the review has been verified\n",
    "reviewTime - when was the review written\n",
    "reviewerName - username\n",
    "reviewText - review text\n",
    "summary - concise review\n",
    "vote - number of votes for a review\n",
    "style - metadata\n",
    "image - product picture\n",
    "userid - user id\n",
    "itemid - item id\n",
    "id - id for prediction"
   ]
  },
  {
   "cell_type": "markdown",
   "id": "f886c901",
   "metadata": {},
   "source": [
    "### Let's check whether we have some None data:"
   ]
  },
  {
   "cell_type": "code",
   "execution_count": 12,
   "id": "a43b70ca",
   "metadata": {
    "scrolled": true
   },
   "outputs": [
    {
     "data": {
      "text/plain": [
       "category               0\n",
       "description        72702\n",
       "title                  0\n",
       "brand               6280\n",
       "rank               37403\n",
       "also_view         389034\n",
       "main_cat             965\n",
       "price             268392\n",
       "asin                   0\n",
       "also_buy          123751\n",
       "image_x            94707\n",
       "date              863652\n",
       "feature           728635\n",
       "details            15506\n",
       "similar_item      875367\n",
       "tech1             871952\n",
       "fit               876561\n",
       "verified               0\n",
       "reviewTime             0\n",
       "reviewerName         180\n",
       "unixReviewTime         0\n",
       "vote              754951\n",
       "style             421069\n",
       "image_y           869307\n",
       "userid                 0\n",
       "itemid                 0\n",
       "rating                 0\n",
       "dtype: int64"
      ]
     },
     "execution_count": 12,
     "metadata": {},
     "output_type": "execute_result"
    }
   ],
   "source": [
    "data.isnull().sum()"
   ]
  },
  {
   "cell_type": "markdown",
   "id": "428e5987",
   "metadata": {},
   "source": [
    "There are a lot of columns that don't have any relevant values. Let's drop them"
   ]
  },
  {
   "cell_type": "code",
   "execution_count": 13,
   "id": "97bceef2",
   "metadata": {},
   "outputs": [],
   "source": [
    "data = data.drop(['date', 'feature', 'similar_item', 'tech1', 'fit'], axis = 1)\n"
   ]
  },
  {
   "cell_type": "markdown",
   "id": "2322a45d",
   "metadata": {},
   "source": [
    "### Feature Processing"
   ]
  },
  {
   "cell_type": "markdown",
   "id": "bad62c36",
   "metadata": {},
   "source": [
    " Let's think about how we better fill the gaps in the following columns and prepare them for training models"
   ]
  },
  {
   "cell_type": "markdown",
   "id": "adecebac",
   "metadata": {},
   "source": [
    "#####  'brand'"
   ]
  },
  {
   "cell_type": "code",
   "execution_count": 14,
   "id": "294b8225",
   "metadata": {},
   "outputs": [
    {
     "data": {
      "text/plain": [
       "count     870281\n",
       "unique      8866\n",
       "top         KIND\n",
       "freq       22714\n",
       "Name: brand, dtype: object"
      ]
     },
     "execution_count": 14,
     "metadata": {},
     "output_type": "execute_result"
    }
   ],
   "source": [
    "data.brand.describe()"
   ]
  },
  {
   "cell_type": "markdown",
   "id": "8421d031",
   "metadata": {},
   "source": [
    "As we see the brand feature is categorical and there is a huge number of values for this column. In order to encode them, we use Target Encoding.\n",
    "For the case of categorical target: features are replaced with a blend of posterior probability of the target given particular categorical value and the prior probability of the target over all the training data."
   ]
  },
  {
   "cell_type": "code",
   "execution_count": 15,
   "id": "c1ac73f6",
   "metadata": {
    "scrolled": true
   },
   "outputs": [
    {
     "data": {
      "text/plain": [
       "KIND                     22714\n",
       "Bob's Red Mill           14189\n",
       "Twinings                 11214\n",
       "Planters                 10740\n",
       "Frontier                  7415\n",
       "                         ...  \n",
       "Genesis Today                1\n",
       "Sugar                        1\n",
       "Drumstick                    1\n",
       "Global Healing Center        1\n",
       "Brooks                       1\n",
       "Name: brand, Length: 8866, dtype: int64"
      ]
     },
     "execution_count": 15,
     "metadata": {},
     "output_type": "execute_result"
    }
   ],
   "source": [
    "data.brand.value_counts()"
   ]
  },
  {
   "cell_type": "code",
   "execution_count": 16,
   "id": "7589c484",
   "metadata": {},
   "outputs": [
    {
     "name": "stderr",
     "output_type": "stream",
     "text": [
      "C:\\Users\\trigu\\anaconda3\\lib\\site-packages\\category_encoders\\utils.py:21: FutureWarning: is_categorical is deprecated and will be removed in a future version.  Use is_categorical_dtype instead\n",
      "  elif pd.api.types.is_categorical(cols):\n"
     ]
    }
   ],
   "source": [
    "brand_encoder = ce.TargetEncoder()\n",
    "brand_encoder.set_params(smoothing = 10)\n",
    "data['Brand Encoded'] = brand_encoder.fit_transform(data['brand'], data['rating'])"
   ]
  },
  {
   "cell_type": "code",
   "execution_count": 17,
   "id": "bdf2a458",
   "metadata": {},
   "outputs": [],
   "source": [
    "test['Brand Encoded'] = brand_encoder.transform(test['brand'], y=None, override_return_df=False)"
   ]
  },
  {
   "cell_type": "code",
   "execution_count": 18,
   "id": "00b29435",
   "metadata": {},
   "outputs": [
    {
     "data": {
      "text/plain": [
       "0"
      ]
     },
     "execution_count": 18,
     "metadata": {},
     "output_type": "execute_result"
    }
   ],
   "source": [
    "data['Brand Encoded'].isnull().sum()"
   ]
  },
  {
   "cell_type": "markdown",
   "id": "9f925215",
   "metadata": {},
   "source": [
    "Target Encoding saves our efforts and handles gaps by itself, so we can simply delete the old column 'brand'"
   ]
  },
  {
   "cell_type": "code",
   "execution_count": 19,
   "id": "ec6b1524",
   "metadata": {},
   "outputs": [],
   "source": [
    "data = data.drop(['brand'], axis = 1)\n",
    "test = test.drop(['brand'], axis = 1)"
   ]
  },
  {
   "cell_type": "markdown",
   "id": "7c190911",
   "metadata": {},
   "source": [
    "#### 'title'"
   ]
  },
  {
   "cell_type": "code",
   "execution_count": 20,
   "id": "117a1395",
   "metadata": {},
   "outputs": [
    {
     "data": {
      "text/plain": [
       "count                                                876561\n",
       "unique                                                41149\n",
       "top       KIND Bars, Dark Chocolate Nuts & Sea Salt, Glu...\n",
       "freq                                                   7496\n",
       "Name: title, dtype: object"
      ]
     },
     "execution_count": 20,
     "metadata": {},
     "output_type": "execute_result"
    }
   ],
   "source": [
    "data.title.describe()"
   ]
  },
  {
   "cell_type": "code",
   "execution_count": 21,
   "id": "e97cb243",
   "metadata": {},
   "outputs": [
    {
     "name": "stderr",
     "output_type": "stream",
     "text": [
      "C:\\Users\\trigu\\anaconda3\\lib\\site-packages\\category_encoders\\utils.py:21: FutureWarning: is_categorical is deprecated and will be removed in a future version.  Use is_categorical_dtype instead\n",
      "  elif pd.api.types.is_categorical(cols):\n"
     ]
    }
   ],
   "source": [
    "title_encoder = ce.TargetEncoder()\n",
    "#main_cat_encoder.set_params(smoothing = 10)\n",
    "data['Title Encoded'] = title_encoder.fit_transform(data['title'], data['rating'])\n",
    "test['Title  Encoded'] = title_encoder.transform(test['title'], y=None, override_return_df=False)"
   ]
  },
  {
   "cell_type": "code",
   "execution_count": 22,
   "id": "0c9dc822",
   "metadata": {},
   "outputs": [],
   "source": [
    "data = data.drop(['title'], axis = 1)\n",
    "test = test.drop(['title'], axis = 1)"
   ]
  },
  {
   "cell_type": "code",
   "execution_count": 23,
   "id": "cb2c3bd6",
   "metadata": {},
   "outputs": [
    {
     "data": {
      "text/plain": [
       "0         0.761905\n",
       "1         0.761905\n",
       "2         0.761905\n",
       "3         0.761905\n",
       "4         0.761905\n",
       "            ...   \n",
       "876556    0.800888\n",
       "876557    0.800888\n",
       "876558    0.800888\n",
       "876559    0.800888\n",
       "876560    0.800888\n",
       "Name: Title Encoded, Length: 876561, dtype: float64"
      ]
     },
     "execution_count": 23,
     "metadata": {},
     "output_type": "execute_result"
    }
   ],
   "source": [
    "data['Title Encoded']"
   ]
  },
  {
   "cell_type": "markdown",
   "id": "5480753e",
   "metadata": {},
   "source": [
    "#### 'main_cat'"
   ]
  },
  {
   "cell_type": "code",
   "execution_count": 24,
   "id": "47264e87",
   "metadata": {},
   "outputs": [
    {
     "data": {
      "text/plain": [
       "count      875596\n",
       "unique         17\n",
       "top       Grocery\n",
       "freq       828155\n",
       "Name: main_cat, dtype: object"
      ]
     },
     "execution_count": 24,
     "metadata": {},
     "output_type": "execute_result"
    }
   ],
   "source": [
    "data.main_cat.describe()"
   ]
  },
  {
   "cell_type": "code",
   "execution_count": 25,
   "id": "9ba25b39",
   "metadata": {},
   "outputs": [
    {
     "data": {
      "image/png": "[encoded data removed]",
      "text/plain": [
       "<Figure size 1296x864 with 2 Axes>"
      ]
     },
     "metadata": {
      "needs_background": "light"
     },
     "output_type": "display_data"
    }
   ],
   "source": [
    "\n",
    "fig = plt.figure(figsize =(18,12))\n",
    "main_axes = fig.add_axes([0, 0, 1, 1])\n",
    "main_axes.bar( data.main_cat.value_counts().values, data.main_cat.value_counts().index )\n",
    "data.main_cat.value_counts().plot.barh( )\n",
    "insert_axes = fig.add_axes([0.2, 0.2, 0.75, 0.75])\n",
    "insert_axes.bar( data.main_cat[(data.main_cat != 'Grocery') & (data.main_cat != 'Health & Personal Care')].value_counts().index, data.main_cat[(data.main_cat != 'Grocery') & (data.main_cat != 'Health & Personal Care')].value_counts().values )\n",
    "\n",
    "main_axes.tick_params(axis='both', which='major', labelsize=20)\n",
    "insert_axes.tick_params(axis=\"x\", which='major', size = 10, labelsize=16, rotation = 30)\n"
   ]
  },
  {
   "cell_type": "code",
   "execution_count": 26,
   "id": "c6575a67",
   "metadata": {
    "scrolled": true
   },
   "outputs": [
    {
     "name": "stderr",
     "output_type": "stream",
     "text": [
      "C:\\Users\\trigu\\anaconda3\\lib\\site-packages\\category_encoders\\utils.py:21: FutureWarning: is_categorical is deprecated and will be removed in a future version.  Use is_categorical_dtype instead\n",
      "  elif pd.api.types.is_categorical(cols):\n"
     ]
    }
   ],
   "source": [
    "main_cat_encoder = ce.TargetEncoder()\n",
    "#main_cat_encoder.set_params(smoothing = 10)\n",
    "data['Main Cat Encoded'] = main_cat_encoder.fit_transform(data['main_cat'], data['rating'])\n",
    "test['Main Cat Encoded'] = main_cat_encoder.transform(test['main_cat'], y=None, override_return_df=False)"
   ]
  },
  {
   "cell_type": "code",
   "execution_count": 27,
   "id": "1dadbf87",
   "metadata": {},
   "outputs": [],
   "source": [
    "data = data.drop(['main_cat'], axis = 1)\n",
    "test = test.drop(['main_cat'], axis = 1)"
   ]
  },
  {
   "cell_type": "markdown",
   "id": "0b690735",
   "metadata": {},
   "source": [
    "#### 'rank'"
   ]
  },
  {
   "cell_type": "markdown",
   "id": "df7e291a",
   "metadata": {},
   "source": [
    "Let's separate numeric values from columns using regular expressions"
   ]
  },
  {
   "cell_type": "code",
   "execution_count": 28,
   "id": "c2457d71",
   "metadata": {},
   "outputs": [
    {
     "data": {
      "text/plain": [
       "count                      839158\n",
       "unique                      36878\n",
       "top       18inGroceryGourmetFood(\n",
       "freq                         7482\n",
       "Name: rank, dtype: object"
      ]
     },
     "execution_count": 28,
     "metadata": {},
     "output_type": "execute_result"
    }
   ],
   "source": [
    "data['rank'].describe()"
   ]
  },
  {
   "cell_type": "markdown",
   "id": "828c1578",
   "metadata": {},
   "source": [
    "Let's separate numeric values from columns using regular expressions"
   ]
  },
  {
   "cell_type": "code",
   "execution_count": 29,
   "id": "d01e1fea",
   "metadata": {},
   "outputs": [],
   "source": [
    "def rank_parce(x):\n",
    "    try:\n",
    "        return float((re.search(r'^\\d*', x)).group(0))\n",
    "    except:\n",
    "        x\n",
    "data['rank'] = data['rank'].apply(rank_parce)\n",
    "data['rank'] = data['rank'].fillna(0)"
   ]
  },
  {
   "cell_type": "markdown",
   "id": "6dceb613",
   "metadata": {},
   "source": [
    "#### 'image_x'"
   ]
  },
  {
   "cell_type": "code",
   "execution_count": 30,
   "id": "3fe8adad",
   "metadata": {},
   "outputs": [],
   "source": [
    "def image_x_bin(x):\n",
    "    try:\n",
    "        return 1\n",
    "    except: 0"
   ]
  },
  {
   "cell_type": "code",
   "execution_count": 31,
   "id": "d850c739",
   "metadata": {},
   "outputs": [
    {
     "data": {
      "text/plain": [
       "0         1\n",
       "1         1\n",
       "2         1\n",
       "3         1\n",
       "4         1\n",
       "         ..\n",
       "876556    1\n",
       "876557    1\n",
       "876558    1\n",
       "876559    1\n",
       "876560    1\n",
       "Name: image_x, Length: 876561, dtype: int64"
      ]
     },
     "execution_count": 31,
     "metadata": {},
     "output_type": "execute_result"
    }
   ],
   "source": [
    "data['image_x'] = data['image_x'].apply(image_x_bin)\n",
    "data['image_x']"
   ]
  },
  {
   "cell_type": "code",
   "execution_count": null,
   "id": "b7e1c922",
   "metadata": {},
   "outputs": [],
   "source": []
  },
  {
   "cell_type": "code",
   "execution_count": null,
   "id": "e1750439",
   "metadata": {},
   "outputs": [],
   "source": []
  },
  {
   "cell_type": "markdown",
   "id": "3fceec39",
   "metadata": {},
   "source": [
    "##### 'category'"
   ]
  },
  {
   "cell_type": "markdown",
   "id": "38410a62",
   "metadata": {},
   "source": [
    "data['category'].head(3)"
   ]
  },
  {
   "cell_type": "markdown",
   "id": "1ebbad29",
   "metadata": {},
   "source": [
    "This column is tricky enough, to invest a little more time in it. "
   ]
  },
  {
   "cell_type": "markdown",
   "id": "8eae38dd",
   "metadata": {
    "scrolled": false
   },
   "source": [
    "categories = set() #Set fot all categories\n",
    "for s in  data['category']:\n",
    "    categories = categories.union(set(s))\n",
    "      "
   ]
  },
  {
   "cell_type": "markdown",
   "id": "6c10f741",
   "metadata": {},
   "source": [
    "Let's see how often different categories are found and how many categories are listed."
   ]
  },
  {
   "cell_type": "markdown",
   "id": "e0316a06",
   "metadata": {},
   "source": [
    "categories_dict= dict.fromkeys(categories, 0)\n",
    "max_len = 0\n",
    "for c in data['category']:\n",
    "    if len(c) > max_len:\n",
    "        max_len = len(c)\n",
    "    for el in c:\n",
    "        if el in categories:\n",
    "            categories_dict[el]+=1\n",
    "print('Maximal length of list:', max_len)\n",
    "categories_df = pd.DataFrame.from_dict(categories_dict, orient='index')\n",
    "categories_df[0].sort_values(ascending = False)\n",
    "\n",
    "            "
   ]
  },
  {
   "cell_type": "markdown",
   "id": "9cad8459",
   "metadata": {},
   "source": [
    "Each individual category is repeated often enough and is important information for our predictions . To process and encode them, we will create a temporary dataframe"
   ]
  },
  {
   "cell_type": "markdown",
   "id": "1e28eec8",
   "metadata": {},
   "source": [
    "data['category_string'] =  data['category'].to_string()\n",
    "data['category_string']"
   ]
  },
  {
   "cell_type": "markdown",
   "id": "b14cd13f",
   "metadata": {},
   "source": [
    "category_encoder = ce.TargetEncoder()\n",
    "#category_encoder.set_params(smoothing = 10)\n",
    "data['Category Encoded'] = category_encoder.fit_transform(data['category_string'], data['rating'])"
   ]
  },
  {
   "cell_type": "code",
   "execution_count": null,
   "id": "f2d57673",
   "metadata": {},
   "outputs": [],
   "source": []
  },
  {
   "cell_type": "code",
   "execution_count": null,
   "id": "a2b624b1",
   "metadata": {},
   "outputs": [],
   "source": []
  },
  {
   "cell_type": "code",
   "execution_count": null,
   "id": "23323526",
   "metadata": {},
   "outputs": [],
   "source": []
  },
  {
   "cell_type": "code",
   "execution_count": null,
   "id": "3a75384c",
   "metadata": {},
   "outputs": [],
   "source": []
  },
  {
   "cell_type": "code",
   "execution_count": null,
   "id": "b0d94748",
   "metadata": {},
   "outputs": [],
   "source": []
  },
  {
   "cell_type": "code",
   "execution_count": null,
   "id": "b40ad6b9",
   "metadata": {},
   "outputs": [],
   "source": []
  },
  {
   "cell_type": "markdown",
   "id": "a084788f",
   "metadata": {},
   "source": [
    "categories_df['cat_n'] = categories_df%max_len"
   ]
  },
  {
   "cell_type": "markdown",
   "id": "235a66bc",
   "metadata": {
    "scrolled": true
   },
   "source": [
    "categories_df = pd.Series(categories_df['cat_n'])"
   ]
  },
  {
   "cell_type": "markdown",
   "id": "c9695753",
   "metadata": {},
   "source": [
    "categories_df"
   ]
  },
  {
   "cell_type": "markdown",
   "id": "1971082f",
   "metadata": {},
   "source": [
    "def data_ask(x):\n",
    "    x1 = x.apply(lambda x: None if str(x).strip() == '' else x)\n",
    "    print(x1.astype(str).value_counts())\n",
    "    x1.astype(str).value_counts().plot(kind='bar')\n",
    "    return x1\n",
    "\n",
    "def data_corr(b, repl):\n",
    "    b1=b.fillna(repl)\n",
    "    print(b1.astype(str).value_counts())\n",
    "    b1.astype(str).value_counts().plot(kind='bar')\n",
    "    return  b1\n",
    "\n",
    "\n",
    "fam_sit.Pstatus=data_ask(fam_sit.Pstatus)"
   ]
  },
  {
   "cell_type": "markdown",
   "id": "7ad3ad40",
   "metadata": {},
   "source": [
    "df_temp = data.loc[:, ('category', 'rating')]\n",
    "for i in range(max_len):\n",
    "    df_temp[i] = None\n",
    "df_temp.head(3)"
   ]
  },
  {
   "cell_type": "markdown",
   "id": "fc25033d",
   "metadata": {},
   "source": [
    "df_temp[0] = 0\n",
    "df_temp[1] = 1\n",
    "df_temp[2] = 2\n",
    "df_temp[3] = 3\n",
    "df_temp[4] = 4\n",
    "df_temp"
   ]
  },
  {
   "cell_type": "markdown",
   "id": "e2e27774",
   "metadata": {},
   "source": [
    "def parse_lists(row):\n",
    "    for br in row['category']:\n",
    "        i = categories_df[br]\n",
    "        df[i] = br\n",
    "    return row \n",
    "\n",
    "\n",
    "\n",
    "    \n",
    "       \n",
    "      \n",
    "        \n",
    "#data['numberOfDoors']=data.apply(lambda row:  doors(row), axis=1 )        "
   ]
  },
  {
   "cell_type": "markdown",
   "id": "5391c075",
   "metadata": {},
   "source": [
    "df_temp = df_temp.category.apply()"
   ]
  },
  {
   "cell_type": "markdown",
   "id": "15547834",
   "metadata": {},
   "source": [
    "df_temp"
   ]
  },
  {
   "cell_type": "markdown",
   "id": "4cbfde1e",
   "metadata": {},
   "source": [
    "def get_number(cat_list):\n",
    "    numered = list(map((lambda x: [x, categories_df.loc[x]['cat_n']]),  cat_list))\n",
    "    return numered\n",
    "\n",
    "for i, cat_list in enumerate(df_temp['category']):\n",
    "    numered = get_number(cat_list)\n",
    "    for j in numered:\n",
    "        df_temp.iloc[i][j[1]] = j[0]\n",
    "        \n",
    "\n",
    " \n",
    "        \n",
    "        \n",
    "    "
   ]
  },
  {
   "cell_type": "code",
   "execution_count": null,
   "id": "31c25795",
   "metadata": {},
   "outputs": [],
   "source": []
  },
  {
   "cell_type": "markdown",
   "id": "2bedc7b6",
   "metadata": {},
   "source": [
    "'''\n",
    "#With MultiLabelBinarizer you can transform between iterable of iterables and a multilabel format.\n",
    "categories_df = data[['category', 'rating']]\n",
    "mlb = MultiLabelBinarizer(sparse_output=True)\n",
    "categories_df = categories_df.join(\n",
    "            pd.DataFrame.sparse.from_spmatrix(\n",
    "                mlb.fit_transform(categories_df.pop('category')),\n",
    "                index=categories_df.index,\n",
    "                columns=mlb.classes_))\n",
    "                '''"
   ]
  },
  {
   "cell_type": "markdown",
   "id": "314ef479",
   "metadata": {},
   "source": [
    "#### 'price'"
   ]
  },
  {
   "cell_type": "code",
   "execution_count": 33,
   "id": "3b8df2e4",
   "metadata": {},
   "outputs": [
    {
     "data": {
      "text/plain": [
       "0         $12.46\n",
       "1         $12.46\n",
       "2         $12.46\n",
       "3         $12.46\n",
       "4         $12.46\n",
       "           ...  \n",
       "876556    $10.95\n",
       "876557    $10.95\n",
       "876558    $10.95\n",
       "876559    $10.95\n",
       "876560    $10.95\n",
       "Name: price, Length: 876561, dtype: object"
      ]
     },
     "execution_count": 33,
     "metadata": {},
     "output_type": "execute_result"
    }
   ],
   "source": [
    "data['price']"
   ]
  },
  {
   "cell_type": "markdown",
   "id": "e545dbfd",
   "metadata": {},
   "source": [
    "Let's convert the price column to a numeric form. To do this, we will create a function that will try to convert values and collect in a separate list exceptions: those values that differ from the initially visible format"
   ]
  },
  {
   "cell_type": "code",
   "execution_count": 34,
   "id": "86028898",
   "metadata": {},
   "outputs": [],
   "source": [
    "price_exceptions = []\n",
    "\n",
    "def price_convert(x):\n",
    "    try:\n",
    "        return float(str(x).replace('$', '').strip())\n",
    "    except:\n",
    "        price_exceptions.append(x)\n",
    "        return x\n",
    "\n",
    "data['price'] = data['price'].apply(price_convert)"
   ]
  },
  {
   "cell_type": "code",
   "execution_count": 35,
   "id": "90afee3e",
   "metadata": {},
   "outputs": [
    {
     "data": {
      "text/plain": [
       "0         12.46\n",
       "1         12.46\n",
       "2         12.46\n",
       "3         12.46\n",
       "4         12.46\n",
       "          ...  \n",
       "876556    10.95\n",
       "876557    10.95\n",
       "876558    10.95\n",
       "876559    10.95\n",
       "876560    10.95\n",
       "Name: price, Length: 876561, dtype: object"
      ]
     },
     "execution_count": 35,
     "metadata": {},
     "output_type": "execute_result"
    }
   ],
   "source": [
    "data['price']"
   ]
  },
  {
   "cell_type": "code",
   "execution_count": 36,
   "id": "53df026a",
   "metadata": {},
   "outputs": [
    {
     "name": "stdout",
     "output_type": "stream",
     "text": [
      "We have  4067 exceptions:\n"
     ]
    },
    {
     "data": {
      "text/plain": [
       "['$9.97 - $137.08',\n",
       " '$9.97 - $137.08',\n",
       " '$9.97 - $137.08',\n",
       " '$9.97 - $137.08',\n",
       " '$9.97 - $137.08',\n",
       " '$9.97 - $137.08',\n",
       " '$9.97 - $137.08',\n",
       " '$9.97 - $137.08',\n",
       " '$9.97 - $137.08',\n",
       " '$9.97 - $137.08',\n",
       " '$9.97 - $137.08',\n",
       " '$9.97 - $137.08',\n",
       " '$9.97 - $137.08',\n",
       " '$9.97 - $137.08',\n",
       " '$9.97 - $137.08',\n",
       " '$9.97 - $137.08',\n",
       " '$9.97 - $137.08',\n",
       " '$9.97 - $137.08',\n",
       " '$9.97 - $137.08',\n",
       " '$9.97 - $137.08',\n",
       " '$9.97 - $137.08',\n",
       " '$9.97 - $137.08',\n",
       " '$9.97 - $137.08',\n",
       " '$9.97 - $137.08',\n",
       " '$9.97 - $137.08',\n",
       " '$9.97 - $137.08',\n",
       " '$9.97 - $137.08',\n",
       " '$9.97 - $137.08',\n",
       " '$9.97 - $137.08',\n",
       " '$9.97 - $137.08',\n",
       " '$9.97 - $137.08',\n",
       " '$9.97 - $137.08',\n",
       " '$9.97 - $137.08',\n",
       " '$9.97 - $137.08',\n",
       " '$9.97 - $137.08',\n",
       " '$9.97 - $137.08',\n",
       " '$9.97 - $137.08',\n",
       " '$9.97 - $137.08',\n",
       " '$9.97 - $137.08',\n",
       " '$9.97 - $137.08',\n",
       " '$9.97 - $137.08',\n",
       " '$9.97 - $137.08',\n",
       " '$9.97 - $137.08',\n",
       " '$9.97 - $137.08',\n",
       " '$9.97 - $137.08',\n",
       " '$9.97 - $137.08',\n",
       " '$9.97 - $137.08',\n",
       " '$9.97 - $137.08',\n",
       " '$9.97 - $137.08',\n",
       " '$9.97 - $137.08',\n",
       " '$9.97 - $137.08',\n",
       " '$9.97 - $137.08',\n",
       " '$9.97 - $137.08',\n",
       " '$9.97 - $137.08',\n",
       " '$9.97 - $137.08',\n",
       " '$9.97 - $137.08',\n",
       " '$9.97 - $137.08',\n",
       " '$9.97 - $137.08',\n",
       " '$9.97 - $137.08',\n",
       " '$9.97 - $137.08',\n",
       " '$9.97 - $137.08',\n",
       " '$9.97 - $137.08',\n",
       " '$9.97 - $137.08',\n",
       " '$9.97 - $137.08',\n",
       " '$9.97 - $137.08',\n",
       " '$9.97 - $137.08',\n",
       " '$9.97 - $137.08',\n",
       " '$9.97 - $137.08',\n",
       " '$9.97 - $137.08',\n",
       " '$9.97 - $137.08',\n",
       " '$12.47 - $109.99',\n",
       " '$12.47 - $109.99',\n",
       " '$12.47 - $109.99',\n",
       " '$12.47 - $109.99',\n",
       " '$12.47 - $109.99',\n",
       " '$12.47 - $109.99',\n",
       " '$12.47 - $109.99',\n",
       " '$12.47 - $109.99',\n",
       " '$12.47 - $109.99',\n",
       " '$12.47 - $109.99',\n",
       " '$12.47 - $109.99',\n",
       " '$12.47 - $109.99',\n",
       " '$12.47 - $109.99',\n",
       " '$12.47 - $109.99',\n",
       " '$12.47 - $109.99',\n",
       " '$12.47 - $109.99',\n",
       " '$12.47 - $109.99',\n",
       " '$12.47 - $109.99',\n",
       " '$12.47 - $109.99',\n",
       " '$12.47 - $109.99',\n",
       " '$12.47 - $109.99',\n",
       " '$12.47 - $109.99',\n",
       " '$12.47 - $109.99',\n",
       " '$12.47 - $109.99',\n",
       " '$12.47 - $109.99',\n",
       " '$12.47 - $109.99',\n",
       " '$12.47 - $109.99',\n",
       " '$12.47 - $109.99',\n",
       " '$12.47 - $109.99',\n",
       " '$12.47 - $109.99',\n",
       " '$12.47 - $109.99',\n",
       " '$12.47 - $109.99',\n",
       " '$12.47 - $109.99',\n",
       " '$12.47 - $109.99',\n",
       " '$12.47 - $109.99',\n",
       " '$12.47 - $109.99',\n",
       " '$19.49 - $36.50',\n",
       " '$19.49 - $36.50',\n",
       " '$19.49 - $36.50',\n",
       " '$19.49 - $36.50',\n",
       " '$19.49 - $36.50',\n",
       " '$19.49 - $36.50',\n",
       " '$19.49 - $36.50',\n",
       " '$19.49 - $36.50',\n",
       " '$19.49 - $36.50',\n",
       " '$19.49 - $36.50',\n",
       " '$19.49 - $36.50',\n",
       " '$19.49 - $36.50',\n",
       " '$19.49 - $36.50',\n",
       " '$19.49 - $36.50',\n",
       " '$19.49 - $36.50',\n",
       " '$19.49 - $36.50',\n",
       " '$19.49 - $36.50',\n",
       " '$19.49 - $36.50',\n",
       " '$19.49 - $36.50',\n",
       " '$19.49 - $36.50',\n",
       " '$19.49 - $36.50',\n",
       " '$19.49 - $36.50',\n",
       " '$19.49 - $36.50',\n",
       " '$19.49 - $36.50',\n",
       " '$19.49 - $36.50',\n",
       " '$19.49 - $36.50',\n",
       " '$19.49 - $36.50',\n",
       " '$19.49 - $36.50',\n",
       " '$19.49 - $36.50',\n",
       " '$19.49 - $36.50',\n",
       " '$19.49 - $36.50',\n",
       " '$19.49 - $36.50',\n",
       " '$19.49 - $36.50',\n",
       " '$19.49 - $36.50',\n",
       " '$19.49 - $36.50',\n",
       " '$19.49 - $36.50',\n",
       " '$19.49 - $36.50',\n",
       " '$19.49 - $36.50',\n",
       " '$19.49 - $36.50',\n",
       " '$19.49 - $36.50',\n",
       " '$19.49 - $36.50',\n",
       " '$19.49 - $36.50',\n",
       " '$19.49 - $36.50',\n",
       " '$19.49 - $36.50',\n",
       " '$19.49 - $36.50',\n",
       " '$19.49 - $36.50',\n",
       " '$19.49 - $36.50',\n",
       " '$19.49 - $36.50',\n",
       " '$19.49 - $36.50',\n",
       " '$19.49 - $36.50',\n",
       " '$19.49 - $36.50',\n",
       " '$19.49 - $36.50',\n",
       " '$19.49 - $36.50',\n",
       " '$19.49 - $36.50',\n",
       " '$19.49 - $36.50',\n",
       " '$19.49 - $36.50',\n",
       " '$19.49 - $36.50',\n",
       " '$19.49 - $36.50',\n",
       " '$19.49 - $36.50',\n",
       " '$19.49 - $36.50',\n",
       " '$19.49 - $36.50',\n",
       " '$19.49 - $36.50',\n",
       " '$19.49 - $36.50',\n",
       " '$19.49 - $36.50',\n",
       " '$19.49 - $36.50',\n",
       " '$19.49 - $36.50',\n",
       " '$19.49 - $36.50',\n",
       " '$19.49 - $36.50',\n",
       " '$19.49 - $36.50',\n",
       " '$19.49 - $36.50',\n",
       " '$19.49 - $36.50',\n",
       " '$19.49 - $36.50',\n",
       " '$19.49 - $36.50',\n",
       " '$19.49 - $36.50',\n",
       " '$19.49 - $36.50',\n",
       " '$19.49 - $36.50',\n",
       " '$19.49 - $36.50',\n",
       " '$19.49 - $36.50',\n",
       " '$19.49 - $36.50',\n",
       " '$19.49 - $36.50',\n",
       " '$19.49 - $36.50',\n",
       " '$19.49 - $36.50',\n",
       " '$19.49 - $36.50',\n",
       " '$19.49 - $36.50',\n",
       " '$19.49 - $36.50',\n",
       " '$19.49 - $36.50',\n",
       " '$19.49 - $36.50',\n",
       " '$19.49 - $36.50',\n",
       " '$19.49 - $36.50',\n",
       " '$19.49 - $36.50',\n",
       " '$19.49 - $36.50',\n",
       " '$19.49 - $36.50',\n",
       " '$19.49 - $36.50',\n",
       " '$19.49 - $36.50',\n",
       " '$19.49 - $36.50',\n",
       " '$19.49 - $36.50',\n",
       " '$19.49 - $36.50',\n",
       " '$19.49 - $36.50',\n",
       " '$19.49 - $36.50',\n",
       " '$19.49 - $36.50',\n",
       " '$19.49 - $36.50',\n",
       " '$19.49 - $36.50',\n",
       " '$19.49 - $36.50',\n",
       " '$19.49 - $36.50',\n",
       " '$19.49 - $36.50',\n",
       " '$19.49 - $36.50',\n",
       " '$19.49 - $36.50',\n",
       " '$19.49 - $36.50',\n",
       " '$19.49 - $36.50',\n",
       " '$19.49 - $36.50',\n",
       " '$19.49 - $36.50',\n",
       " '$19.49 - $36.50',\n",
       " '$19.49 - $36.50',\n",
       " '$19.49 - $36.50',\n",
       " '$19.49 - $36.50',\n",
       " '$19.49 - $36.50',\n",
       " '$19.49 - $36.50',\n",
       " '$19.49 - $36.50',\n",
       " '$19.49 - $36.50',\n",
       " '$19.49 - $36.50',\n",
       " '$19.49 - $36.50',\n",
       " '$19.49 - $36.50',\n",
       " '$19.49 - $36.50',\n",
       " '$19.49 - $36.50',\n",
       " '$19.49 - $36.50',\n",
       " '$19.49 - $36.50',\n",
       " '$19.49 - $36.50',\n",
       " '$19.49 - $36.50',\n",
       " '$19.49 - $36.50',\n",
       " '$19.49 - $36.50',\n",
       " '$19.49 - $36.50',\n",
       " '$19.49 - $36.50',\n",
       " '$19.49 - $36.50',\n",
       " '$19.49 - $36.50',\n",
       " '$19.49 - $36.50',\n",
       " '$19.49 - $36.50',\n",
       " '$19.49 - $36.50',\n",
       " '$19.49 - $36.50',\n",
       " '$19.49 - $36.50',\n",
       " '$19.49 - $36.50',\n",
       " '$19.49 - $36.50',\n",
       " '$19.49 - $36.50',\n",
       " '$19.49 - $36.50',\n",
       " '$19.49 - $36.50',\n",
       " '$19.49 - $36.50',\n",
       " '$19.49 - $36.50',\n",
       " '$19.49 - $36.50',\n",
       " '$19.49 - $36.50',\n",
       " '$19.49 - $36.50',\n",
       " '$19.49 - $36.50',\n",
       " '$19.49 - $36.50',\n",
       " '$19.49 - $36.50',\n",
       " '$19.49 - $36.50',\n",
       " '$19.49 - $36.50',\n",
       " '$19.49 - $36.50',\n",
       " '$19.49 - $36.50',\n",
       " '$19.49 - $36.50',\n",
       " '$19.49 - $36.50',\n",
       " '$19.49 - $36.50',\n",
       " '$19.49 - $36.50',\n",
       " '$19.49 - $36.50',\n",
       " '$19.49 - $36.50',\n",
       " '$19.49 - $36.50',\n",
       " '$19.49 - $36.50',\n",
       " '$19.49 - $36.50',\n",
       " '$19.49 - $36.50',\n",
       " '$19.49 - $36.50',\n",
       " '$19.49 - $36.50',\n",
       " '$19.49 - $36.50',\n",
       " '$19.49 - $36.50',\n",
       " '$19.49 - $36.50',\n",
       " '$19.49 - $36.50',\n",
       " '$19.49 - $36.50',\n",
       " '$19.49 - $36.50',\n",
       " '$19.49 - $36.50',\n",
       " '$19.49 - $36.50',\n",
       " '$19.49 - $36.50',\n",
       " '$19.49 - $36.50',\n",
       " '$19.49 - $36.50',\n",
       " '$19.49 - $36.50',\n",
       " '$19.49 - $36.50',\n",
       " '$19.49 - $36.50',\n",
       " '$19.49 - $36.50',\n",
       " '$19.49 - $36.50',\n",
       " '$19.49 - $36.50',\n",
       " '$19.49 - $36.50',\n",
       " '$19.49 - $36.50',\n",
       " '$19.49 - $36.50',\n",
       " '$19.49 - $36.50',\n",
       " '$19.49 - $36.50',\n",
       " '$19.49 - $36.50',\n",
       " '$19.49 - $36.50',\n",
       " '$19.49 - $36.50',\n",
       " '$19.49 - $36.50',\n",
       " '$19.49 - $36.50',\n",
       " '$19.49 - $36.50',\n",
       " '$19.49 - $36.50',\n",
       " '$19.49 - $36.50',\n",
       " '$19.49 - $36.50',\n",
       " '$19.49 - $36.50',\n",
       " '$19.49 - $36.50',\n",
       " '$19.49 - $36.50',\n",
       " '$19.49 - $36.50',\n",
       " '$19.49 - $36.50',\n",
       " '$19.49 - $36.50',\n",
       " '$19.49 - $36.50',\n",
       " '$19.49 - $36.50',\n",
       " '$19.49 - $36.50',\n",
       " '$19.49 - $36.50',\n",
       " '$19.49 - $36.50',\n",
       " '$19.49 - $36.50',\n",
       " '$19.49 - $36.50',\n",
       " '$19.49 - $36.50',\n",
       " '$19.49 - $36.50',\n",
       " '$19.49 - $36.50',\n",
       " '$19.49 - $36.50',\n",
       " '$19.49 - $36.50',\n",
       " '$19.49 - $36.50',\n",
       " '$19.49 - $36.50',\n",
       " '$19.49 - $36.50',\n",
       " '$19.49 - $36.50',\n",
       " '$19.49 - $36.50',\n",
       " '$19.49 - $36.50',\n",
       " '$19.49 - $36.50',\n",
       " '$19.49 - $36.50',\n",
       " '$19.49 - $36.50',\n",
       " '$20.08 - $43.41',\n",
       " '$20.08 - $43.41',\n",
       " '$20.08 - $43.41',\n",
       " '$20.08 - $43.41',\n",
       " '$20.08 - $43.41',\n",
       " '$20.08 - $43.41',\n",
       " '$20.08 - $43.41',\n",
       " '$20.08 - $43.41',\n",
       " '$20.08 - $43.41',\n",
       " '$20.08 - $43.41',\n",
       " '$20.08 - $43.41',\n",
       " '$20.08 - $43.41',\n",
       " '$20.08 - $43.41',\n",
       " '$20.08 - $43.41',\n",
       " '$20.08 - $43.41',\n",
       " '$20.08 - $43.41',\n",
       " '$20.08 - $43.41',\n",
       " '$20.08 - $43.41',\n",
       " '$20.08 - $43.41',\n",
       " '$20.08 - $43.41',\n",
       " '$20.08 - $43.41',\n",
       " '$20.08 - $43.41',\n",
       " '$20.08 - $43.41',\n",
       " '$20.08 - $43.41',\n",
       " '$20.08 - $43.41',\n",
       " '$20.08 - $43.41',\n",
       " '$20.08 - $43.41',\n",
       " '$20.08 - $43.41',\n",
       " '$20.08 - $43.41',\n",
       " '$20.08 - $43.41',\n",
       " '$20.08 - $43.41',\n",
       " '$20.08 - $43.41',\n",
       " '$20.08 - $43.41',\n",
       " '$20.08 - $43.41',\n",
       " '$20.08 - $43.41',\n",
       " '$20.08 - $43.41',\n",
       " '$20.08 - $43.41',\n",
       " '$20.08 - $43.41',\n",
       " '$20.08 - $43.41',\n",
       " '$20.08 - $43.41',\n",
       " '$20.08 - $43.41',\n",
       " '$20.08 - $43.41',\n",
       " '$20.08 - $43.41',\n",
       " '$20.08 - $43.41',\n",
       " '$20.08 - $43.41',\n",
       " '$20.08 - $43.41',\n",
       " '$20.08 - $43.41',\n",
       " '$20.08 - $43.41',\n",
       " '$20.08 - $43.41',\n",
       " '$20.08 - $43.41',\n",
       " '$20.08 - $43.41',\n",
       " '$20.08 - $43.41',\n",
       " '$20.08 - $43.41',\n",
       " '$20.08 - $43.41',\n",
       " '$20.08 - $43.41',\n",
       " '$20.08 - $43.41',\n",
       " '$20.08 - $43.41',\n",
       " '$20.08 - $43.41',\n",
       " '$20.08 - $43.41',\n",
       " '$20.08 - $43.41',\n",
       " '$20.08 - $43.41',\n",
       " '$20.08 - $43.41',\n",
       " '$9.88 - $32.00',\n",
       " '$9.88 - $32.00',\n",
       " '$9.88 - $32.00',\n",
       " '$9.88 - $32.00',\n",
       " '$9.88 - $32.00',\n",
       " '$9.88 - $32.00',\n",
       " '$9.88 - $32.00',\n",
       " '$9.88 - $32.00',\n",
       " '$9.88 - $32.00',\n",
       " '$9.88 - $32.00',\n",
       " '$9.88 - $32.00',\n",
       " '$9.88 - $32.00',\n",
       " '$9.88 - $32.00',\n",
       " '$9.88 - $32.00',\n",
       " '$9.88 - $32.00',\n",
       " '$9.88 - $32.00',\n",
       " '$9.88 - $32.00',\n",
       " '$9.88 - $32.00',\n",
       " '$9.88 - $32.00',\n",
       " '$9.88 - $32.00',\n",
       " '$9.88 - $32.00',\n",
       " '$9.88 - $32.00',\n",
       " '$9.88 - $32.00',\n",
       " '$9.88 - $32.00',\n",
       " '$9.88 - $32.00',\n",
       " '$9.88 - $32.00',\n",
       " '$9.88 - $32.00',\n",
       " '$9.88 - $32.00',\n",
       " '$9.88 - $32.00',\n",
       " '$9.88 - $32.00',\n",
       " '$9.88 - $32.00',\n",
       " '$9.88 - $32.00',\n",
       " '$9.88 - $32.00',\n",
       " '$9.88 - $32.00',\n",
       " '$9.88 - $32.00',\n",
       " '$9.88 - $32.00',\n",
       " '$9.88 - $32.00',\n",
       " '$9.88 - $32.00',\n",
       " '$9.88 - $32.00',\n",
       " '$9.88 - $32.00',\n",
       " '$9.88 - $32.00',\n",
       " '$9.88 - $32.00',\n",
       " '$9.88 - $32.00',\n",
       " '$9.88 - $32.00',\n",
       " '$9.88 - $32.00',\n",
       " '$9.88 - $32.00',\n",
       " '$9.88 - $32.00',\n",
       " '$9.88 - $32.00',\n",
       " '$9.88 - $32.00',\n",
       " '$9.88 - $32.00',\n",
       " '$9.88 - $32.00',\n",
       " '$9.88 - $32.00',\n",
       " '$9.88 - $32.00',\n",
       " '$9.88 - $32.00',\n",
       " '$9.88 - $32.00',\n",
       " '$9.88 - $32.00',\n",
       " '$9.88 - $32.00',\n",
       " '$9.88 - $32.00',\n",
       " '$9.88 - $32.00',\n",
       " '$9.88 - $32.00',\n",
       " '$9.88 - $32.00',\n",
       " '$9.88 - $32.00',\n",
       " '$9.88 - $32.00',\n",
       " '$9.88 - $32.00',\n",
       " '$9.88 - $32.00',\n",
       " '$9.88 - $32.00',\n",
       " '$9.88 - $32.00',\n",
       " '$12.99 - $148.76',\n",
       " '$12.99 - $148.76',\n",
       " '$12.99 - $148.76',\n",
       " '$12.99 - $148.76',\n",
       " '$12.99 - $148.76',\n",
       " '$12.99 - $148.76',\n",
       " '$12.99 - $148.76',\n",
       " '$12.99 - $148.76',\n",
       " '$12.99 - $148.76',\n",
       " '$12.99 - $148.76',\n",
       " '$12.99 - $148.76',\n",
       " '$12.99 - $148.76',\n",
       " '$12.99 - $148.76',\n",
       " '$12.99 - $148.76',\n",
       " '$12.99 - $148.76',\n",
       " '$12.99 - $148.76',\n",
       " '$12.99 - $148.76',\n",
       " '$12.99 - $148.76',\n",
       " '$12.99 - $148.76',\n",
       " '$12.99 - $148.76',\n",
       " '$12.99 - $148.76',\n",
       " '$12.99 - $148.76',\n",
       " '$12.99 - $148.76',\n",
       " '$12.99 - $148.76',\n",
       " '$12.99 - $148.76',\n",
       " '$12.99 - $148.76',\n",
       " '$12.99 - $148.76',\n",
       " '$12.99 - $148.76',\n",
       " '$12.99 - $148.76',\n",
       " '$12.99 - $148.76',\n",
       " '$12.99 - $148.76',\n",
       " '$12.99 - $148.76',\n",
       " '$12.99 - $148.76',\n",
       " '$8.98 - $59.01',\n",
       " '$8.98 - $59.01',\n",
       " '$8.98 - $59.01',\n",
       " '$8.98 - $59.01',\n",
       " '$8.98 - $59.01',\n",
       " '$8.98 - $59.01',\n",
       " '$8.98 - $59.01',\n",
       " '$8.98 - $59.01',\n",
       " '$8.98 - $59.01',\n",
       " '$8.98 - $59.01',\n",
       " '$8.98 - $59.01',\n",
       " '$8.98 - $59.01',\n",
       " '$8.98 - $59.01',\n",
       " '$8.98 - $59.01',\n",
       " '$8.98 - $59.01',\n",
       " '$8.98 - $59.01',\n",
       " '$8.98 - $59.01',\n",
       " '$8.98 - $59.01',\n",
       " '$8.98 - $59.01',\n",
       " '$8.98 - $59.01',\n",
       " '$8.98 - $59.01',\n",
       " '$8.98 - $59.01',\n",
       " '$8.98 - $59.01',\n",
       " '$8.98 - $59.01',\n",
       " '$8.98 - $59.01',\n",
       " '$8.98 - $59.01',\n",
       " '$8.98 - $59.01',\n",
       " '$8.98 - $59.01',\n",
       " '$8.98 - $59.01',\n",
       " '$8.98 - $59.01',\n",
       " '$8.98 - $59.01',\n",
       " '$8.98 - $59.01',\n",
       " '$8.98 - $59.01',\n",
       " '$8.98 - $59.01',\n",
       " '$8.98 - $59.01',\n",
       " '$8.98 - $59.01',\n",
       " '$8.98 - $59.01',\n",
       " '$8.98 - $59.01',\n",
       " '$8.98 - $59.01',\n",
       " '$8.98 - $59.01',\n",
       " '$8.98 - $59.01',\n",
       " '$8.98 - $59.01',\n",
       " '$8.98 - $59.01',\n",
       " '$8.98 - $59.01',\n",
       " '$8.98 - $59.01',\n",
       " '$8.98 - $59.01',\n",
       " '$8.98 - $59.01',\n",
       " '$8.98 - $59.01',\n",
       " '$8.98 - $59.01',\n",
       " '$8.98 - $59.01',\n",
       " '$8.98 - $59.01',\n",
       " '$8.98 - $59.01',\n",
       " '$8.98 - $59.01',\n",
       " '$8.98 - $59.01',\n",
       " '$8.98 - $59.01',\n",
       " '$8.98 - $59.01',\n",
       " '$8.98 - $59.01',\n",
       " '$8.98 - $59.01',\n",
       " '$8.98 - $59.01',\n",
       " '$8.98 - $59.01',\n",
       " '$8.98 - $59.01',\n",
       " '$8.98 - $59.01',\n",
       " '$8.98 - $59.01',\n",
       " '$8.98 - $59.01',\n",
       " '$8.98 - $59.01',\n",
       " '$8.98 - $59.01',\n",
       " '$8.98 - $59.01',\n",
       " '$8.98 - $59.01',\n",
       " '$8.98 - $59.01',\n",
       " '$8.98 - $59.01',\n",
       " '$8.98 - $59.01',\n",
       " '$8.98 - $59.01',\n",
       " '$8.98 - $59.01',\n",
       " '$8.98 - $59.01',\n",
       " '$8.98 - $59.01',\n",
       " '$8.98 - $59.01',\n",
       " '$8.98 - $59.01',\n",
       " '$8.98 - $59.01',\n",
       " '$8.98 - $59.01',\n",
       " '$8.98 - $59.01',\n",
       " '$8.98 - $59.01',\n",
       " '$8.98 - $59.01',\n",
       " '$8.98 - $59.01',\n",
       " '$8.98 - $59.01',\n",
       " '$8.98 - $59.01',\n",
       " '$8.98 - $59.01',\n",
       " '$8.98 - $59.01',\n",
       " '$8.98 - $59.01',\n",
       " '$8.98 - $59.01',\n",
       " '$8.98 - $59.01',\n",
       " '$8.98 - $59.01',\n",
       " '$8.98 - $59.01',\n",
       " '$8.98 - $59.01',\n",
       " '$8.98 - $59.01',\n",
       " '$8.98 - $59.01',\n",
       " '$8.98 - $59.01',\n",
       " '$8.98 - $59.01',\n",
       " '$8.98 - $59.01',\n",
       " '$8.98 - $59.01',\n",
       " '$8.98 - $59.01',\n",
       " '$8.98 - $59.01',\n",
       " '$8.98 - $59.01',\n",
       " '$8.98 - $59.01',\n",
       " '$8.98 - $59.01',\n",
       " '$8.98 - $59.01',\n",
       " '$8.98 - $59.01',\n",
       " '$8.98 - $59.01',\n",
       " '$8.98 - $59.01',\n",
       " '$8.98 - $59.01',\n",
       " '$8.98 - $59.01',\n",
       " '$8.98 - $59.01',\n",
       " '$8.98 - $59.01',\n",
       " '$8.98 - $59.01',\n",
       " '$8.98 - $59.01',\n",
       " '$8.98 - $59.01',\n",
       " '$8.98 - $59.01',\n",
       " '$8.98 - $59.01',\n",
       " '$8.98 - $59.01',\n",
       " '$8.98 - $59.01',\n",
       " '$8.98 - $59.01',\n",
       " '$8.98 - $59.01',\n",
       " '$8.98 - $59.01',\n",
       " '$8.98 - $59.01',\n",
       " '$8.98 - $59.01',\n",
       " '$8.98 - $59.01',\n",
       " '$8.98 - $59.01',\n",
       " '$8.98 - $59.01',\n",
       " '$8.98 - $59.01',\n",
       " '$8.98 - $59.01',\n",
       " '$8.98 - $59.01',\n",
       " '$8.98 - $59.01',\n",
       " '$8.98 - $59.01',\n",
       " '$8.98 - $59.01',\n",
       " '$8.98 - $59.01',\n",
       " '$8.98 - $59.01',\n",
       " '$8.98 - $59.01',\n",
       " '$8.98 - $59.01',\n",
       " '$8.98 - $59.01',\n",
       " '$8.98 - $59.01',\n",
       " '$8.98 - $59.01',\n",
       " '$8.98 - $59.01',\n",
       " '$8.98 - $59.01',\n",
       " '$8.98 - $59.01',\n",
       " '$8.98 - $59.01',\n",
       " '$8.98 - $59.01',\n",
       " '$8.98 - $59.01',\n",
       " '$8.98 - $59.01',\n",
       " '$8.98 - $59.01',\n",
       " '$8.98 - $59.01',\n",
       " '$8.98 - $59.01',\n",
       " '$8.98 - $59.01',\n",
       " '$8.98 - $59.01',\n",
       " '$8.98 - $59.01',\n",
       " '$8.98 - $59.01',\n",
       " '$8.98 - $59.01',\n",
       " '$8.98 - $59.01',\n",
       " '$8.98 - $59.01',\n",
       " '$8.98 - $59.01',\n",
       " '$8.98 - $59.01',\n",
       " '$8.98 - $59.01',\n",
       " '$8.98 - $59.01',\n",
       " '$8.98 - $59.01',\n",
       " '$8.98 - $59.01',\n",
       " '$8.98 - $59.01',\n",
       " '$8.98 - $59.01',\n",
       " '$8.98 - $59.01',\n",
       " '$8.98 - $59.01',\n",
       " '$8.98 - $59.01',\n",
       " '$8.98 - $59.01',\n",
       " '$8.98 - $59.01',\n",
       " '$8.98 - $59.01',\n",
       " '$8.98 - $59.01',\n",
       " '$8.98 - $59.01',\n",
       " '$8.98 - $59.01',\n",
       " '$8.98 - $59.01',\n",
       " '$8.98 - $59.01',\n",
       " '$8.98 - $59.01',\n",
       " '$8.98 - $59.01',\n",
       " '$8.98 - $59.01',\n",
       " '$15.49 - $40.84',\n",
       " '$15.49 - $40.84',\n",
       " '$15.49 - $40.84',\n",
       " '$15.49 - $40.84',\n",
       " '$15.49 - $40.84',\n",
       " '$15.49 - $40.84',\n",
       " '$15.49 - $40.84',\n",
       " '$15.49 - $40.84',\n",
       " '$15.49 - $40.84',\n",
       " '$15.49 - $40.84',\n",
       " '$15.49 - $40.84',\n",
       " '$15.49 - $40.84',\n",
       " '$15.49 - $40.84',\n",
       " '$15.49 - $40.84',\n",
       " '$15.49 - $40.84',\n",
       " '$15.49 - $40.84',\n",
       " '$15.49 - $40.84',\n",
       " '$15.49 - $40.84',\n",
       " '$15.49 - $40.84',\n",
       " '$15.49 - $40.84',\n",
       " '$15.49 - $40.84',\n",
       " '$15.49 - $40.84',\n",
       " '$15.49 - $40.84',\n",
       " '$15.49 - $40.84',\n",
       " '$15.49 - $40.84',\n",
       " '$15.49 - $40.84',\n",
       " '$15.49 - $40.84',\n",
       " '$15.49 - $40.84',\n",
       " '$15.49 - $40.84',\n",
       " '$15.49 - $40.84',\n",
       " '$15.49 - $40.84',\n",
       " '$15.49 - $40.84',\n",
       " '$15.49 - $40.84',\n",
       " '$15.49 - $40.84',\n",
       " '$15.49 - $40.84',\n",
       " '$15.49 - $40.84',\n",
       " '$15.49 - $40.84',\n",
       " '$15.49 - $40.84',\n",
       " '$15.49 - $40.84',\n",
       " '$15.49 - $40.84',\n",
       " '$15.49 - $40.84',\n",
       " '$15.49 - $40.84',\n",
       " '$15.49 - $40.84',\n",
       " '$15.49 - $40.84',\n",
       " '$15.49 - $40.84',\n",
       " '$15.49 - $40.84',\n",
       " '$15.49 - $40.84',\n",
       " '$15.49 - $40.84',\n",
       " '$15.49 - $40.84',\n",
       " '$15.49 - $40.84',\n",
       " '$15.49 - $40.84',\n",
       " '$15.49 - $40.84',\n",
       " '$15.49 - $40.84',\n",
       " '$15.49 - $40.84',\n",
       " '$15.49 - $40.84',\n",
       " '$15.49 - $40.84',\n",
       " '$15.49 - $40.84',\n",
       " '$15.49 - $40.84',\n",
       " '$15.49 - $40.84',\n",
       " '$15.49 - $40.84',\n",
       " '$15.49 - $40.84',\n",
       " '$15.49 - $40.84',\n",
       " '$15.49 - $40.84',\n",
       " '$15.49 - $40.84',\n",
       " '$15.49 - $40.84',\n",
       " '$15.49 - $40.84',\n",
       " '$15.49 - $40.84',\n",
       " '$15.49 - $40.84',\n",
       " '$15.49 - $40.84',\n",
       " '$15.49 - $40.84',\n",
       " '$15.49 - $40.84',\n",
       " '$15.49 - $40.84',\n",
       " '$15.49 - $40.84',\n",
       " '$15.49 - $40.84',\n",
       " '$15.49 - $40.84',\n",
       " '$15.49 - $40.84',\n",
       " '$15.49 - $40.84',\n",
       " '$15.49 - $40.84',\n",
       " '$15.49 - $40.84',\n",
       " '$15.49 - $40.84',\n",
       " '$15.49 - $40.84',\n",
       " '$15.49 - $40.84',\n",
       " '$15.49 - $40.84',\n",
       " '$15.49 - $40.84',\n",
       " '$15.49 - $40.84',\n",
       " '$15.49 - $40.84',\n",
       " '$15.49 - $40.84',\n",
       " '$15.49 - $40.84',\n",
       " '$15.49 - $40.84',\n",
       " '$15.49 - $40.84',\n",
       " '$15.49 - $40.84',\n",
       " '$15.49 - $40.84',\n",
       " '$15.49 - $40.84',\n",
       " '$15.49 - $40.84',\n",
       " '$15.49 - $40.84',\n",
       " '$15.49 - $40.84',\n",
       " '$15.49 - $40.84',\n",
       " '$15.49 - $40.84',\n",
       " '$15.49 - $40.84',\n",
       " '$15.49 - $40.84',\n",
       " '$15.49 - $40.84',\n",
       " '$15.49 - $40.84',\n",
       " '$15.49 - $40.84',\n",
       " '$15.49 - $40.84',\n",
       " '$15.49 - $40.84',\n",
       " '$15.49 - $40.84',\n",
       " '$15.49 - $40.84',\n",
       " '$15.49 - $40.84',\n",
       " '$15.49 - $40.84',\n",
       " '$15.49 - $40.84',\n",
       " '$15.49 - $40.84',\n",
       " '$15.49 - $40.84',\n",
       " '$15.49 - $40.84',\n",
       " '$15.49 - $40.84',\n",
       " '$15.49 - $40.84',\n",
       " '$15.49 - $40.84',\n",
       " '$15.49 - $40.84',\n",
       " '$15.49 - $40.84',\n",
       " '$15.49 - $40.84',\n",
       " '$15.49 - $40.84',\n",
       " '$15.49 - $40.84',\n",
       " '$15.49 - $40.84',\n",
       " '$15.49 - $40.84',\n",
       " '$15.49 - $40.84',\n",
       " '$15.49 - $40.84',\n",
       " '$15.49 - $40.84',\n",
       " '$15.49 - $40.84',\n",
       " '$15.49 - $40.84',\n",
       " '$15.49 - $40.84',\n",
       " '$15.49 - $40.84',\n",
       " '$15.49 - $40.84',\n",
       " '$15.49 - $40.84',\n",
       " '$15.49 - $40.84',\n",
       " '$15.49 - $40.84',\n",
       " '$15.49 - $40.84',\n",
       " '$15.49 - $40.84',\n",
       " '$15.49 - $40.84',\n",
       " '$15.49 - $40.84',\n",
       " '$15.49 - $40.84',\n",
       " '$15.49 - $40.84',\n",
       " '$15.49 - $40.84',\n",
       " '$15.49 - $40.84',\n",
       " '$15.49 - $40.84',\n",
       " '$15.49 - $40.84',\n",
       " '$15.49 - $40.84',\n",
       " '$15.49 - $40.84',\n",
       " '$15.49 - $40.84',\n",
       " '$15.49 - $40.84',\n",
       " '$15.49 - $40.84',\n",
       " '$15.49 - $40.84',\n",
       " '$15.49 - $40.84',\n",
       " '$15.49 - $40.84',\n",
       " '$15.49 - $40.84',\n",
       " '$15.49 - $40.84',\n",
       " '$15.49 - $40.84',\n",
       " '$15.49 - $40.84',\n",
       " '$15.49 - $40.84',\n",
       " '$15.49 - $40.84',\n",
       " '$15.49 - $40.84',\n",
       " '$15.49 - $40.84',\n",
       " '$15.49 - $40.84',\n",
       " '$15.49 - $40.84',\n",
       " '$15.49 - $40.84',\n",
       " '$15.49 - $40.84',\n",
       " '$15.49 - $40.84',\n",
       " '$15.49 - $40.84',\n",
       " '$15.49 - $40.84',\n",
       " '$15.49 - $40.84',\n",
       " '$15.49 - $40.84',\n",
       " '$15.49 - $40.84',\n",
       " '$15.49 - $40.84',\n",
       " '$15.49 - $40.84',\n",
       " '$15.49 - $40.84',\n",
       " '$15.49 - $40.84',\n",
       " '$15.49 - $40.84',\n",
       " '$15.49 - $40.84',\n",
       " '$15.49 - $40.84',\n",
       " '$15.49 - $40.84',\n",
       " '$15.49 - $40.84',\n",
       " '$15.49 - $40.84',\n",
       " '$15.49 - $40.84',\n",
       " '$15.49 - $40.84',\n",
       " '$15.49 - $40.84',\n",
       " '$15.49 - $40.84',\n",
       " '$15.49 - $40.84',\n",
       " '$15.49 - $40.84',\n",
       " '$15.49 - $40.84',\n",
       " '$15.49 - $40.84',\n",
       " '$15.49 - $40.84',\n",
       " '$15.49 - $40.84',\n",
       " '$15.49 - $40.84',\n",
       " '$15.49 - $40.84',\n",
       " '$15.49 - $40.84',\n",
       " '$15.49 - $40.84',\n",
       " '$15.49 - $40.84',\n",
       " '$15.49 - $40.84',\n",
       " '$15.49 - $40.84',\n",
       " '$15.49 - $40.84',\n",
       " '$15.49 - $40.84',\n",
       " '$15.49 - $40.84',\n",
       " '$15.49 - $40.84',\n",
       " '$15.49 - $40.84',\n",
       " '$15.49 - $40.84',\n",
       " '$15.49 - $40.84',\n",
       " '$15.49 - $40.84',\n",
       " '$15.49 - $40.84',\n",
       " '$15.49 - $40.84',\n",
       " '$15.49 - $40.84',\n",
       " '$15.49 - $40.84',\n",
       " '$15.49 - $40.84',\n",
       " '$15.49 - $40.84',\n",
       " '$15.49 - $40.84',\n",
       " '$15.49 - $40.84',\n",
       " '$15.49 - $40.84',\n",
       " '$15.49 - $40.84',\n",
       " '$15.49 - $40.84',\n",
       " '$15.49 - $40.84',\n",
       " '$15.49 - $40.84',\n",
       " '$15.49 - $40.84',\n",
       " '$15.49 - $40.84',\n",
       " '$15.49 - $40.84',\n",
       " '$15.49 - $40.84',\n",
       " '$15.49 - $40.84',\n",
       " '$15.49 - $40.84',\n",
       " '$15.49 - $40.84',\n",
       " '$15.49 - $40.84',\n",
       " '$15.49 - $40.84',\n",
       " '$15.49 - $40.84',\n",
       " '$15.49 - $40.84',\n",
       " '$15.49 - $40.84',\n",
       " '$15.49 - $40.84',\n",
       " '$15.49 - $40.84',\n",
       " '$15.49 - $40.84',\n",
       " '$15.49 - $40.84',\n",
       " '$15.49 - $40.84',\n",
       " '$15.49 - $40.84',\n",
       " '$15.49 - $40.84',\n",
       " '$15.49 - $40.84',\n",
       " '$15.49 - $40.84',\n",
       " '$15.49 - $40.84',\n",
       " '$15.49 - $40.84',\n",
       " '$15.49 - $40.84',\n",
       " '$15.49 - $40.84',\n",
       " '$15.49 - $40.84',\n",
       " '$15.49 - $40.84',\n",
       " '$15.49 - $40.84',\n",
       " '$15.49 - $40.84',\n",
       " '$15.49 - $40.84',\n",
       " '$15.49 - $40.84',\n",
       " '$15.49 - $40.84',\n",
       " '$15.49 - $40.84',\n",
       " '$15.49 - $40.84',\n",
       " '$15.49 - $40.84',\n",
       " '$15.49 - $40.84',\n",
       " '$15.49 - $40.84',\n",
       " '$15.49 - $40.84',\n",
       " '$15.49 - $40.84',\n",
       " '$15.49 - $40.84',\n",
       " '$15.49 - $40.84',\n",
       " '$15.49 - $40.84',\n",
       " '$15.49 - $40.84',\n",
       " '$15.49 - $40.84',\n",
       " '$15.49 - $40.84',\n",
       " '$15.49 - $40.84',\n",
       " '$15.49 - $40.84',\n",
       " '$15.49 - $40.84',\n",
       " '$15.49 - $40.84',\n",
       " '$15.49 - $40.84',\n",
       " '$15.49 - $40.84',\n",
       " '$15.49 - $40.84',\n",
       " '$15.49 - $40.84',\n",
       " '$15.49 - $40.84',\n",
       " '$15.49 - $40.84',\n",
       " '$15.49 - $40.84',\n",
       " '$15.49 - $40.84',\n",
       " '$15.49 - $40.84',\n",
       " '$15.49 - $40.84',\n",
       " '$15.49 - $40.84',\n",
       " '$15.49 - $40.84',\n",
       " '$15.49 - $40.84',\n",
       " '$15.49 - $40.84',\n",
       " '$15.49 - $40.84',\n",
       " '$15.49 - $40.84',\n",
       " '$15.49 - $40.84',\n",
       " '$15.49 - $40.84',\n",
       " '$15.49 - $40.84',\n",
       " '$15.49 - $40.84',\n",
       " '$15.49 - $40.84',\n",
       " '$15.49 - $40.84',\n",
       " '$15.49 - $40.84',\n",
       " '$15.49 - $40.84',\n",
       " '$15.49 - $40.84',\n",
       " '$15.49 - $40.84',\n",
       " '$15.49 - $40.84',\n",
       " '$15.49 - $40.84',\n",
       " '$15.49 - $40.84',\n",
       " '$15.49 - $40.84',\n",
       " '$15.49 - $40.84',\n",
       " '$15.49 - $40.84',\n",
       " '$15.49 - $40.84',\n",
       " '$15.49 - $40.84',\n",
       " '$15.49 - $40.84',\n",
       " '$15.49 - $40.84',\n",
       " '$15.49 - $40.84',\n",
       " '$15.49 - $40.84',\n",
       " '$15.49 - $40.84',\n",
       " '$15.49 - $40.84',\n",
       " '$15.49 - $40.84',\n",
       " '$15.49 - $40.84',\n",
       " '$15.49 - $40.84',\n",
       " '$15.49 - $40.84',\n",
       " '$15.49 - $40.84',\n",
       " '$15.49 - $40.84',\n",
       " '$15.49 - $40.84',\n",
       " '$15.49 - $40.84',\n",
       " '$15.49 - $40.84',\n",
       " '$15.49 - $40.84',\n",
       " '$15.49 - $40.84',\n",
       " '$15.49 - $40.84',\n",
       " '$15.49 - $40.84',\n",
       " '$15.49 - $40.84',\n",
       " '$15.49 - $40.84',\n",
       " '$15.49 - $40.84',\n",
       " '$15.49 - $40.84',\n",
       " '$15.49 - $40.84',\n",
       " '$15.49 - $40.84',\n",
       " '$15.49 - $40.84',\n",
       " ...]"
      ]
     },
     "execution_count": 36,
     "metadata": {},
     "output_type": "execute_result"
    }
   ],
   "source": [
    "print('We have ', len(price_exceptions), 'exceptions:')\n",
    "price_exceptions"
   ]
  },
  {
   "cell_type": "code",
   "execution_count": 37,
   "id": "634fddac",
   "metadata": {},
   "outputs": [],
   "source": [
    "def price_convert_exceptions(x):\n",
    "    try:\n",
    "        x_list = str(x).replace('$', '').strip().split('-')\n",
    "        return float(x_list[0])+float(x_list[1])/len(x_list)\n",
    "    except:\n",
    "        return x"
   ]
  },
  {
   "cell_type": "code",
   "execution_count": 38,
   "id": "de4a12e8",
   "metadata": {},
   "outputs": [],
   "source": [
    "data['price'] = data['price'].apply(price_convert_exceptions)"
   ]
  },
  {
   "cell_type": "code",
   "execution_count": 39,
   "id": "291f5289",
   "metadata": {},
   "outputs": [
    {
     "data": {
      "text/plain": [
       "0         12.46\n",
       "1         12.46\n",
       "2         12.46\n",
       "3         12.46\n",
       "4         12.46\n",
       "          ...  \n",
       "876556    10.95\n",
       "876557    10.95\n",
       "876558    10.95\n",
       "876559    10.95\n",
       "876560    10.95\n",
       "Name: price, Length: 876561, dtype: float64"
      ]
     },
     "execution_count": 39,
     "metadata": {},
     "output_type": "execute_result"
    }
   ],
   "source": [
    "data['price']"
   ]
  },
  {
   "cell_type": "code",
   "execution_count": 40,
   "id": "75c02e52",
   "metadata": {},
   "outputs": [],
   "source": [
    "data['price'] = data['price'].fillna(0)"
   ]
  },
  {
   "cell_type": "code",
   "execution_count": null,
   "id": "adafc53d",
   "metadata": {},
   "outputs": [],
   "source": []
  },
  {
   "cell_type": "code",
   "execution_count": 41,
   "id": "b36e74e0",
   "metadata": {
    "scrolled": true
   },
   "outputs": [
    {
     "data": {
      "text/plain": [
       "{'whiskers': [<matplotlib.lines.Line2D at 0x11b409787c0>,\n",
       "  <matplotlib.lines.Line2D at 0x11b40978b20>],\n",
       " 'caps': [<matplotlib.lines.Line2D at 0x11b40978e80>,\n",
       "  <matplotlib.lines.Line2D at 0x11c4fe73220>],\n",
       " 'boxes': [<matplotlib.lines.Line2D at 0x11b409784f0>],\n",
       " 'medians': [<matplotlib.lines.Line2D at 0x11c4fe73580>],\n",
       " 'fliers': [<matplotlib.lines.Line2D at 0x11c4fe738e0>],\n",
       " 'means': []}"
      ]
     },
     "execution_count": 41,
     "metadata": {},
     "output_type": "execute_result"
    },
    {
     "data": {
      "image/png": "[encoded data removed]",
      "text/plain": [
       "<Figure size 864x864 with 2 Axes>"
      ]
     },
     "metadata": {
      "needs_background": "light"
     },
     "output_type": "display_data"
    }
   ],
   "source": [
    "fig, axes=plt.subplots(2, 1 , figsize=(12,12))\n",
    "axes[0].hist(data['price'], bins=100)\n",
    "axes[1].boxplot(x = data['price'], vert =False)"
   ]
  },
  {
   "cell_type": "code",
   "execution_count": 42,
   "id": "dc44aa65",
   "metadata": {},
   "outputs": [
    {
     "data": {
      "text/plain": [
       "0         12.46\n",
       "1         12.46\n",
       "2         12.46\n",
       "3         12.46\n",
       "4         12.46\n",
       "          ...  \n",
       "876556    10.95\n",
       "876557    10.95\n",
       "876558    10.95\n",
       "876559    10.95\n",
       "876560    10.95\n",
       "Name: price, Length: 876561, dtype: float64"
      ]
     },
     "execution_count": 42,
     "metadata": {},
     "output_type": "execute_result"
    }
   ],
   "source": [
    "data.price"
   ]
  },
  {
   "cell_type": "markdown",
   "id": "3d496555",
   "metadata": {},
   "source": [
    "As we see, there are no gaps in the  userid, itemid and rating columns. We need to look at the distribution of the number of votes. That is, how many votes are given most often by users for different products and how many votes the product receives on average."
   ]
  },
  {
   "cell_type": "code",
   "execution_count": 44,
   "id": "a2da4825",
   "metadata": {
    "scrolled": true
   },
   "outputs": [],
   "source": [
    "user_grouped = data.groupby('userid')['itemid'].count().sort_values()\n",
    "item_grouped = data.groupby('itemid')['userid'].count().sort_values()"
   ]
  },
  {
   "cell_type": "code",
   "execution_count": 45,
   "id": "0951a225",
   "metadata": {},
   "outputs": [
    {
     "data": {
      "text/plain": [
       "Text(0.5, 1.0, 'Logarithm of amounts of votes that have items')"
      ]
     },
     "execution_count": 45,
     "metadata": {},
     "output_type": "execute_result"
    },
    {
     "data": {
      "image/png": "[encoded data removed]",
      "text/plain": [
       "<Figure size 864x864 with 6 Axes>"
      ]
     },
     "metadata": {
      "needs_background": "light"
     },
     "output_type": "display_data"
    }
   ],
   "source": [
    "fig, axes=plt.subplots(3, 2 , figsize=(12,12))\n",
    "\n",
    "axes[0,0].hist(user_grouped, bins=200)\n",
    "axes[0,0].set_title('Amounts of votes that give users')\n",
    "\n",
    "axes[0,1].hist(item_grouped, bins=200)\n",
    "axes[0,1].set_title('Amounts of votes that have items')\n",
    "\n",
    "axes[1,0].hist(user_grouped[user_grouped.values<50], bins=200)\n",
    "axes[1,0].set_title('Amounts of votes that give users until 50')\n",
    "\n",
    "axes[1,1].hist(item_grouped[item_grouped.values<50], bins=200)\n",
    "axes[1,1].set_title('Amounts of votes that have items until 50 ')\n",
    "\n",
    "\n",
    "\n",
    "axes[2,0].hist(np.log10(user_grouped.values))\n",
    "axes[2,0].set_title('Logarithm of amounts of votes that give users')\n",
    "\n",
    "axes[2,1].hist(np.log10(item_grouped.values))\n",
    "axes[2,1].set_title('Logarithm of amounts of votes that have items')\n",
    "\n"
   ]
  },
  {
   "cell_type": "markdown",
   "id": "07d98a28",
   "metadata": {},
   "source": [
    "Based on these graphs, we see that the data has a lot of users who gave only a very small number of votes for products, and products for which very few users voted. For them, the Collaborative model will be not effective enough."
   ]
  },
  {
   "cell_type": "code",
   "execution_count": null,
   "id": "81535937",
   "metadata": {},
   "outputs": [],
   "source": []
  },
  {
   "cell_type": "markdown",
   "id": "b1aa7a1e",
   "metadata": {},
   "source": [
    "### Splitting the data into training and test"
   ]
  },
  {
   "cell_type": "code",
   "execution_count": 46,
   "id": "46c0effc",
   "metadata": {},
   "outputs": [],
   "source": [
    "train_data, test_data = train_test_split(data,random_state=32, shuffle=True)"
   ]
  },
  {
   "cell_type": "code",
   "execution_count": 47,
   "id": "63761cd0",
   "metadata": {},
   "outputs": [],
   "source": [
    "ratings_coo = sparse.coo_matrix((train_data['rating'].astype(int),\n",
    "                                 (train_data['userid'],\n",
    "                                  train_data['itemid'])))"
   ]
  },
  {
   "cell_type": "code",
   "execution_count": null,
   "id": "2d65b90e",
   "metadata": {},
   "outputs": [],
   "source": []
  },
  {
   "cell_type": "code",
   "execution_count": 48,
   "id": "e7bc3d41",
   "metadata": {},
   "outputs": [],
   "source": [
    "NUM_THREADS = 4 #число потоков\n",
    "NUM_COMPONENTS = 30 #число параметров вектора \n",
    "NUM_EPOCHS = [20] #число эпох обучения\n",
    "LR =[0.05]\n",
    "epoch_dict = {}\n",
    "\n",
    "for n_ep in NUM_EPOCHS:\n",
    "    for lr in LR:\n",
    "\n",
    "        model_LightFM_00 = LightFM(learning_rate=lr, loss='logistic',\n",
    "                no_components=NUM_COMPONENTS)\n",
    "        model_LightFM_00 = model_LightFM_00.fit(ratings_coo, epochs=n_ep, \n",
    "                  num_threads=NUM_THREADS)\n",
    "        preds_00 = model_LightFM_00.predict(test_data.userid.values,\n",
    "                      test_data.itemid.values)\n",
    "        roc_auc_score = sklearn.metrics.roc_auc_score(test_data.rating, preds_00)\n",
    "    \n",
    "        epoch_dict['Epoche:' , n_ep, 'Learning Rate:' , lr] = roc_auc_score\n",
    "    \n",
    "    \n"
   ]
  },
  {
   "cell_type": "code",
   "execution_count": null,
   "id": "9ef23538",
   "metadata": {},
   "outputs": [],
   "source": [
    "epoch_dict"
   ]
  },
  {
   "cell_type": "code",
   "execution_count": null,
   "id": "bbac4055",
   "metadata": {},
   "outputs": [],
   "source": [
    "epoch_dict"
   ]
  },
  {
   "cell_type": "code",
   "execution_count": null,
   "id": "22f3b7d1",
   "metadata": {},
   "outputs": [],
   "source": [
    "epoch_dict"
   ]
  },
  {
   "cell_type": "code",
   "execution_count": 49,
   "id": "b128bea6",
   "metadata": {},
   "outputs": [],
   "source": [
    "preds_00 = model_LightFM_00.predict(test_data.userid.values,\n",
    "                      test_data.itemid.values)\n"
   ]
  },
  {
   "cell_type": "code",
   "execution_count": 52,
   "id": "852cfae2",
   "metadata": {},
   "outputs": [
    {
     "data": {
      "text/plain": [
       "0.745890534279949"
      ]
     },
     "execution_count": 52,
     "metadata": {},
     "output_type": "execute_result"
    }
   ],
   "source": [
    "roc_auc_score = sklearn.metrics.roc_auc_score(test_data.rating, preds_00)\n",
    "roc_auc_score"
   ]
  },
  {
   "cell_type": "markdown",
   "id": "cf49aad8",
   "metadata": {},
   "source": [
    "#GridSearchCV не работает\n",
    "param_grid = {\n",
    "    #'epochs': [20,30, 50, 100],\n",
    "    'learning_rate' : [0.01, 0.05, 0.1, 0.2]\n",
    "}\n",
    "\n",
    "model_LightFM_GridSearch = GridSearchCV(estimator = LightFM(), scoring = 'roc_auc', param_grid = param_grid, n_jobs = 6)\n",
    "model_LightFM_GridSearch = model_LightFM_GridSearch.fit(train_data[['userid', 'itemid']].values, train_data.rating)\n",
    "                    \n",
    "print(model_LightFM_GridSearch.best_params_)"
   ]
  },
  {
   "cell_type": "code",
   "execution_count": null,
   "id": "eb10d3ff",
   "metadata": {},
   "outputs": [],
   "source": []
  },
  {
   "cell_type": "markdown",
   "id": "e852754c",
   "metadata": {},
   "source": [
    "# A hybrid latent representation recommender model"
   ]
  },
  {
   "cell_type": "markdown",
   "id": "007c0a8d",
   "metadata": {},
   "source": [
    "item_embeddings contains the estimated latent vectors for item features. \n",
    "user_embeddings contains the estimated latent vectors for user features."
   ]
  },
  {
   "cell_type": "markdown",
   "id": "36f6603c",
   "metadata": {},
   "source": [
    "https://making.lyst.com/lightfm/docs/examples/hybrid_crossvalidated.html#a-hybrid-model"
   ]
  },
  {
   "cell_type": "code",
   "execution_count": null,
   "id": "4aec5867",
   "metadata": {
    "scrolled": true
   },
   "outputs": [],
   "source": [
    "data.info()"
   ]
  },
  {
   "cell_type": "code",
   "execution_count": 70,
   "id": "0cc2fa24",
   "metadata": {},
   "outputs": [
    {
     "name": "stderr",
     "output_type": "stream",
     "text": [
      "C:\\Users\\trigu\\anaconda3\\lib\\site-packages\\numpy\\core\\_asarray.py:102: VisibleDeprecationWarning: Creating an ndarray from ragged nested sequences (which is a list-or-tuple of lists-or-tuples-or ndarrays with different lengths or shapes) is deprecated. If you meant to do this, you must specify 'dtype=object' when creating the ndarray.\n",
      "  return array(a, dtype, copy=False, order=order)\n"
     ]
    },
    {
     "ename": "TypeError",
     "evalue": "no supported conversion for types: (dtype('O'),)",
     "output_type": "error",
     "traceback": [
      "\u001b[1;31m---------------------------------------------------------------------------\u001b[0m",
      "\u001b[1;31mTypeError\u001b[0m                                 Traceback (most recent call last)",
      "\u001b[1;32m~\\anaconda3\\lib\\site-packages\\scipy\\sparse\\base.py\u001b[0m in \u001b[0;36masformat\u001b[1;34m(self, format, copy)\u001b[0m\n\u001b[0;32m    321\u001b[0m             \u001b[1;32mtry\u001b[0m\u001b[1;33m:\u001b[0m\u001b[1;33m\u001b[0m\u001b[1;33m\u001b[0m\u001b[0m\n\u001b[1;32m--> 322\u001b[1;33m                 \u001b[1;32mreturn\u001b[0m \u001b[0mconvert_method\u001b[0m\u001b[1;33m(\u001b[0m\u001b[0mcopy\u001b[0m\u001b[1;33m=\u001b[0m\u001b[0mcopy\u001b[0m\u001b[1;33m)\u001b[0m\u001b[1;33m\u001b[0m\u001b[1;33m\u001b[0m\u001b[0m\n\u001b[0m\u001b[0;32m    323\u001b[0m             \u001b[1;32mexcept\u001b[0m \u001b[0mTypeError\u001b[0m\u001b[1;33m:\u001b[0m\u001b[1;33m\u001b[0m\u001b[1;33m\u001b[0m\u001b[0m\n",
      "\u001b[1;32m~\\anaconda3\\lib\\site-packages\\scipy\\sparse\\coo.py\u001b[0m in \u001b[0;36mtocsr\u001b[1;34m(self, copy)\u001b[0m\n\u001b[0;32m    403\u001b[0m             \u001b[0mindices\u001b[0m \u001b[1;33m=\u001b[0m \u001b[0mnp\u001b[0m\u001b[1;33m.\u001b[0m\u001b[0mempty_like\u001b[0m\u001b[1;33m(\u001b[0m\u001b[0mcol\u001b[0m\u001b[1;33m,\u001b[0m \u001b[0mdtype\u001b[0m\u001b[1;33m=\u001b[0m\u001b[0midx_dtype\u001b[0m\u001b[1;33m)\u001b[0m\u001b[1;33m\u001b[0m\u001b[1;33m\u001b[0m\u001b[0m\n\u001b[1;32m--> 404\u001b[1;33m             \u001b[0mdata\u001b[0m \u001b[1;33m=\u001b[0m \u001b[0mnp\u001b[0m\u001b[1;33m.\u001b[0m\u001b[0mempty_like\u001b[0m\u001b[1;33m(\u001b[0m\u001b[0mself\u001b[0m\u001b[1;33m.\u001b[0m\u001b[0mdata\u001b[0m\u001b[1;33m,\u001b[0m \u001b[0mdtype\u001b[0m\u001b[1;33m=\u001b[0m\u001b[0mupcast\u001b[0m\u001b[1;33m(\u001b[0m\u001b[0mself\u001b[0m\u001b[1;33m.\u001b[0m\u001b[0mdtype\u001b[0m\u001b[1;33m)\u001b[0m\u001b[1;33m)\u001b[0m\u001b[1;33m\u001b[0m\u001b[1;33m\u001b[0m\u001b[0m\n\u001b[0m\u001b[0;32m    405\u001b[0m \u001b[1;33m\u001b[0m\u001b[0m\n",
      "\u001b[1;32m~\\anaconda3\\lib\\site-packages\\scipy\\sparse\\sputils.py\u001b[0m in \u001b[0;36mupcast\u001b[1;34m(*args)\u001b[0m\n\u001b[0;32m     50\u001b[0m \u001b[1;33m\u001b[0m\u001b[0m\n\u001b[1;32m---> 51\u001b[1;33m     \u001b[1;32mraise\u001b[0m \u001b[0mTypeError\u001b[0m\u001b[1;33m(\u001b[0m\u001b[1;34m'no supported conversion for types: %r'\u001b[0m \u001b[1;33m%\u001b[0m \u001b[1;33m(\u001b[0m\u001b[0margs\u001b[0m\u001b[1;33m,\u001b[0m\u001b[1;33m)\u001b[0m\u001b[1;33m)\u001b[0m\u001b[1;33m\u001b[0m\u001b[1;33m\u001b[0m\u001b[0m\n\u001b[0m\u001b[0;32m     52\u001b[0m \u001b[1;33m\u001b[0m\u001b[0m\n",
      "\u001b[1;31mTypeError\u001b[0m: no supported conversion for types: (dtype('O'),)",
      "\nDuring handling of the above exception, another exception occurred:\n",
      "\u001b[1;31mTypeError\u001b[0m                                 Traceback (most recent call last)",
      "\u001b[1;32m<ipython-input-70-d07b904ab5f2>\u001b[0m in \u001b[0;36m<module>\u001b[1;34m\u001b[0m\n\u001b[0;32m      6\u001b[0m     \u001b[0mitem_tuple\u001b[0m \u001b[1;33m=\u001b[0m \u001b[1;33m(\u001b[0m\u001b[0mit\u001b[0m\u001b[1;33m,\u001b[0m \u001b[0mitem_fe\u001b[0m\u001b[1;33m)\u001b[0m\u001b[1;33m\u001b[0m\u001b[1;33m\u001b[0m\u001b[0m\n\u001b[0;32m      7\u001b[0m     \u001b[0mitem_features\u001b[0m\u001b[1;33m.\u001b[0m\u001b[0mappend\u001b[0m\u001b[1;33m(\u001b[0m\u001b[0mitem_tuple\u001b[0m\u001b[1;33m)\u001b[0m\u001b[1;33m\u001b[0m\u001b[1;33m\u001b[0m\u001b[0m\n\u001b[1;32m----> 8\u001b[1;33m \u001b[0mitem_features\u001b[0m \u001b[1;33m=\u001b[0m \u001b[0msparse\u001b[0m\u001b[1;33m.\u001b[0m\u001b[0mcsr_matrix\u001b[0m\u001b[1;33m(\u001b[0m\u001b[0mitem_features\u001b[0m\u001b[1;33m)\u001b[0m\u001b[1;33m\u001b[0m\u001b[1;33m\u001b[0m\u001b[0m\n\u001b[0m\u001b[0;32m      9\u001b[0m \u001b[1;33m\u001b[0m\u001b[0m\n",
      "\u001b[1;32m~\\anaconda3\\lib\\site-packages\\scipy\\sparse\\compressed.py\u001b[0m in \u001b[0;36m__init__\u001b[1;34m(self, arg1, shape, dtype, copy)\u001b[0m\n\u001b[0;32m     84\u001b[0m                                  \"\".format(self.format)) from e\n\u001b[0;32m     85\u001b[0m             \u001b[1;32mfrom\u001b[0m \u001b[1;33m.\u001b[0m\u001b[0mcoo\u001b[0m \u001b[1;32mimport\u001b[0m \u001b[0mcoo_matrix\u001b[0m\u001b[1;33m\u001b[0m\u001b[1;33m\u001b[0m\u001b[0m\n\u001b[1;32m---> 86\u001b[1;33m             \u001b[0mself\u001b[0m\u001b[1;33m.\u001b[0m\u001b[0m_set_self\u001b[0m\u001b[1;33m(\u001b[0m\u001b[0mself\u001b[0m\u001b[1;33m.\u001b[0m\u001b[0m__class__\u001b[0m\u001b[1;33m(\u001b[0m\u001b[0mcoo_matrix\u001b[0m\u001b[1;33m(\u001b[0m\u001b[0marg1\u001b[0m\u001b[1;33m,\u001b[0m \u001b[0mdtype\u001b[0m\u001b[1;33m=\u001b[0m\u001b[0mdtype\u001b[0m\u001b[1;33m)\u001b[0m\u001b[1;33m)\u001b[0m\u001b[1;33m)\u001b[0m\u001b[1;33m\u001b[0m\u001b[1;33m\u001b[0m\u001b[0m\n\u001b[0m\u001b[0;32m     87\u001b[0m \u001b[1;33m\u001b[0m\u001b[0m\n\u001b[0;32m     88\u001b[0m         \u001b[1;31m# Read matrix dimensions given, if any\u001b[0m\u001b[1;33m\u001b[0m\u001b[1;33m\u001b[0m\u001b[1;33m\u001b[0m\u001b[0m\n",
      "\u001b[1;32m~\\anaconda3\\lib\\site-packages\\scipy\\sparse\\compressed.py\u001b[0m in \u001b[0;36m__init__\u001b[1;34m(self, arg1, shape, dtype, copy)\u001b[0m\n\u001b[0;32m     32\u001b[0m                 \u001b[0marg1\u001b[0m \u001b[1;33m=\u001b[0m \u001b[0marg1\u001b[0m\u001b[1;33m.\u001b[0m\u001b[0mcopy\u001b[0m\u001b[1;33m(\u001b[0m\u001b[1;33m)\u001b[0m\u001b[1;33m\u001b[0m\u001b[1;33m\u001b[0m\u001b[0m\n\u001b[0;32m     33\u001b[0m             \u001b[1;32melse\u001b[0m\u001b[1;33m:\u001b[0m\u001b[1;33m\u001b[0m\u001b[1;33m\u001b[0m\u001b[0m\n\u001b[1;32m---> 34\u001b[1;33m                 \u001b[0marg1\u001b[0m \u001b[1;33m=\u001b[0m \u001b[0marg1\u001b[0m\u001b[1;33m.\u001b[0m\u001b[0masformat\u001b[0m\u001b[1;33m(\u001b[0m\u001b[0mself\u001b[0m\u001b[1;33m.\u001b[0m\u001b[0mformat\u001b[0m\u001b[1;33m)\u001b[0m\u001b[1;33m\u001b[0m\u001b[1;33m\u001b[0m\u001b[0m\n\u001b[0m\u001b[0;32m     35\u001b[0m             \u001b[0mself\u001b[0m\u001b[1;33m.\u001b[0m\u001b[0m_set_self\u001b[0m\u001b[1;33m(\u001b[0m\u001b[0marg1\u001b[0m\u001b[1;33m)\u001b[0m\u001b[1;33m\u001b[0m\u001b[1;33m\u001b[0m\u001b[0m\n\u001b[0;32m     36\u001b[0m \u001b[1;33m\u001b[0m\u001b[0m\n",
      "\u001b[1;32m~\\anaconda3\\lib\\site-packages\\scipy\\sparse\\base.py\u001b[0m in \u001b[0;36masformat\u001b[1;34m(self, format, copy)\u001b[0m\n\u001b[0;32m    322\u001b[0m                 \u001b[1;32mreturn\u001b[0m \u001b[0mconvert_method\u001b[0m\u001b[1;33m(\u001b[0m\u001b[0mcopy\u001b[0m\u001b[1;33m=\u001b[0m\u001b[0mcopy\u001b[0m\u001b[1;33m)\u001b[0m\u001b[1;33m\u001b[0m\u001b[1;33m\u001b[0m\u001b[0m\n\u001b[0;32m    323\u001b[0m             \u001b[1;32mexcept\u001b[0m \u001b[0mTypeError\u001b[0m\u001b[1;33m:\u001b[0m\u001b[1;33m\u001b[0m\u001b[1;33m\u001b[0m\u001b[0m\n\u001b[1;32m--> 324\u001b[1;33m                 \u001b[1;32mreturn\u001b[0m \u001b[0mconvert_method\u001b[0m\u001b[1;33m(\u001b[0m\u001b[1;33m)\u001b[0m\u001b[1;33m\u001b[0m\u001b[1;33m\u001b[0m\u001b[0m\n\u001b[0m\u001b[0;32m    325\u001b[0m \u001b[1;33m\u001b[0m\u001b[0m\n\u001b[0;32m    326\u001b[0m     \u001b[1;31m###################################################################\u001b[0m\u001b[1;33m\u001b[0m\u001b[1;33m\u001b[0m\u001b[1;33m\u001b[0m\u001b[0m\n",
      "\u001b[1;32m~\\anaconda3\\lib\\site-packages\\scipy\\sparse\\coo.py\u001b[0m in \u001b[0;36mtocsr\u001b[1;34m(self, copy)\u001b[0m\n\u001b[0;32m    402\u001b[0m             \u001b[0mindptr\u001b[0m \u001b[1;33m=\u001b[0m \u001b[0mnp\u001b[0m\u001b[1;33m.\u001b[0m\u001b[0mempty\u001b[0m\u001b[1;33m(\u001b[0m\u001b[0mM\u001b[0m \u001b[1;33m+\u001b[0m \u001b[1;36m1\u001b[0m\u001b[1;33m,\u001b[0m \u001b[0mdtype\u001b[0m\u001b[1;33m=\u001b[0m\u001b[0midx_dtype\u001b[0m\u001b[1;33m)\u001b[0m\u001b[1;33m\u001b[0m\u001b[1;33m\u001b[0m\u001b[0m\n\u001b[0;32m    403\u001b[0m             \u001b[0mindices\u001b[0m \u001b[1;33m=\u001b[0m \u001b[0mnp\u001b[0m\u001b[1;33m.\u001b[0m\u001b[0mempty_like\u001b[0m\u001b[1;33m(\u001b[0m\u001b[0mcol\u001b[0m\u001b[1;33m,\u001b[0m \u001b[0mdtype\u001b[0m\u001b[1;33m=\u001b[0m\u001b[0midx_dtype\u001b[0m\u001b[1;33m)\u001b[0m\u001b[1;33m\u001b[0m\u001b[1;33m\u001b[0m\u001b[0m\n\u001b[1;32m--> 404\u001b[1;33m             \u001b[0mdata\u001b[0m \u001b[1;33m=\u001b[0m \u001b[0mnp\u001b[0m\u001b[1;33m.\u001b[0m\u001b[0mempty_like\u001b[0m\u001b[1;33m(\u001b[0m\u001b[0mself\u001b[0m\u001b[1;33m.\u001b[0m\u001b[0mdata\u001b[0m\u001b[1;33m,\u001b[0m \u001b[0mdtype\u001b[0m\u001b[1;33m=\u001b[0m\u001b[0mupcast\u001b[0m\u001b[1;33m(\u001b[0m\u001b[0mself\u001b[0m\u001b[1;33m.\u001b[0m\u001b[0mdtype\u001b[0m\u001b[1;33m)\u001b[0m\u001b[1;33m)\u001b[0m\u001b[1;33m\u001b[0m\u001b[1;33m\u001b[0m\u001b[0m\n\u001b[0m\u001b[0;32m    405\u001b[0m \u001b[1;33m\u001b[0m\u001b[0m\n\u001b[0;32m    406\u001b[0m             coo_tocsr(M, N, self.nnz, row, col, self.data,\n",
      "\u001b[1;32m~\\anaconda3\\lib\\site-packages\\scipy\\sparse\\sputils.py\u001b[0m in \u001b[0;36mupcast\u001b[1;34m(*args)\u001b[0m\n\u001b[0;32m     49\u001b[0m             \u001b[1;32mreturn\u001b[0m \u001b[0mt\u001b[0m\u001b[1;33m\u001b[0m\u001b[1;33m\u001b[0m\u001b[0m\n\u001b[0;32m     50\u001b[0m \u001b[1;33m\u001b[0m\u001b[0m\n\u001b[1;32m---> 51\u001b[1;33m     \u001b[1;32mraise\u001b[0m \u001b[0mTypeError\u001b[0m\u001b[1;33m(\u001b[0m\u001b[1;34m'no supported conversion for types: %r'\u001b[0m \u001b[1;33m%\u001b[0m \u001b[1;33m(\u001b[0m\u001b[0margs\u001b[0m\u001b[1;33m,\u001b[0m\u001b[1;33m)\u001b[0m\u001b[1;33m)\u001b[0m\u001b[1;33m\u001b[0m\u001b[1;33m\u001b[0m\u001b[0m\n\u001b[0m\u001b[0;32m     52\u001b[0m \u001b[1;33m\u001b[0m\u001b[0m\n\u001b[0;32m     53\u001b[0m \u001b[1;33m\u001b[0m\u001b[0m\n",
      "\u001b[1;31mTypeError\u001b[0m: no supported conversion for types: (dtype('O'),)"
     ]
    }
   ],
   "source": [
    "item_features = []\n",
    "for i, it in enumerate(data['itemid']):\n",
    "    item_fe = []\n",
    "    for fe in ['rank', 'price', 'image_x', 'Brand Encoded', 'Title Encoded', 'Main Cat Encoded']:\n",
    "        item_fe.append(data.iloc[i][fe])\n",
    "    item_tuple = (it, item_fe)\n",
    "    item_features.append(item_tuple)\n",
    "item_features = sparse.csr_matrix(item_features)\n",
    "    "
   ]
  },
  {
   "cell_type": "code",
   "execution_count": 67,
   "id": "6bd9be8a",
   "metadata": {},
   "outputs": [],
   "source": [
    "#item_features = sparse.coo_matrix(item_features)"
   ]
  },
  {
   "cell_type": "code",
   "execution_count": 65,
   "id": "b235e87b",
   "metadata": {},
   "outputs": [],
   "source": [
    "a = sparse.coo_matrix(a)"
   ]
  },
  {
   "cell_type": "code",
   "execution_count": 68,
   "id": "70bca1a8",
   "metadata": {},
   "outputs": [
    {
     "ename": "TypeError",
     "evalue": "no supported conversion for types: (dtype('O'),)",
     "output_type": "error",
     "traceback": [
      "\u001b[1;31m---------------------------------------------------------------------------\u001b[0m",
      "\u001b[1;31mTypeError\u001b[0m                                 Traceback (most recent call last)",
      "\u001b[1;32m<ipython-input-68-ab94363a20f6>\u001b[0m in \u001b[0;36m<module>\u001b[1;34m\u001b[0m\n\u001b[0;32m      5\u001b[0m \u001b[1;31m# Fit the hybrid model. Note that this time, we pass\u001b[0m\u001b[1;33m\u001b[0m\u001b[1;33m\u001b[0m\u001b[1;33m\u001b[0m\u001b[0m\n\u001b[0;32m      6\u001b[0m \u001b[1;31m# in the item features matrix.\u001b[0m\u001b[1;33m\u001b[0m\u001b[1;33m\u001b[0m\u001b[1;33m\u001b[0m\u001b[0m\n\u001b[1;32m----> 7\u001b[1;33m model = model.fit(\n\u001b[0m\u001b[0;32m      8\u001b[0m     \u001b[0mratings_coo\u001b[0m\u001b[1;33m,\u001b[0m\u001b[1;33m\u001b[0m\u001b[1;33m\u001b[0m\u001b[0m\n\u001b[0;32m      9\u001b[0m     \u001b[0mitem_features\u001b[0m\u001b[1;33m=\u001b[0m\u001b[0mitem_features\u001b[0m\u001b[1;33m,\u001b[0m\u001b[1;31m# (np.float32 csr_matrix of shape [n_items, n_item_features], optional) – Each row contains that item’s weights over features.\u001b[0m\u001b[1;33m\u001b[0m\u001b[1;33m\u001b[0m\u001b[0m\n",
      "\u001b[1;32m~\\anaconda3\\lib\\site-packages\\lightfm\\lightfm.py\u001b[0m in \u001b[0;36mfit\u001b[1;34m(self, interactions, user_features, item_features, sample_weight, epochs, num_threads, verbose)\u001b[0m\n\u001b[0;32m    531\u001b[0m         \u001b[0mself\u001b[0m\u001b[1;33m.\u001b[0m\u001b[0m_reset_state\u001b[0m\u001b[1;33m(\u001b[0m\u001b[1;33m)\u001b[0m\u001b[1;33m\u001b[0m\u001b[1;33m\u001b[0m\u001b[0m\n\u001b[0;32m    532\u001b[0m \u001b[1;33m\u001b[0m\u001b[0m\n\u001b[1;32m--> 533\u001b[1;33m         return self.fit_partial(\n\u001b[0m\u001b[0;32m    534\u001b[0m             \u001b[0minteractions\u001b[0m\u001b[1;33m,\u001b[0m\u001b[1;33m\u001b[0m\u001b[1;33m\u001b[0m\u001b[0m\n\u001b[0;32m    535\u001b[0m             \u001b[0muser_features\u001b[0m\u001b[1;33m=\u001b[0m\u001b[0muser_features\u001b[0m\u001b[1;33m,\u001b[0m\u001b[1;33m\u001b[0m\u001b[1;33m\u001b[0m\u001b[0m\n",
      "\u001b[1;32m~\\anaconda3\\lib\\site-packages\\lightfm\\lightfm.py\u001b[0m in \u001b[0;36mfit_partial\u001b[1;34m(self, interactions, user_features, item_features, sample_weight, epochs, num_threads, verbose)\u001b[0m\n\u001b[0;32m    606\u001b[0m \u001b[1;33m\u001b[0m\u001b[0m\n\u001b[0;32m    607\u001b[0m         \u001b[0mn_users\u001b[0m\u001b[1;33m,\u001b[0m \u001b[0mn_items\u001b[0m \u001b[1;33m=\u001b[0m \u001b[0minteractions\u001b[0m\u001b[1;33m.\u001b[0m\u001b[0mshape\u001b[0m\u001b[1;33m\u001b[0m\u001b[1;33m\u001b[0m\u001b[0m\n\u001b[1;32m--> 608\u001b[1;33m         (user_features, item_features) = self._construct_feature_matrices(\n\u001b[0m\u001b[0;32m    609\u001b[0m             \u001b[0mn_users\u001b[0m\u001b[1;33m,\u001b[0m \u001b[0mn_items\u001b[0m\u001b[1;33m,\u001b[0m \u001b[0muser_features\u001b[0m\u001b[1;33m,\u001b[0m \u001b[0mitem_features\u001b[0m\u001b[1;33m\u001b[0m\u001b[1;33m\u001b[0m\u001b[0m\n\u001b[0;32m    610\u001b[0m         )\n",
      "\u001b[1;32m~\\anaconda3\\lib\\site-packages\\lightfm\\lightfm.py\u001b[0m in \u001b[0;36m_construct_feature_matrices\u001b[1;34m(self, n_users, n_items, user_features, item_features)\u001b[0m\n\u001b[0;32m    307\u001b[0m             \u001b[0mitem_features\u001b[0m \u001b[1;33m=\u001b[0m \u001b[0msp\u001b[0m\u001b[1;33m.\u001b[0m\u001b[0midentity\u001b[0m\u001b[1;33m(\u001b[0m\u001b[0mn_items\u001b[0m\u001b[1;33m,\u001b[0m \u001b[0mdtype\u001b[0m\u001b[1;33m=\u001b[0m\u001b[0mCYTHON_DTYPE\u001b[0m\u001b[1;33m,\u001b[0m \u001b[0mformat\u001b[0m\u001b[1;33m=\u001b[0m\u001b[1;34m\"csr\"\u001b[0m\u001b[1;33m)\u001b[0m\u001b[1;33m\u001b[0m\u001b[1;33m\u001b[0m\u001b[0m\n\u001b[0;32m    308\u001b[0m         \u001b[1;32melse\u001b[0m\u001b[1;33m:\u001b[0m\u001b[1;33m\u001b[0m\u001b[1;33m\u001b[0m\u001b[0m\n\u001b[1;32m--> 309\u001b[1;33m             \u001b[0mitem_features\u001b[0m \u001b[1;33m=\u001b[0m \u001b[0mitem_features\u001b[0m\u001b[1;33m.\u001b[0m\u001b[0mtocsr\u001b[0m\u001b[1;33m(\u001b[0m\u001b[1;33m)\u001b[0m\u001b[1;33m\u001b[0m\u001b[1;33m\u001b[0m\u001b[0m\n\u001b[0m\u001b[0;32m    310\u001b[0m \u001b[1;33m\u001b[0m\u001b[0m\n\u001b[0;32m    311\u001b[0m         \u001b[1;32mif\u001b[0m \u001b[0mn_users\u001b[0m \u001b[1;33m>\u001b[0m \u001b[0muser_features\u001b[0m\u001b[1;33m.\u001b[0m\u001b[0mshape\u001b[0m\u001b[1;33m[\u001b[0m\u001b[1;36m0\u001b[0m\u001b[1;33m]\u001b[0m\u001b[1;33m:\u001b[0m\u001b[1;33m\u001b[0m\u001b[1;33m\u001b[0m\u001b[0m\n",
      "\u001b[1;32m~\\anaconda3\\lib\\site-packages\\scipy\\sparse\\coo.py\u001b[0m in \u001b[0;36mtocsr\u001b[1;34m(self, copy)\u001b[0m\n\u001b[0;32m    402\u001b[0m             \u001b[0mindptr\u001b[0m \u001b[1;33m=\u001b[0m \u001b[0mnp\u001b[0m\u001b[1;33m.\u001b[0m\u001b[0mempty\u001b[0m\u001b[1;33m(\u001b[0m\u001b[0mM\u001b[0m \u001b[1;33m+\u001b[0m \u001b[1;36m1\u001b[0m\u001b[1;33m,\u001b[0m \u001b[0mdtype\u001b[0m\u001b[1;33m=\u001b[0m\u001b[0midx_dtype\u001b[0m\u001b[1;33m)\u001b[0m\u001b[1;33m\u001b[0m\u001b[1;33m\u001b[0m\u001b[0m\n\u001b[0;32m    403\u001b[0m             \u001b[0mindices\u001b[0m \u001b[1;33m=\u001b[0m \u001b[0mnp\u001b[0m\u001b[1;33m.\u001b[0m\u001b[0mempty_like\u001b[0m\u001b[1;33m(\u001b[0m\u001b[0mcol\u001b[0m\u001b[1;33m,\u001b[0m \u001b[0mdtype\u001b[0m\u001b[1;33m=\u001b[0m\u001b[0midx_dtype\u001b[0m\u001b[1;33m)\u001b[0m\u001b[1;33m\u001b[0m\u001b[1;33m\u001b[0m\u001b[0m\n\u001b[1;32m--> 404\u001b[1;33m             \u001b[0mdata\u001b[0m \u001b[1;33m=\u001b[0m \u001b[0mnp\u001b[0m\u001b[1;33m.\u001b[0m\u001b[0mempty_like\u001b[0m\u001b[1;33m(\u001b[0m\u001b[0mself\u001b[0m\u001b[1;33m.\u001b[0m\u001b[0mdata\u001b[0m\u001b[1;33m,\u001b[0m \u001b[0mdtype\u001b[0m\u001b[1;33m=\u001b[0m\u001b[0mupcast\u001b[0m\u001b[1;33m(\u001b[0m\u001b[0mself\u001b[0m\u001b[1;33m.\u001b[0m\u001b[0mdtype\u001b[0m\u001b[1;33m)\u001b[0m\u001b[1;33m)\u001b[0m\u001b[1;33m\u001b[0m\u001b[1;33m\u001b[0m\u001b[0m\n\u001b[0m\u001b[0;32m    405\u001b[0m \u001b[1;33m\u001b[0m\u001b[0m\n\u001b[0;32m    406\u001b[0m             coo_tocsr(M, N, self.nnz, row, col, self.data,\n",
      "\u001b[1;32m~\\anaconda3\\lib\\site-packages\\scipy\\sparse\\sputils.py\u001b[0m in \u001b[0;36mupcast\u001b[1;34m(*args)\u001b[0m\n\u001b[0;32m     49\u001b[0m             \u001b[1;32mreturn\u001b[0m \u001b[0mt\u001b[0m\u001b[1;33m\u001b[0m\u001b[1;33m\u001b[0m\u001b[0m\n\u001b[0;32m     50\u001b[0m \u001b[1;33m\u001b[0m\u001b[0m\n\u001b[1;32m---> 51\u001b[1;33m     \u001b[1;32mraise\u001b[0m \u001b[0mTypeError\u001b[0m\u001b[1;33m(\u001b[0m\u001b[1;34m'no supported conversion for types: %r'\u001b[0m \u001b[1;33m%\u001b[0m \u001b[1;33m(\u001b[0m\u001b[0margs\u001b[0m\u001b[1;33m,\u001b[0m\u001b[1;33m)\u001b[0m\u001b[1;33m)\u001b[0m\u001b[1;33m\u001b[0m\u001b[1;33m\u001b[0m\u001b[0m\n\u001b[0m\u001b[0;32m     52\u001b[0m \u001b[1;33m\u001b[0m\u001b[0m\n\u001b[0;32m     53\u001b[0m \u001b[1;33m\u001b[0m\u001b[0m\n",
      "\u001b[1;31mTypeError\u001b[0m: no supported conversion for types: (dtype('O'),)"
     ]
    }
   ],
   "source": [
    "model = LightFM(loss='warp',\n",
    "               # item_alpha=ITEM_ALPHA,\n",
    "                no_components=NUM_COMPONENTS)\n",
    "\n",
    "# Fit the hybrid model. Note that this time, we pass\n",
    "# in the item features matrix.\n",
    "model = model.fit(\n",
    "    ratings_coo,\n",
    "    item_features=item_features,# (np.float32 csr_matrix of shape [n_items, n_item_features], optional) – Each row contains that item’s weights over features.\n",
    "    epochs=NUM_EPOCHS,\n",
    "    num_threads=NUM_THREADS)"
   ]
  },
  {
   "cell_type": "code",
   "execution_count": null,
   "id": "87bc0309",
   "metadata": {},
   "outputs": [],
   "source": [
    "a = 5\n"
   ]
  }
 ],
 "metadata": {
  "kernelspec": {
   "display_name": "Python 3",
   "language": "python",
   "name": "python3"
  },
  "language_info": {
   "codemirror_mode": {
    "name": "ipython",
    "version": 3
   },
   "file_extension": ".py",
   "mimetype": "text/x-python",
   "name": "python",
   "nbconvert_exporter": "python",
   "pygments_lexer": "ipython3",
   "version": "3.8.8"
  }
 },
 "nbformat": 4,
 "nbformat_minor": 5
}
